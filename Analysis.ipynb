{
 "cells": [
  {
   "cell_type": "markdown",
   "id": "ad0b1d49-caa2-4bf7-b5e6-c65ab1dd2f59",
   "metadata": {},
   "source": [
    "# greenwashing_top Project 1\n",
    "\n",
    "**Project 1:** Private jet pollution attribution\n",
    "\n",
    "This project aims to increase awareness of the imbalance between individuals relative to pollution to the planet.\n",
    "\n",
    "\n",
    ">In a world were the future is darker, [_los nadies_](http://rizoma-freireano.org/poema2727/los-nadies-eduardo-galeano) are requested to use less the car, use ventilators instead of ACs, fly less, etc. \n",
    "> while those tho think are someone contribure more everytime to the global warming. \n",
    "\n",
    ">Sueñan las pulgas con comprarse un perro\n",
    ">\n",
    ">y sueñan los nadies con salir de pobres,\n",
    ">\n",
    ">que algún mágico día\n",
    ">\n",
    ">llueva de pronto la buena suerte,\n",
    ">\n",
    ">que llueva a cántaros la buena suerte;\n",
    ">\n",
    ">pero la buena suerte no llueve ayer,\n",
    ">\n",
    ">ni hoy, ni mañana, ni nunca,\n",
    ">\n",
    ">ni en lloviznita cae del cielo la buena suerte,\n",
    ">\n",
    ">por mucho que los nadies la llamen\n",
    ">\n",
    ">y aunque les pique la mano izquierda,\n",
    ">\n",
    ">o se levanten con el pie derecho,\n",
    ">\n",
    ">o empiecen el año cambiando de escoba.\n",
    ">\n",
    ">\n",
    ">Los nadies: los hijos de nadie, los dueños de nada.\n",
    ">\n",
    ">Los nadies: los ningunos, los ninguneados,\n",
    ">\n",
    ">corriendo la liebre, muriendo la vida, jodidos, rejodidos:\n",
    "> \n",
    ">Que no son, aunque sean.\n",
    ">\n",
    ">Que no hablan idiomas, sino dialectos.\n",
    ">\n",
    ">Que no profesan religiones, sino supersticiones.\n",
    ">\n",
    ">Que no hacen arte, sino artesanía.\n",
    ">\n",
    ">Que no practican cultura, sino folclore.\n",
    ">\n",
    ">Que no son seres humanos, sino recursos humanos.\n",
    ">\n",
    ">Que no tienen cara, sino brazos.\n",
    ">\n",
    ">Que no tienen nombre, sino número.\n",
    ">\n",
    ">Que no figuran en la historia universal,\n",
    ">\n",
    ">sino en la crónica roja de la prensa local.\n",
    ">\n",
    ">\n",
    ">Los nadies que cuestan menos que la bala que los mata."
   ]
  },
  {
   "cell_type": "markdown",
   "id": "94a3e498-fa66-4d7d-87ec-69ab52584889",
   "metadata": {},
   "source": [
    "### TODO\n",
    "\n",
    "* [ ] Better ownership attribution https://www.celebrityaircraft.com/aircraft/celebrity/aircraft.html?3876=1246  and https://www.superyachtfan.com/private-jet/owner/ or https://www.jetphotos.com/photo/10027903 (in notes, messi's) (private jets renting https://centraljets.com/plane)  https://www.flightdb.net/index.php https://www.planelogger.com/\n",
    "* [x] Streamlit app (interactive, you can select citizen's country to compare to). Just read from aggregates\n",
    "* [x] Idenfity jets and filter-out others (comercial, small...)\n",
    "* [x] Increase aircraft types\n",
    "* [ ] Get more data from adsbexchange\n",
    "* [x] Test other data sources for data --> openSky is not that fiable...\n",
    "* [ ] Twitter bot https://developer.twitter.com/en/docs/tutorials/how-to-create-a-twitter-bot-with-twitter-api-v2\n",
    "* [ ] Improve co2 calculation since there might be a lot of places with no data... Use time diff between ground ticks?\n",
    "* [ ] Detect and fix aircraft types with no co2 equivalent value\n",
    "\n",
    "For App:\n",
    "* [ ] Allow selection of countries to compare to\n",
    "* [ ] Change metrics of co2 generated per year to equals to X citizens (per day?, per flight time?)\n",
    "* [x] Increase selection of countries and continents in app\n",
    "* [ ] Improve categorization of owners. _I.e._: Leo Messi has categories _football_ and _argentina_\n",
    "\n",
    "#### Future\n",
    "\n",
    "Include superyatch's \n",
    "\n",
    "* https://blogs.unimelb.edu.au/sciencecommunication/2019/10/06/how-to-calculate-a-superyachts-carbon-footprint/\n",
    "* https://www.superyachtfan.com/yacht-owners/\n",
    "\n",
    "### Attribution and sources\n",
    "* `countries_with_regional_codes.csv` License: CC BY SA https://github.com/lukes/ISO-3166-Countries-with-Regional-Codes\n",
    "* `registration_country_code_prefix.csv` License: ? https://www.cia.gov/the-world-factbook/field/civil-aircraft-registration-country-code-prefix/"
   ]
  },
  {
   "cell_type": "code",
   "execution_count": 2,
   "id": "bf413255-d963-4971-a9cf-2b6d4b8e07db",
   "metadata": {},
   "outputs": [
    {
     "name": "stdout",
     "output_type": "stream",
     "text": [
      "[sudo] password for marti: \n"
     ]
    }
   ],
   "source": [
    "!#sudo apt install --yes libkrb5-dev"
   ]
  },
  {
   "cell_type": "code",
   "execution_count": null,
   "id": "1c1232f6",
   "metadata": {},
   "outputs": [],
   "source": [
    "!pip install sparkmagic geopy pyarrow pandas plotly"
   ]
  },
  {
   "cell_type": "code",
   "execution_count": 1,
   "id": "21f34e14-e969-4869-ac6a-1cd6db127a56",
   "metadata": {},
   "outputs": [],
   "source": [
    "HDD_DATA = \"/mnt/d/adsb_data\"\n",
    "SSD_DATA = \"/home/marti/greenwashing/data\""
   ]
  },
  {
   "cell_type": "code",
   "execution_count": 2,
   "id": "d578a0ee",
   "metadata": {},
   "outputs": [
    {
     "name": "stdout",
     "output_type": "stream",
     "text": [
      "22/09/24 19:38:22 WARN Utils: Your hostname, feynman resolves to a loopback address: 127.0.1.1; using 172.18.93.200 instead (on interface eth0)\n",
      "22/09/24 19:38:22 WARN Utils: Set SPARK_LOCAL_IP if you need to bind to another address\n",
      ":: loading settings :: url = jar:file:/mnt/d/adsb_data/venv/lib/python3.9/site-packages/pyspark/jars/ivy-2.5.0.jar!/org/apache/ivy/core/settings/ivysettings.xml\n"
     ]
    },
    {
     "name": "stderr",
     "output_type": "stream",
     "text": [
      "Ivy Default Cache set to: /home/marti/.ivy2/cache\n",
      "The jars for the packages stored in: /home/marti/.ivy2/jars\n",
      "org.apache.spark#spark-avro_2.12 added as a dependency\n",
      ":: resolving dependencies :: org.apache.spark#spark-submit-parent-3ae1453c-5685-4784-b551-d931d69b71c7;1.0\n",
      "\tconfs: [default]\n",
      "\tfound org.apache.spark#spark-avro_2.12;3.3.0 in central\n",
      "\tfound org.tukaani#xz;1.8 in central\n",
      "\tfound org.spark-project.spark#unused;1.0.0 in central\n",
      ":: resolution report :: resolve 140ms :: artifacts dl 3ms\n",
      "\t:: modules in use:\n",
      "\torg.apache.spark#spark-avro_2.12;3.3.0 from central in [default]\n",
      "\torg.spark-project.spark#unused;1.0.0 from central in [default]\n",
      "\torg.tukaani#xz;1.8 from central in [default]\n",
      "\t---------------------------------------------------------------------\n",
      "\t|                  |            modules            ||   artifacts   |\n",
      "\t|       conf       | number| search|dwnlded|evicted|| number|dwnlded|\n",
      "\t---------------------------------------------------------------------\n",
      "\t|      default     |   3   |   0   |   0   |   0   ||   3   |   0   |\n",
      "\t---------------------------------------------------------------------\n",
      ":: retrieving :: org.apache.spark#spark-submit-parent-3ae1453c-5685-4784-b551-d931d69b71c7\n",
      "\tconfs: [default]\n",
      "\t0 artifacts copied, 3 already retrieved (0kB/3ms)\n"
     ]
    },
    {
     "name": "stdout",
     "output_type": "stream",
     "text": [
      "22/09/24 19:38:23 WARN NativeCodeLoader: Unable to load native-hadoop library for your platform... using builtin-java classes where applicable\n"
     ]
    },
    {
     "name": "stderr",
     "output_type": "stream",
     "text": [
      "Setting default log level to \"WARN\".\n",
      "To adjust logging level use sc.setLogLevel(newLevel). For SparkR, use setLogLevel(newLevel).\n"
     ]
    },
    {
     "data": {
      "text/html": [
       "\n",
       "            <div>\n",
       "                <p><b>SparkSession - in-memory</b></p>\n",
       "                \n",
       "        <div>\n",
       "            <p><b>SparkContext</b></p>\n",
       "\n",
       "            <p><a href=\"http://172.18.93.200:4040\">Spark UI</a></p>\n",
       "\n",
       "            <dl>\n",
       "              <dt>Version</dt>\n",
       "                <dd><code>v3.3.0</code></dd>\n",
       "              <dt>Master</dt>\n",
       "                <dd><code>local[*]</code></dd>\n",
       "              <dt>AppName</dt>\n",
       "                <dd><code>Greenwashing</code></dd>\n",
       "            </dl>\n",
       "        </div>\n",
       "        \n",
       "            </div>\n",
       "        "
      ],
      "text/plain": [
       "<pyspark.sql.session.SparkSession at 0x7f5ebf5130d0>"
      ]
     },
     "execution_count": 2,
     "metadata": {},
     "output_type": "execute_result"
    }
   ],
   "source": [
    "from utils import *\n",
    "from pyspark.sql import SparkSession\n",
    "from pyspark.sql.functions import *\n",
    "\n",
    "spark = SparkSession.builder \\\n",
    "    .master(\"local[*]\") \\\n",
    "    .appName(\"Greenwashing\") \\\n",
    "    .config('spark.jars.packages', 'org.apache.spark:spark-avro_2.12:3.3.0')\\\n",
    "    .config(\"spark.driver.memory\",\"48g\") \\\n",
    "    .config(\"spark.driver.maxResultSize\", 1024*1024*1042*4)\\\n",
    "    .config('spark.sql.shuffle.partitions',300)\\\n",
    "    .config('spark.worker.cleanup.enabled', 'True')\\\n",
    "    .config(\"spark.sql.session.timeZone\", \"UTC\")\\\n",
    "    .getOrCreate()\n",
    "spark"
   ]
  },
  {
   "cell_type": "markdown",
   "id": "9f95cd59-bbff-4a8d-b951-b1e96e348b3c",
   "metadata": {
    "tags": []
   },
   "source": [
    "### Clean data"
   ]
  },
  {
   "cell_type": "raw",
   "id": "7c4fe2eb-b8ae-4dc4-a4ec-561bcb185f92",
   "metadata": {},
   "source": [
    "months=('01' '02' '03' '04' '06' '07' '08' '09' )\n",
    "for m in \"${months[@]}\"; do \n",
    "  folder=\"date=2022$m01\"\n",
    "  mkdir -p \"$folder\"\n",
    "  wget -r \"https://samples.adsbexchange.com/readsb-hist/2022/$m/01/\" -P \"$folder\"\n",
    "  rm \"$folder/index.html\"\n",
    "done"
   ]
  },
  {
   "cell_type": "code",
   "execution_count": 3,
   "id": "8f2a8fbd-e9a3-4ac6-8565-c0ef43d1e84d",
   "metadata": {},
   "outputs": [],
   "source": [
    "def clean_traces(source: str = \"traces/*\", output: str = \"traces-compress\", partitions: int = 64):\n",
    "    df = spark.read.option(\"multiLine\", True).json(source)\n",
    "    base_cols = [col(c) for c in [\"r\", \"icao\", \"timestamp\"] if c != \"trace\"]\n",
    "    exploded_traces = df.select(*base_cols, explode(\"trace\").alias(\"tr\"))\n",
    "    object_schema = schema_of_json(\n",
    "        exploded_traces.select(col(\"tr\").getItem(8).alias(\"object_raw\")).where(\"object_raw is not null\").head()[0]\n",
    "    )\n",
    "    alt_col = col(\"tr\").getItem(3)\n",
    "    traces = exploded_traces.select(\n",
    "        *base_cols,\n",
    "        col(\"tr\").getItem(0).alias(\"s_after_ts\"),\n",
    "        col(\"tr\").getItem(1).alias(\"lat\"),\n",
    "        col(\"tr\").getItem(2).alias(\"lon\"),\n",
    "        when(alt_col != 'ground', alt_col).otherwise(0).alias(\"altitude_ft\"),\n",
    "        col(\"tr\").getItem(4).alias(\"gs_knots\"),\n",
    "        col(\"tr\").getItem(5).alias(\"track\"),\n",
    "        col(\"tr\").getItem(6).alias(\"flags\"),\n",
    "        col(\"tr\").getItem(7).alias(\"vertical_rate\"),\n",
    "        from_json(col(\"tr\").getItem(8), object_schema).alias(\"object\"),\n",
    "    )\n",
    "    \n",
    "    traces.sort([\"r\", \"s_after_ts\"]).coalesce(partitions).\\\n",
    "      write.format(\"parquet\").mode(\"overwrite\").save(output)"
   ]
  },
  {
   "cell_type": "code",
   "execution_count": null,
   "id": "f30ba7ec-8fab-4409-aada-a5fbc0110551",
   "metadata": {},
   "outputs": [],
   "source": [
    "#clean_traces(source=\"readsb-hist\", output=\"readsb-compress\")"
   ]
  },
  {
   "cell_type": "code",
   "execution_count": 3,
   "id": "dd9aff9e-0e63-4fae-97ee-b8e099533576",
   "metadata": {},
   "outputs": [],
   "source": [
    "def clean_readadsb(source: str = \"readsb-hist/*\", output: str = \"readsb-compress\", partitions: int = 32):\n",
    "    adsb_hist = spark.read.option(\"multiLine\", True).json(source)\n",
    "    exploded = adsb_hist.select(col(\"now\"), explode(\"aircraft\").alias(\"tick\")).select(\"now\", \"tick.*\")\n",
    "    exploded.sort([\"r\", \"now\"]).coalesce(partitions).\\\n",
    "      write.format(\"parquet\").mode(\"overwrite\").save(output)\n",
    "    "
   ]
  },
  {
   "cell_type": "code",
   "execution_count": 4,
   "id": "4f841cb6-1869-4598-a4f5-ff69078ebb9f",
   "metadata": {},
   "outputs": [
    {
     "name": "stderr",
     "output_type": "stream",
     "text": [
      "                                                                                \r"
     ]
    },
    {
     "name": "stdout",
     "output_type": "stream",
     "text": [
      "22/09/24 19:46:14 WARN package: Truncated the string representation of a plan since it was too large. This behavior can be adjusted by setting 'spark.sql.debug.maxToStringFields'.\n"
     ]
    },
    {
     "name": "stderr",
     "output_type": "stream",
     "text": [
      "[Stage 25:=======================================>               (62 + 24) / 86]\r"
     ]
    },
    {
     "name": "stdout",
     "output_type": "stream",
     "text": [
      "22/09/24 21:40:34 ERROR Executor: Exception in task 85.0 in stage 25.0 (TID 6978)\n",
      "java.io.EOFException: Unexpected end of input stream\n",
      "\tat org.apache.hadoop.io.compress.DecompressorStream.decompress(DecompressorStream.java:165)\n",
      "\tat org.apache.hadoop.io.compress.DecompressorStream.read(DecompressorStream.java:105)\n",
      "\tat com.fasterxml.jackson.core.json.UTF8StreamJsonParser._loadMore(UTF8StreamJsonParser.java:257)\n",
      "\tat com.fasterxml.jackson.core.json.UTF8StreamJsonParser.slowParseName(UTF8StreamJsonParser.java:1954)\n",
      "\tat com.fasterxml.jackson.core.json.UTF8StreamJsonParser._parseName(UTF8StreamJsonParser.java:1750)\n",
      "\tat com.fasterxml.jackson.core.json.UTF8StreamJsonParser.nextToken(UTF8StreamJsonParser.java:798)\n",
      "\tat org.apache.spark.sql.catalyst.json.JacksonUtils$.nextUntil(JacksonUtils.scala:30)\n",
      "\tat org.apache.spark.sql.catalyst.json.JsonInferSchema.inferField(JsonInferSchema.scala:165)\n",
      "\tat org.apache.spark.sql.catalyst.json.JsonInferSchema.inferField(JsonInferSchema.scala:183)\n",
      "\tat org.apache.spark.sql.catalyst.json.JsonInferSchema.inferField(JsonInferSchema.scala:134)\n",
      "\tat org.apache.spark.sql.catalyst.json.JsonInferSchema.inferField(JsonInferSchema.scala:168)\n",
      "\tat org.apache.spark.sql.catalyst.json.JsonInferSchema.$anonfun$infer$4(JsonInferSchema.scala:88)\n",
      "\tat org.apache.spark.util.Utils$.tryWithResource(Utils.scala:2764)\n",
      "\tat org.apache.spark.sql.catalyst.json.JsonInferSchema.$anonfun$infer$2(JsonInferSchema.scala:86)\n",
      "\tat scala.collection.Iterator$$anon$11.nextCur(Iterator.scala:486)\n",
      "\tat scala.collection.Iterator$$anon$11.hasNext(Iterator.scala:492)\n",
      "\tat scala.collection.Iterator.foreach(Iterator.scala:943)\n",
      "\tat scala.collection.Iterator.foreach$(Iterator.scala:943)\n",
      "\tat scala.collection.AbstractIterator.foreach(Iterator.scala:1431)\n",
      "\tat scala.collection.TraversableOnce.reduceLeft(TraversableOnce.scala:237)\n",
      "\tat scala.collection.TraversableOnce.reduceLeft$(TraversableOnce.scala:220)\n",
      "\tat scala.collection.AbstractIterator.reduceLeft(Iterator.scala:1431)\n",
      "\tat scala.collection.TraversableOnce.reduceLeftOption(TraversableOnce.scala:249)\n",
      "\tat scala.collection.TraversableOnce.reduceLeftOption$(TraversableOnce.scala:248)\n",
      "\tat scala.collection.AbstractIterator.reduceLeftOption(Iterator.scala:1431)\n",
      "\tat scala.collection.TraversableOnce.reduceOption(TraversableOnce.scala:256)\n",
      "\tat scala.collection.TraversableOnce.reduceOption$(TraversableOnce.scala:256)\n",
      "\tat scala.collection.AbstractIterator.reduceOption(Iterator.scala:1431)\n",
      "\tat org.apache.spark.sql.catalyst.json.JsonInferSchema.$anonfun$infer$1(JsonInferSchema.scala:103)\n",
      "\tat org.apache.spark.rdd.RDD.$anonfun$mapPartitions$2(RDD.scala:855)\n",
      "\tat org.apache.spark.rdd.RDD.$anonfun$mapPartitions$2$adapted(RDD.scala:855)\n",
      "\tat org.apache.spark.rdd.MapPartitionsRDD.compute(MapPartitionsRDD.scala:52)\n",
      "\tat org.apache.spark.rdd.RDD.computeOrReadCheckpoint(RDD.scala:365)\n",
      "\tat org.apache.spark.rdd.RDD.iterator(RDD.scala:329)\n",
      "\tat org.apache.spark.scheduler.ResultTask.runTask(ResultTask.scala:90)\n",
      "\tat org.apache.spark.scheduler.Task.run(Task.scala:136)\n",
      "\tat org.apache.spark.executor.Executor$TaskRunner.$anonfun$run$3(Executor.scala:548)\n",
      "\tat org.apache.spark.util.Utils$.tryWithSafeFinally(Utils.scala:1504)\n",
      "\tat org.apache.spark.executor.Executor$TaskRunner.run(Executor.scala:551)\n",
      "\tat java.base/java.util.concurrent.ThreadPoolExecutor.runWorker(ThreadPoolExecutor.java:1128)\n",
      "\tat java.base/java.util.concurrent.ThreadPoolExecutor$Worker.run(ThreadPoolExecutor.java:628)\n",
      "\tat java.base/java.lang.Thread.run(Thread.java:829)\n"
     ]
    },
    {
     "name": "stderr",
     "output_type": "stream",
     "text": [
      "[Stage 25:========================================>              (63 + 23) / 86]\r"
     ]
    },
    {
     "name": "stdout",
     "output_type": "stream",
     "text": [
      "22/09/24 21:40:36 WARN TaskSetManager: Lost task 85.0 in stage 25.0 (TID 6978) (172.18.93.200 executor driver): java.io.EOFException: Unexpected end of input stream\n",
      "\tat org.apache.hadoop.io.compress.DecompressorStream.decompress(DecompressorStream.java:165)\n",
      "\tat org.apache.hadoop.io.compress.DecompressorStream.read(DecompressorStream.java:105)\n",
      "\tat com.fasterxml.jackson.core.json.UTF8StreamJsonParser._loadMore(UTF8StreamJsonParser.java:257)\n",
      "\tat com.fasterxml.jackson.core.json.UTF8StreamJsonParser.slowParseName(UTF8StreamJsonParser.java:1954)\n",
      "\tat com.fasterxml.jackson.core.json.UTF8StreamJsonParser._parseName(UTF8StreamJsonParser.java:1750)\n",
      "\tat com.fasterxml.jackson.core.json.UTF8StreamJsonParser.nextToken(UTF8StreamJsonParser.java:798)\n",
      "\tat org.apache.spark.sql.catalyst.json.JacksonUtils$.nextUntil(JacksonUtils.scala:30)\n",
      "\tat org.apache.spark.sql.catalyst.json.JsonInferSchema.inferField(JsonInferSchema.scala:165)\n",
      "\tat org.apache.spark.sql.catalyst.json.JsonInferSchema.inferField(JsonInferSchema.scala:183)\n",
      "\tat org.apache.spark.sql.catalyst.json.JsonInferSchema.inferField(JsonInferSchema.scala:134)\n",
      "\tat org.apache.spark.sql.catalyst.json.JsonInferSchema.inferField(JsonInferSchema.scala:168)\n",
      "\tat org.apache.spark.sql.catalyst.json.JsonInferSchema.$anonfun$infer$4(JsonInferSchema.scala:88)\n",
      "\tat org.apache.spark.util.Utils$.tryWithResource(Utils.scala:2764)\n",
      "\tat org.apache.spark.sql.catalyst.json.JsonInferSchema.$anonfun$infer$2(JsonInferSchema.scala:86)\n",
      "\tat scala.collection.Iterator$$anon$11.nextCur(Iterator.scala:486)\n",
      "\tat scala.collection.Iterator$$anon$11.hasNext(Iterator.scala:492)\n",
      "\tat scala.collection.Iterator.foreach(Iterator.scala:943)\n",
      "\tat scala.collection.Iterator.foreach$(Iterator.scala:943)\n",
      "\tat scala.collection.AbstractIterator.foreach(Iterator.scala:1431)\n",
      "\tat scala.collection.TraversableOnce.reduceLeft(TraversableOnce.scala:237)\n",
      "\tat scala.collection.TraversableOnce.reduceLeft$(TraversableOnce.scala:220)\n",
      "\tat scala.collection.AbstractIterator.reduceLeft(Iterator.scala:1431)\n",
      "\tat scala.collection.TraversableOnce.reduceLeftOption(TraversableOnce.scala:249)\n",
      "\tat scala.collection.TraversableOnce.reduceLeftOption$(TraversableOnce.scala:248)\n",
      "\tat scala.collection.AbstractIterator.reduceLeftOption(Iterator.scala:1431)\n",
      "\tat scala.collection.TraversableOnce.reduceOption(TraversableOnce.scala:256)\n",
      "\tat scala.collection.TraversableOnce.reduceOption$(TraversableOnce.scala:256)\n",
      "\tat scala.collection.AbstractIterator.reduceOption(Iterator.scala:1431)\n",
      "\tat org.apache.spark.sql.catalyst.json.JsonInferSchema.$anonfun$infer$1(JsonInferSchema.scala:103)\n",
      "\tat org.apache.spark.rdd.RDD.$anonfun$mapPartitions$2(RDD.scala:855)\n",
      "\tat org.apache.spark.rdd.RDD.$anonfun$mapPartitions$2$adapted(RDD.scala:855)\n",
      "\tat org.apache.spark.rdd.MapPartitionsRDD.compute(MapPartitionsRDD.scala:52)\n",
      "\tat org.apache.spark.rdd.RDD.computeOrReadCheckpoint(RDD.scala:365)\n",
      "\tat org.apache.spark.rdd.RDD.iterator(RDD.scala:329)\n",
      "\tat org.apache.spark.scheduler.ResultTask.runTask(ResultTask.scala:90)\n",
      "\tat org.apache.spark.scheduler.Task.run(Task.scala:136)\n",
      "\tat org.apache.spark.executor.Executor$TaskRunner.$anonfun$run$3(Executor.scala:548)\n",
      "\tat org.apache.spark.util.Utils$.tryWithSafeFinally(Utils.scala:1504)\n",
      "\tat org.apache.spark.executor.Executor$TaskRunner.run(Executor.scala:551)\n",
      "\tat java.base/java.util.concurrent.ThreadPoolExecutor.runWorker(ThreadPoolExecutor.java:1128)\n",
      "\tat java.base/java.util.concurrent.ThreadPoolExecutor$Worker.run(ThreadPoolExecutor.java:628)\n",
      "\tat java.base/java.lang.Thread.run(Thread.java:829)\n",
      "\n",
      "22/09/24 21:40:36 ERROR TaskSetManager: Task 85 in stage 25.0 failed 1 times; aborting job\n"
     ]
    },
    {
     "name": "stderr",
     "output_type": "stream",
     "text": [
      "[Stage 25:========================================>              (63 + 22) / 86]\r"
     ]
    },
    {
     "name": "stdout",
     "output_type": "stream",
     "text": [
      "22/09/24 21:40:38 WARN TaskSetManager: Lost task 64.0 in stage 25.0 (TID 6957) (172.18.93.200 executor driver): TaskKilled (Stage cancelled)\n",
      "22/09/24 21:40:38 WARN TaskSetManager: Lost task 84.0 in stage 25.0 (TID 6977) (172.18.93.200 executor driver): TaskKilled (Stage cancelled)\n",
      "22/09/24 21:40:38 WARN TaskSetManager: Lost task 76.0 in stage 25.0 (TID 6969) (172.18.93.200 executor driver): TaskKilled (Stage cancelled)\n",
      "22/09/24 21:40:38 WARN TaskSetManager: Lost task 78.0 in stage 25.0 (TID 6971) (172.18.93.200 executor driver): TaskKilled (Stage cancelled)\n",
      "22/09/24 21:40:38 WARN TaskSetManager: Lost task 83.0 in stage 25.0 (TID 6976) (172.18.93.200 executor driver): TaskKilled (Stage cancelled)\n",
      "22/09/24 21:40:38 WARN TaskSetManager: Lost task 81.0 in stage 25.0 (TID 6974) (172.18.93.200 executor driver): TaskKilled (Stage cancelled)\n",
      "22/09/24 21:40:38 WARN TaskSetManager: Lost task 72.0 in stage 25.0 (TID 6965) (172.18.93.200 executor driver): TaskKilled (Stage cancelled)\n",
      "22/09/24 21:40:38 WARN TaskSetManager: Lost task 70.0 in stage 25.0 (TID 6963) (172.18.93.200 executor driver): TaskKilled (Stage cancelled)\n"
     ]
    },
    {
     "name": "stderr",
     "output_type": "stream",
     "text": [
      "[Stage 25:=========================================>              (64 + 1) / 86]\r"
     ]
    },
    {
     "name": "stdout",
     "output_type": "stream",
     "text": [
      "22/09/24 21:40:38 WARN TaskSetManager: Lost task 77.0 in stage 25.0 (TID 6970) (172.18.93.200 executor driver): TaskKilled (Stage cancelled)\n",
      "22/09/24 21:40:38 WARN TaskSetManager: Lost task 68.0 in stage 25.0 (TID 6961) (172.18.93.200 executor driver): TaskKilled (Stage cancelled)\n",
      "22/09/24 21:40:38 WARN TaskSetManager: Lost task 67.0 in stage 25.0 (TID 6960) (172.18.93.200 executor driver): TaskKilled (Stage cancelled)\n",
      "22/09/24 21:40:38 WARN TaskSetManager: Lost task 75.0 in stage 25.0 (TID 6968) (172.18.93.200 executor driver): TaskKilled (Stage cancelled)\n",
      "22/09/24 21:40:38 WARN TaskSetManager: Lost task 66.0 in stage 25.0 (TID 6959) (172.18.93.200 executor driver): TaskKilled (Stage cancelled)\n",
      "22/09/24 21:40:38 WARN TaskSetManager: Lost task 69.0 in stage 25.0 (TID 6962) (172.18.93.200 executor driver): TaskKilled (Stage cancelled)\n",
      "22/09/24 21:40:38 WARN TaskSetManager: Lost task 79.0 in stage 25.0 (TID 6972) (172.18.93.200 executor driver): TaskKilled (Stage cancelled)\n",
      "22/09/24 21:40:38 WARN TaskSetManager: Lost task 74.0 in stage 25.0 (TID 6967) (172.18.93.200 executor driver): TaskKilled (Stage cancelled)\n",
      "22/09/24 21:40:38 WARN TaskSetManager: Lost task 65.0 in stage 25.0 (TID 6958) (172.18.93.200 executor driver): TaskKilled (Stage cancelled)\n",
      "22/09/24 21:40:38 WARN TaskSetManager: Lost task 71.0 in stage 25.0 (TID 6964) (172.18.93.200 executor driver): TaskKilled (Stage cancelled)\n",
      "22/09/24 21:40:38 WARN TaskSetManager: Lost task 73.0 in stage 25.0 (TID 6966) (172.18.93.200 executor driver): TaskKilled (Stage cancelled)\n",
      "22/09/24 21:40:38 WARN TaskSetManager: Lost task 80.0 in stage 25.0 (TID 6973) (172.18.93.200 executor driver): TaskKilled (Stage cancelled)\n",
      "22/09/24 21:40:38 WARN TaskSetManager: Lost task 82.0 in stage 25.0 (TID 6975) (172.18.93.200 executor driver): TaskKilled (Stage cancelled)\n"
     ]
    },
    {
     "ename": "Py4JJavaError",
     "evalue": "An error occurred while calling o175.json.\n: org.apache.spark.SparkException: Job aborted due to stage failure: Task 85 in stage 25.0 failed 1 times, most recent failure: Lost task 85.0 in stage 25.0 (TID 6978) (172.18.93.200 executor driver): java.io.EOFException: Unexpected end of input stream\n\tat org.apache.hadoop.io.compress.DecompressorStream.decompress(DecompressorStream.java:165)\n\tat org.apache.hadoop.io.compress.DecompressorStream.read(DecompressorStream.java:105)\n\tat com.fasterxml.jackson.core.json.UTF8StreamJsonParser._loadMore(UTF8StreamJsonParser.java:257)\n\tat com.fasterxml.jackson.core.json.UTF8StreamJsonParser.slowParseName(UTF8StreamJsonParser.java:1954)\n\tat com.fasterxml.jackson.core.json.UTF8StreamJsonParser._parseName(UTF8StreamJsonParser.java:1750)\n\tat com.fasterxml.jackson.core.json.UTF8StreamJsonParser.nextToken(UTF8StreamJsonParser.java:798)\n\tat org.apache.spark.sql.catalyst.json.JacksonUtils$.nextUntil(JacksonUtils.scala:30)\n\tat org.apache.spark.sql.catalyst.json.JsonInferSchema.inferField(JsonInferSchema.scala:165)\n\tat org.apache.spark.sql.catalyst.json.JsonInferSchema.inferField(JsonInferSchema.scala:183)\n\tat org.apache.spark.sql.catalyst.json.JsonInferSchema.inferField(JsonInferSchema.scala:134)\n\tat org.apache.spark.sql.catalyst.json.JsonInferSchema.inferField(JsonInferSchema.scala:168)\n\tat org.apache.spark.sql.catalyst.json.JsonInferSchema.$anonfun$infer$4(JsonInferSchema.scala:88)\n\tat org.apache.spark.util.Utils$.tryWithResource(Utils.scala:2764)\n\tat org.apache.spark.sql.catalyst.json.JsonInferSchema.$anonfun$infer$2(JsonInferSchema.scala:86)\n\tat scala.collection.Iterator$$anon$11.nextCur(Iterator.scala:486)\n\tat scala.collection.Iterator$$anon$11.hasNext(Iterator.scala:492)\n\tat scala.collection.Iterator.foreach(Iterator.scala:943)\n\tat scala.collection.Iterator.foreach$(Iterator.scala:943)\n\tat scala.collection.AbstractIterator.foreach(Iterator.scala:1431)\n\tat scala.collection.TraversableOnce.reduceLeft(TraversableOnce.scala:237)\n\tat scala.collection.TraversableOnce.reduceLeft$(TraversableOnce.scala:220)\n\tat scala.collection.AbstractIterator.reduceLeft(Iterator.scala:1431)\n\tat scala.collection.TraversableOnce.reduceLeftOption(TraversableOnce.scala:249)\n\tat scala.collection.TraversableOnce.reduceLeftOption$(TraversableOnce.scala:248)\n\tat scala.collection.AbstractIterator.reduceLeftOption(Iterator.scala:1431)\n\tat scala.collection.TraversableOnce.reduceOption(TraversableOnce.scala:256)\n\tat scala.collection.TraversableOnce.reduceOption$(TraversableOnce.scala:256)\n\tat scala.collection.AbstractIterator.reduceOption(Iterator.scala:1431)\n\tat org.apache.spark.sql.catalyst.json.JsonInferSchema.$anonfun$infer$1(JsonInferSchema.scala:103)\n\tat org.apache.spark.rdd.RDD.$anonfun$mapPartitions$2(RDD.scala:855)\n\tat org.apache.spark.rdd.RDD.$anonfun$mapPartitions$2$adapted(RDD.scala:855)\n\tat org.apache.spark.rdd.MapPartitionsRDD.compute(MapPartitionsRDD.scala:52)\n\tat org.apache.spark.rdd.RDD.computeOrReadCheckpoint(RDD.scala:365)\n\tat org.apache.spark.rdd.RDD.iterator(RDD.scala:329)\n\tat org.apache.spark.scheduler.ResultTask.runTask(ResultTask.scala:90)\n\tat org.apache.spark.scheduler.Task.run(Task.scala:136)\n\tat org.apache.spark.executor.Executor$TaskRunner.$anonfun$run$3(Executor.scala:548)\n\tat org.apache.spark.util.Utils$.tryWithSafeFinally(Utils.scala:1504)\n\tat org.apache.spark.executor.Executor$TaskRunner.run(Executor.scala:551)\n\tat java.base/java.util.concurrent.ThreadPoolExecutor.runWorker(ThreadPoolExecutor.java:1128)\n\tat java.base/java.util.concurrent.ThreadPoolExecutor$Worker.run(ThreadPoolExecutor.java:628)\n\tat java.base/java.lang.Thread.run(Thread.java:829)\n\nDriver stacktrace:\n\tat org.apache.spark.scheduler.DAGScheduler.failJobAndIndependentStages(DAGScheduler.scala:2672)\n\tat org.apache.spark.scheduler.DAGScheduler.$anonfun$abortStage$2(DAGScheduler.scala:2608)\n\tat org.apache.spark.scheduler.DAGScheduler.$anonfun$abortStage$2$adapted(DAGScheduler.scala:2607)\n\tat scala.collection.mutable.ResizableArray.foreach(ResizableArray.scala:62)\n\tat scala.collection.mutable.ResizableArray.foreach$(ResizableArray.scala:55)\n\tat scala.collection.mutable.ArrayBuffer.foreach(ArrayBuffer.scala:49)\n\tat org.apache.spark.scheduler.DAGScheduler.abortStage(DAGScheduler.scala:2607)\n\tat org.apache.spark.scheduler.DAGScheduler.$anonfun$handleTaskSetFailed$1(DAGScheduler.scala:1182)\n\tat org.apache.spark.scheduler.DAGScheduler.$anonfun$handleTaskSetFailed$1$adapted(DAGScheduler.scala:1182)\n\tat scala.Option.foreach(Option.scala:407)\n\tat org.apache.spark.scheduler.DAGScheduler.handleTaskSetFailed(DAGScheduler.scala:1182)\n\tat org.apache.spark.scheduler.DAGSchedulerEventProcessLoop.doOnReceive(DAGScheduler.scala:2860)\n\tat org.apache.spark.scheduler.DAGSchedulerEventProcessLoop.onReceive(DAGScheduler.scala:2802)\n\tat org.apache.spark.scheduler.DAGSchedulerEventProcessLoop.onReceive(DAGScheduler.scala:2791)\n\tat org.apache.spark.util.EventLoop$$anon$1.run(EventLoop.scala:49)\n\tat org.apache.spark.scheduler.DAGScheduler.runJob(DAGScheduler.scala:952)\n\tat org.apache.spark.SparkContext.runJob(SparkContext.scala:2228)\n\tat org.apache.spark.SparkContext.runJob(SparkContext.scala:2323)\n\tat org.apache.spark.sql.catalyst.json.JsonInferSchema.infer(JsonInferSchema.scala:116)\n\tat org.apache.spark.sql.execution.datasources.json.MultiLineJsonDataSource$.$anonfun$infer$5(JsonDataSource.scala:168)\n\tat org.apache.spark.sql.execution.SQLExecution$.withSQLConfPropagated(SQLExecution.scala:169)\n\tat org.apache.spark.sql.execution.datasources.json.MultiLineJsonDataSource$.infer(JsonDataSource.scala:168)\n\tat org.apache.spark.sql.execution.datasources.json.JsonDataSource.inferSchema(JsonDataSource.scala:65)\n\tat org.apache.spark.sql.execution.datasources.json.JsonFileFormat.inferSchema(JsonFileFormat.scala:59)\n\tat org.apache.spark.sql.execution.datasources.DataSource.$anonfun$getOrInferFileFormatSchema$11(DataSource.scala:210)\n\tat scala.Option.orElse(Option.scala:447)\n\tat org.apache.spark.sql.execution.datasources.DataSource.getOrInferFileFormatSchema(DataSource.scala:207)\n\tat org.apache.spark.sql.execution.datasources.DataSource.resolveRelation(DataSource.scala:411)\n\tat org.apache.spark.sql.DataFrameReader.loadV1Source(DataFrameReader.scala:228)\n\tat org.apache.spark.sql.DataFrameReader.$anonfun$load$2(DataFrameReader.scala:210)\n\tat scala.Option.getOrElse(Option.scala:189)\n\tat org.apache.spark.sql.DataFrameReader.load(DataFrameReader.scala:210)\n\tat org.apache.spark.sql.DataFrameReader.json(DataFrameReader.scala:361)\n\tat java.base/jdk.internal.reflect.NativeMethodAccessorImpl.invoke0(Native Method)\n\tat java.base/jdk.internal.reflect.NativeMethodAccessorImpl.invoke(NativeMethodAccessorImpl.java:62)\n\tat java.base/jdk.internal.reflect.DelegatingMethodAccessorImpl.invoke(DelegatingMethodAccessorImpl.java:43)\n\tat java.base/java.lang.reflect.Method.invoke(Method.java:566)\n\tat py4j.reflection.MethodInvoker.invoke(MethodInvoker.java:244)\n\tat py4j.reflection.ReflectionEngine.invoke(ReflectionEngine.java:357)\n\tat py4j.Gateway.invoke(Gateway.java:282)\n\tat py4j.commands.AbstractCommand.invokeMethod(AbstractCommand.java:132)\n\tat py4j.commands.CallCommand.execute(CallCommand.java:79)\n\tat py4j.ClientServerConnection.waitForCommands(ClientServerConnection.java:182)\n\tat py4j.ClientServerConnection.run(ClientServerConnection.java:106)\n\tat java.base/java.lang.Thread.run(Thread.java:829)\nCaused by: java.io.EOFException: Unexpected end of input stream\n\tat org.apache.hadoop.io.compress.DecompressorStream.decompress(DecompressorStream.java:165)\n\tat org.apache.hadoop.io.compress.DecompressorStream.read(DecompressorStream.java:105)\n\tat com.fasterxml.jackson.core.json.UTF8StreamJsonParser._loadMore(UTF8StreamJsonParser.java:257)\n\tat com.fasterxml.jackson.core.json.UTF8StreamJsonParser.slowParseName(UTF8StreamJsonParser.java:1954)\n\tat com.fasterxml.jackson.core.json.UTF8StreamJsonParser._parseName(UTF8StreamJsonParser.java:1750)\n\tat com.fasterxml.jackson.core.json.UTF8StreamJsonParser.nextToken(UTF8StreamJsonParser.java:798)\n\tat org.apache.spark.sql.catalyst.json.JacksonUtils$.nextUntil(JacksonUtils.scala:30)\n\tat org.apache.spark.sql.catalyst.json.JsonInferSchema.inferField(JsonInferSchema.scala:165)\n\tat org.apache.spark.sql.catalyst.json.JsonInferSchema.inferField(JsonInferSchema.scala:183)\n\tat org.apache.spark.sql.catalyst.json.JsonInferSchema.inferField(JsonInferSchema.scala:134)\n\tat org.apache.spark.sql.catalyst.json.JsonInferSchema.inferField(JsonInferSchema.scala:168)\n\tat org.apache.spark.sql.catalyst.json.JsonInferSchema.$anonfun$infer$4(JsonInferSchema.scala:88)\n\tat org.apache.spark.util.Utils$.tryWithResource(Utils.scala:2764)\n\tat org.apache.spark.sql.catalyst.json.JsonInferSchema.$anonfun$infer$2(JsonInferSchema.scala:86)\n\tat scala.collection.Iterator$$anon$11.nextCur(Iterator.scala:486)\n\tat scala.collection.Iterator$$anon$11.hasNext(Iterator.scala:492)\n\tat scala.collection.Iterator.foreach(Iterator.scala:943)\n\tat scala.collection.Iterator.foreach$(Iterator.scala:943)\n\tat scala.collection.AbstractIterator.foreach(Iterator.scala:1431)\n\tat scala.collection.TraversableOnce.reduceLeft(TraversableOnce.scala:237)\n\tat scala.collection.TraversableOnce.reduceLeft$(TraversableOnce.scala:220)\n\tat scala.collection.AbstractIterator.reduceLeft(Iterator.scala:1431)\n\tat scala.collection.TraversableOnce.reduceLeftOption(TraversableOnce.scala:249)\n\tat scala.collection.TraversableOnce.reduceLeftOption$(TraversableOnce.scala:248)\n\tat scala.collection.AbstractIterator.reduceLeftOption(Iterator.scala:1431)\n\tat scala.collection.TraversableOnce.reduceOption(TraversableOnce.scala:256)\n\tat scala.collection.TraversableOnce.reduceOption$(TraversableOnce.scala:256)\n\tat scala.collection.AbstractIterator.reduceOption(Iterator.scala:1431)\n\tat org.apache.spark.sql.catalyst.json.JsonInferSchema.$anonfun$infer$1(JsonInferSchema.scala:103)\n\tat org.apache.spark.rdd.RDD.$anonfun$mapPartitions$2(RDD.scala:855)\n\tat org.apache.spark.rdd.RDD.$anonfun$mapPartitions$2$adapted(RDD.scala:855)\n\tat org.apache.spark.rdd.MapPartitionsRDD.compute(MapPartitionsRDD.scala:52)\n\tat org.apache.spark.rdd.RDD.computeOrReadCheckpoint(RDD.scala:365)\n\tat org.apache.spark.rdd.RDD.iterator(RDD.scala:329)\n\tat org.apache.spark.scheduler.ResultTask.runTask(ResultTask.scala:90)\n\tat org.apache.spark.scheduler.Task.run(Task.scala:136)\n\tat org.apache.spark.executor.Executor$TaskRunner.$anonfun$run$3(Executor.scala:548)\n\tat org.apache.spark.util.Utils$.tryWithSafeFinally(Utils.scala:1504)\n\tat org.apache.spark.executor.Executor$TaskRunner.run(Executor.scala:551)\n\tat java.base/java.util.concurrent.ThreadPoolExecutor.runWorker(ThreadPoolExecutor.java:1128)\n\tat java.base/java.util.concurrent.ThreadPoolExecutor$Worker.run(ThreadPoolExecutor.java:628)\n\t... 1 more\n",
     "output_type": "error",
     "traceback": [
      "\u001b[0;31m---------------------------------------------------------------------------\u001b[0m",
      "\u001b[0;31mPy4JJavaError\u001b[0m                             Traceback (most recent call last)",
      "Input \u001b[0;32mIn [4]\u001b[0m, in \u001b[0;36m<cell line: 1>\u001b[0;34m()\u001b[0m\n\u001b[1;32m      1\u001b[0m \u001b[38;5;28;01mfor\u001b[39;00m month \u001b[38;5;129;01min\u001b[39;00m (\u001b[38;5;124m\"\u001b[39m\u001b[38;5;124m02\u001b[39m\u001b[38;5;124m\"\u001b[39m, \u001b[38;5;124m\"\u001b[39m\u001b[38;5;124m03\u001b[39m\u001b[38;5;124m\"\u001b[39m, \u001b[38;5;124m\"\u001b[39m\u001b[38;5;124m04\u001b[39m\u001b[38;5;124m\"\u001b[39m, \u001b[38;5;124m\"\u001b[39m\u001b[38;5;124m06\u001b[39m\u001b[38;5;124m\"\u001b[39m, \u001b[38;5;124m\"\u001b[39m\u001b[38;5;124m07\u001b[39m\u001b[38;5;124m\"\u001b[39m, \u001b[38;5;124m\"\u001b[39m\u001b[38;5;124m08\u001b[39m\u001b[38;5;124m\"\u001b[39m, \u001b[38;5;124m\"\u001b[39m\u001b[38;5;124m09\u001b[39m\u001b[38;5;124m\"\u001b[39m):\n\u001b[0;32m----> 2\u001b[0m     \u001b[43mclean_readadsb\u001b[49m\u001b[43m(\u001b[49m\u001b[38;5;124;43mf\u001b[39;49m\u001b[38;5;124;43m\"\u001b[39;49m\u001b[38;5;132;43;01m{\u001b[39;49;00m\u001b[43mHDD_DATA\u001b[49m\u001b[38;5;132;43;01m}\u001b[39;49;00m\u001b[38;5;124;43m/readsb-hist/date=2022\u001b[39;49m\u001b[38;5;132;43;01m{\u001b[39;49;00m\u001b[43mmonth\u001b[49m\u001b[38;5;132;43;01m}\u001b[39;49;00m\u001b[38;5;124;43m01\u001b[39;49m\u001b[38;5;124;43m\"\u001b[39;49m\u001b[43m,\u001b[49m\u001b[43m \u001b[49m\u001b[38;5;124;43mf\u001b[39;49m\u001b[38;5;124;43m\"\u001b[39;49m\u001b[38;5;132;43;01m{\u001b[39;49;00m\u001b[43mSSD_DATA\u001b[49m\u001b[38;5;132;43;01m}\u001b[39;49;00m\u001b[38;5;124;43m/readsb/y=2022/m=\u001b[39;49m\u001b[38;5;132;43;01m{\u001b[39;49;00m\u001b[43mmonth\u001b[49m\u001b[38;5;132;43;01m}\u001b[39;49;00m\u001b[38;5;124;43m/d=01\u001b[39;49m\u001b[38;5;124;43m\"\u001b[39;49m\u001b[43m)\u001b[49m\n",
      "Input \u001b[0;32mIn [3]\u001b[0m, in \u001b[0;36mclean_readadsb\u001b[0;34m(source, output, partitions)\u001b[0m\n\u001b[1;32m      1\u001b[0m \u001b[38;5;28;01mdef\u001b[39;00m \u001b[38;5;21mclean_readadsb\u001b[39m(source: \u001b[38;5;28mstr\u001b[39m \u001b[38;5;241m=\u001b[39m \u001b[38;5;124m\"\u001b[39m\u001b[38;5;124mreadsb-hist/*\u001b[39m\u001b[38;5;124m\"\u001b[39m, output: \u001b[38;5;28mstr\u001b[39m \u001b[38;5;241m=\u001b[39m \u001b[38;5;124m\"\u001b[39m\u001b[38;5;124mreadsb-compress\u001b[39m\u001b[38;5;124m\"\u001b[39m, partitions: \u001b[38;5;28mint\u001b[39m \u001b[38;5;241m=\u001b[39m \u001b[38;5;241m32\u001b[39m):\n\u001b[0;32m----> 2\u001b[0m     adsb_hist \u001b[38;5;241m=\u001b[39m \u001b[43mspark\u001b[49m\u001b[38;5;241;43m.\u001b[39;49m\u001b[43mread\u001b[49m\u001b[38;5;241;43m.\u001b[39;49m\u001b[43moption\u001b[49m\u001b[43m(\u001b[49m\u001b[38;5;124;43m\"\u001b[39;49m\u001b[38;5;124;43mmultiLine\u001b[39;49m\u001b[38;5;124;43m\"\u001b[39;49m\u001b[43m,\u001b[49m\u001b[43m \u001b[49m\u001b[38;5;28;43;01mTrue\u001b[39;49;00m\u001b[43m)\u001b[49m\u001b[38;5;241;43m.\u001b[39;49m\u001b[43mjson\u001b[49m\u001b[43m(\u001b[49m\u001b[43msource\u001b[49m\u001b[43m)\u001b[49m\n\u001b[1;32m      3\u001b[0m     exploded \u001b[38;5;241m=\u001b[39m adsb_hist\u001b[38;5;241m.\u001b[39mselect(col(\u001b[38;5;124m\"\u001b[39m\u001b[38;5;124mnow\u001b[39m\u001b[38;5;124m\"\u001b[39m), explode(\u001b[38;5;124m\"\u001b[39m\u001b[38;5;124maircraft\u001b[39m\u001b[38;5;124m\"\u001b[39m)\u001b[38;5;241m.\u001b[39malias(\u001b[38;5;124m\"\u001b[39m\u001b[38;5;124mtick\u001b[39m\u001b[38;5;124m\"\u001b[39m))\u001b[38;5;241m.\u001b[39mselect(\u001b[38;5;124m\"\u001b[39m\u001b[38;5;124mnow\u001b[39m\u001b[38;5;124m\"\u001b[39m, \u001b[38;5;124m\"\u001b[39m\u001b[38;5;124mtick.*\u001b[39m\u001b[38;5;124m\"\u001b[39m)\n\u001b[1;32m      4\u001b[0m     exploded\u001b[38;5;241m.\u001b[39msort([\u001b[38;5;124m\"\u001b[39m\u001b[38;5;124mr\u001b[39m\u001b[38;5;124m\"\u001b[39m, \u001b[38;5;124m\"\u001b[39m\u001b[38;5;124mnow\u001b[39m\u001b[38;5;124m\"\u001b[39m])\u001b[38;5;241m.\u001b[39mcoalesce(partitions)\u001b[38;5;241m.\u001b[39m\\\n\u001b[1;32m      5\u001b[0m       write\u001b[38;5;241m.\u001b[39mformat(\u001b[38;5;124m\"\u001b[39m\u001b[38;5;124mparquet\u001b[39m\u001b[38;5;124m\"\u001b[39m)\u001b[38;5;241m.\u001b[39mmode(\u001b[38;5;124m\"\u001b[39m\u001b[38;5;124moverwrite\u001b[39m\u001b[38;5;124m\"\u001b[39m)\u001b[38;5;241m.\u001b[39msave(output)\n",
      "File \u001b[0;32m~/adsb_data/venv/lib/python3.9/site-packages/pyspark/sql/readwriter.py:284\u001b[0m, in \u001b[0;36mDataFrameReader.json\u001b[0;34m(self, path, schema, primitivesAsString, prefersDecimal, allowComments, allowUnquotedFieldNames, allowSingleQuotes, allowNumericLeadingZero, allowBackslashEscapingAnyCharacter, mode, columnNameOfCorruptRecord, dateFormat, timestampFormat, multiLine, allowUnquotedControlChars, lineSep, samplingRatio, dropFieldIfAllNull, encoding, locale, pathGlobFilter, recursiveFileLookup, modifiedBefore, modifiedAfter, allowNonNumericNumbers)\u001b[0m\n\u001b[1;32m    282\u001b[0m \u001b[38;5;28;01mif\u001b[39;00m \u001b[38;5;28mtype\u001b[39m(path) \u001b[38;5;241m==\u001b[39m \u001b[38;5;28mlist\u001b[39m:\n\u001b[1;32m    283\u001b[0m     \u001b[38;5;28;01massert\u001b[39;00m \u001b[38;5;28mself\u001b[39m\u001b[38;5;241m.\u001b[39m_spark\u001b[38;5;241m.\u001b[39m_sc\u001b[38;5;241m.\u001b[39m_jvm \u001b[38;5;129;01mis\u001b[39;00m \u001b[38;5;129;01mnot\u001b[39;00m \u001b[38;5;28;01mNone\u001b[39;00m\n\u001b[0;32m--> 284\u001b[0m     \u001b[38;5;28;01mreturn\u001b[39;00m \u001b[38;5;28mself\u001b[39m\u001b[38;5;241m.\u001b[39m_df(\u001b[38;5;28;43mself\u001b[39;49m\u001b[38;5;241;43m.\u001b[39;49m\u001b[43m_jreader\u001b[49m\u001b[38;5;241;43m.\u001b[39;49m\u001b[43mjson\u001b[49m\u001b[43m(\u001b[49m\u001b[38;5;28;43mself\u001b[39;49m\u001b[38;5;241;43m.\u001b[39;49m\u001b[43m_spark\u001b[49m\u001b[38;5;241;43m.\u001b[39;49m\u001b[43m_sc\u001b[49m\u001b[38;5;241;43m.\u001b[39;49m\u001b[43m_jvm\u001b[49m\u001b[38;5;241;43m.\u001b[39;49m\u001b[43mPythonUtils\u001b[49m\u001b[38;5;241;43m.\u001b[39;49m\u001b[43mtoSeq\u001b[49m\u001b[43m(\u001b[49m\u001b[43mpath\u001b[49m\u001b[43m)\u001b[49m\u001b[43m)\u001b[49m)\n\u001b[1;32m    285\u001b[0m \u001b[38;5;28;01melif\u001b[39;00m \u001b[38;5;28misinstance\u001b[39m(path, RDD):\n\u001b[1;32m    287\u001b[0m     \u001b[38;5;28;01mdef\u001b[39;00m \u001b[38;5;21mfunc\u001b[39m(iterator: Iterable) \u001b[38;5;241m-\u001b[39m\u001b[38;5;241m>\u001b[39m Iterable:\n",
      "File \u001b[0;32m~/adsb_data/venv/lib/python3.9/site-packages/py4j/java_gateway.py:1321\u001b[0m, in \u001b[0;36mJavaMember.__call__\u001b[0;34m(self, *args)\u001b[0m\n\u001b[1;32m   1315\u001b[0m command \u001b[38;5;241m=\u001b[39m proto\u001b[38;5;241m.\u001b[39mCALL_COMMAND_NAME \u001b[38;5;241m+\u001b[39m\\\n\u001b[1;32m   1316\u001b[0m     \u001b[38;5;28mself\u001b[39m\u001b[38;5;241m.\u001b[39mcommand_header \u001b[38;5;241m+\u001b[39m\\\n\u001b[1;32m   1317\u001b[0m     args_command \u001b[38;5;241m+\u001b[39m\\\n\u001b[1;32m   1318\u001b[0m     proto\u001b[38;5;241m.\u001b[39mEND_COMMAND_PART\n\u001b[1;32m   1320\u001b[0m answer \u001b[38;5;241m=\u001b[39m \u001b[38;5;28mself\u001b[39m\u001b[38;5;241m.\u001b[39mgateway_client\u001b[38;5;241m.\u001b[39msend_command(command)\n\u001b[0;32m-> 1321\u001b[0m return_value \u001b[38;5;241m=\u001b[39m \u001b[43mget_return_value\u001b[49m\u001b[43m(\u001b[49m\n\u001b[1;32m   1322\u001b[0m \u001b[43m    \u001b[49m\u001b[43manswer\u001b[49m\u001b[43m,\u001b[49m\u001b[43m \u001b[49m\u001b[38;5;28;43mself\u001b[39;49m\u001b[38;5;241;43m.\u001b[39;49m\u001b[43mgateway_client\u001b[49m\u001b[43m,\u001b[49m\u001b[43m \u001b[49m\u001b[38;5;28;43mself\u001b[39;49m\u001b[38;5;241;43m.\u001b[39;49m\u001b[43mtarget_id\u001b[49m\u001b[43m,\u001b[49m\u001b[43m \u001b[49m\u001b[38;5;28;43mself\u001b[39;49m\u001b[38;5;241;43m.\u001b[39;49m\u001b[43mname\u001b[49m\u001b[43m)\u001b[49m\n\u001b[1;32m   1324\u001b[0m \u001b[38;5;28;01mfor\u001b[39;00m temp_arg \u001b[38;5;129;01min\u001b[39;00m temp_args:\n\u001b[1;32m   1325\u001b[0m     temp_arg\u001b[38;5;241m.\u001b[39m_detach()\n",
      "File \u001b[0;32m~/adsb_data/venv/lib/python3.9/site-packages/pyspark/sql/utils.py:190\u001b[0m, in \u001b[0;36mcapture_sql_exception.<locals>.deco\u001b[0;34m(*a, **kw)\u001b[0m\n\u001b[1;32m    188\u001b[0m \u001b[38;5;28;01mdef\u001b[39;00m \u001b[38;5;21mdeco\u001b[39m(\u001b[38;5;241m*\u001b[39ma: Any, \u001b[38;5;241m*\u001b[39m\u001b[38;5;241m*\u001b[39mkw: Any) \u001b[38;5;241m-\u001b[39m\u001b[38;5;241m>\u001b[39m Any:\n\u001b[1;32m    189\u001b[0m     \u001b[38;5;28;01mtry\u001b[39;00m:\n\u001b[0;32m--> 190\u001b[0m         \u001b[38;5;28;01mreturn\u001b[39;00m \u001b[43mf\u001b[49m\u001b[43m(\u001b[49m\u001b[38;5;241;43m*\u001b[39;49m\u001b[43ma\u001b[49m\u001b[43m,\u001b[49m\u001b[43m \u001b[49m\u001b[38;5;241;43m*\u001b[39;49m\u001b[38;5;241;43m*\u001b[39;49m\u001b[43mkw\u001b[49m\u001b[43m)\u001b[49m\n\u001b[1;32m    191\u001b[0m     \u001b[38;5;28;01mexcept\u001b[39;00m Py4JJavaError \u001b[38;5;28;01mas\u001b[39;00m e:\n\u001b[1;32m    192\u001b[0m         converted \u001b[38;5;241m=\u001b[39m convert_exception(e\u001b[38;5;241m.\u001b[39mjava_exception)\n",
      "File \u001b[0;32m~/adsb_data/venv/lib/python3.9/site-packages/py4j/protocol.py:326\u001b[0m, in \u001b[0;36mget_return_value\u001b[0;34m(answer, gateway_client, target_id, name)\u001b[0m\n\u001b[1;32m    324\u001b[0m value \u001b[38;5;241m=\u001b[39m OUTPUT_CONVERTER[\u001b[38;5;28mtype\u001b[39m](answer[\u001b[38;5;241m2\u001b[39m:], gateway_client)\n\u001b[1;32m    325\u001b[0m \u001b[38;5;28;01mif\u001b[39;00m answer[\u001b[38;5;241m1\u001b[39m] \u001b[38;5;241m==\u001b[39m REFERENCE_TYPE:\n\u001b[0;32m--> 326\u001b[0m     \u001b[38;5;28;01mraise\u001b[39;00m Py4JJavaError(\n\u001b[1;32m    327\u001b[0m         \u001b[38;5;124m\"\u001b[39m\u001b[38;5;124mAn error occurred while calling \u001b[39m\u001b[38;5;132;01m{0}\u001b[39;00m\u001b[38;5;132;01m{1}\u001b[39;00m\u001b[38;5;132;01m{2}\u001b[39;00m\u001b[38;5;124m.\u001b[39m\u001b[38;5;130;01m\\n\u001b[39;00m\u001b[38;5;124m\"\u001b[39m\u001b[38;5;241m.\u001b[39m\n\u001b[1;32m    328\u001b[0m         \u001b[38;5;28mformat\u001b[39m(target_id, \u001b[38;5;124m\"\u001b[39m\u001b[38;5;124m.\u001b[39m\u001b[38;5;124m\"\u001b[39m, name), value)\n\u001b[1;32m    329\u001b[0m \u001b[38;5;28;01melse\u001b[39;00m:\n\u001b[1;32m    330\u001b[0m     \u001b[38;5;28;01mraise\u001b[39;00m Py4JError(\n\u001b[1;32m    331\u001b[0m         \u001b[38;5;124m\"\u001b[39m\u001b[38;5;124mAn error occurred while calling \u001b[39m\u001b[38;5;132;01m{0}\u001b[39;00m\u001b[38;5;132;01m{1}\u001b[39;00m\u001b[38;5;132;01m{2}\u001b[39;00m\u001b[38;5;124m. Trace:\u001b[39m\u001b[38;5;130;01m\\n\u001b[39;00m\u001b[38;5;132;01m{3}\u001b[39;00m\u001b[38;5;130;01m\\n\u001b[39;00m\u001b[38;5;124m\"\u001b[39m\u001b[38;5;241m.\u001b[39m\n\u001b[1;32m    332\u001b[0m         \u001b[38;5;28mformat\u001b[39m(target_id, \u001b[38;5;124m\"\u001b[39m\u001b[38;5;124m.\u001b[39m\u001b[38;5;124m\"\u001b[39m, name, value))\n",
      "\u001b[0;31mPy4JJavaError\u001b[0m: An error occurred while calling o175.json.\n: org.apache.spark.SparkException: Job aborted due to stage failure: Task 85 in stage 25.0 failed 1 times, most recent failure: Lost task 85.0 in stage 25.0 (TID 6978) (172.18.93.200 executor driver): java.io.EOFException: Unexpected end of input stream\n\tat org.apache.hadoop.io.compress.DecompressorStream.decompress(DecompressorStream.java:165)\n\tat org.apache.hadoop.io.compress.DecompressorStream.read(DecompressorStream.java:105)\n\tat com.fasterxml.jackson.core.json.UTF8StreamJsonParser._loadMore(UTF8StreamJsonParser.java:257)\n\tat com.fasterxml.jackson.core.json.UTF8StreamJsonParser.slowParseName(UTF8StreamJsonParser.java:1954)\n\tat com.fasterxml.jackson.core.json.UTF8StreamJsonParser._parseName(UTF8StreamJsonParser.java:1750)\n\tat com.fasterxml.jackson.core.json.UTF8StreamJsonParser.nextToken(UTF8StreamJsonParser.java:798)\n\tat org.apache.spark.sql.catalyst.json.JacksonUtils$.nextUntil(JacksonUtils.scala:30)\n\tat org.apache.spark.sql.catalyst.json.JsonInferSchema.inferField(JsonInferSchema.scala:165)\n\tat org.apache.spark.sql.catalyst.json.JsonInferSchema.inferField(JsonInferSchema.scala:183)\n\tat org.apache.spark.sql.catalyst.json.JsonInferSchema.inferField(JsonInferSchema.scala:134)\n\tat org.apache.spark.sql.catalyst.json.JsonInferSchema.inferField(JsonInferSchema.scala:168)\n\tat org.apache.spark.sql.catalyst.json.JsonInferSchema.$anonfun$infer$4(JsonInferSchema.scala:88)\n\tat org.apache.spark.util.Utils$.tryWithResource(Utils.scala:2764)\n\tat org.apache.spark.sql.catalyst.json.JsonInferSchema.$anonfun$infer$2(JsonInferSchema.scala:86)\n\tat scala.collection.Iterator$$anon$11.nextCur(Iterator.scala:486)\n\tat scala.collection.Iterator$$anon$11.hasNext(Iterator.scala:492)\n\tat scala.collection.Iterator.foreach(Iterator.scala:943)\n\tat scala.collection.Iterator.foreach$(Iterator.scala:943)\n\tat scala.collection.AbstractIterator.foreach(Iterator.scala:1431)\n\tat scala.collection.TraversableOnce.reduceLeft(TraversableOnce.scala:237)\n\tat scala.collection.TraversableOnce.reduceLeft$(TraversableOnce.scala:220)\n\tat scala.collection.AbstractIterator.reduceLeft(Iterator.scala:1431)\n\tat scala.collection.TraversableOnce.reduceLeftOption(TraversableOnce.scala:249)\n\tat scala.collection.TraversableOnce.reduceLeftOption$(TraversableOnce.scala:248)\n\tat scala.collection.AbstractIterator.reduceLeftOption(Iterator.scala:1431)\n\tat scala.collection.TraversableOnce.reduceOption(TraversableOnce.scala:256)\n\tat scala.collection.TraversableOnce.reduceOption$(TraversableOnce.scala:256)\n\tat scala.collection.AbstractIterator.reduceOption(Iterator.scala:1431)\n\tat org.apache.spark.sql.catalyst.json.JsonInferSchema.$anonfun$infer$1(JsonInferSchema.scala:103)\n\tat org.apache.spark.rdd.RDD.$anonfun$mapPartitions$2(RDD.scala:855)\n\tat org.apache.spark.rdd.RDD.$anonfun$mapPartitions$2$adapted(RDD.scala:855)\n\tat org.apache.spark.rdd.MapPartitionsRDD.compute(MapPartitionsRDD.scala:52)\n\tat org.apache.spark.rdd.RDD.computeOrReadCheckpoint(RDD.scala:365)\n\tat org.apache.spark.rdd.RDD.iterator(RDD.scala:329)\n\tat org.apache.spark.scheduler.ResultTask.runTask(ResultTask.scala:90)\n\tat org.apache.spark.scheduler.Task.run(Task.scala:136)\n\tat org.apache.spark.executor.Executor$TaskRunner.$anonfun$run$3(Executor.scala:548)\n\tat org.apache.spark.util.Utils$.tryWithSafeFinally(Utils.scala:1504)\n\tat org.apache.spark.executor.Executor$TaskRunner.run(Executor.scala:551)\n\tat java.base/java.util.concurrent.ThreadPoolExecutor.runWorker(ThreadPoolExecutor.java:1128)\n\tat java.base/java.util.concurrent.ThreadPoolExecutor$Worker.run(ThreadPoolExecutor.java:628)\n\tat java.base/java.lang.Thread.run(Thread.java:829)\n\nDriver stacktrace:\n\tat org.apache.spark.scheduler.DAGScheduler.failJobAndIndependentStages(DAGScheduler.scala:2672)\n\tat org.apache.spark.scheduler.DAGScheduler.$anonfun$abortStage$2(DAGScheduler.scala:2608)\n\tat org.apache.spark.scheduler.DAGScheduler.$anonfun$abortStage$2$adapted(DAGScheduler.scala:2607)\n\tat scala.collection.mutable.ResizableArray.foreach(ResizableArray.scala:62)\n\tat scala.collection.mutable.ResizableArray.foreach$(ResizableArray.scala:55)\n\tat scala.collection.mutable.ArrayBuffer.foreach(ArrayBuffer.scala:49)\n\tat org.apache.spark.scheduler.DAGScheduler.abortStage(DAGScheduler.scala:2607)\n\tat org.apache.spark.scheduler.DAGScheduler.$anonfun$handleTaskSetFailed$1(DAGScheduler.scala:1182)\n\tat org.apache.spark.scheduler.DAGScheduler.$anonfun$handleTaskSetFailed$1$adapted(DAGScheduler.scala:1182)\n\tat scala.Option.foreach(Option.scala:407)\n\tat org.apache.spark.scheduler.DAGScheduler.handleTaskSetFailed(DAGScheduler.scala:1182)\n\tat org.apache.spark.scheduler.DAGSchedulerEventProcessLoop.doOnReceive(DAGScheduler.scala:2860)\n\tat org.apache.spark.scheduler.DAGSchedulerEventProcessLoop.onReceive(DAGScheduler.scala:2802)\n\tat org.apache.spark.scheduler.DAGSchedulerEventProcessLoop.onReceive(DAGScheduler.scala:2791)\n\tat org.apache.spark.util.EventLoop$$anon$1.run(EventLoop.scala:49)\n\tat org.apache.spark.scheduler.DAGScheduler.runJob(DAGScheduler.scala:952)\n\tat org.apache.spark.SparkContext.runJob(SparkContext.scala:2228)\n\tat org.apache.spark.SparkContext.runJob(SparkContext.scala:2323)\n\tat org.apache.spark.sql.catalyst.json.JsonInferSchema.infer(JsonInferSchema.scala:116)\n\tat org.apache.spark.sql.execution.datasources.json.MultiLineJsonDataSource$.$anonfun$infer$5(JsonDataSource.scala:168)\n\tat org.apache.spark.sql.execution.SQLExecution$.withSQLConfPropagated(SQLExecution.scala:169)\n\tat org.apache.spark.sql.execution.datasources.json.MultiLineJsonDataSource$.infer(JsonDataSource.scala:168)\n\tat org.apache.spark.sql.execution.datasources.json.JsonDataSource.inferSchema(JsonDataSource.scala:65)\n\tat org.apache.spark.sql.execution.datasources.json.JsonFileFormat.inferSchema(JsonFileFormat.scala:59)\n\tat org.apache.spark.sql.execution.datasources.DataSource.$anonfun$getOrInferFileFormatSchema$11(DataSource.scala:210)\n\tat scala.Option.orElse(Option.scala:447)\n\tat org.apache.spark.sql.execution.datasources.DataSource.getOrInferFileFormatSchema(DataSource.scala:207)\n\tat org.apache.spark.sql.execution.datasources.DataSource.resolveRelation(DataSource.scala:411)\n\tat org.apache.spark.sql.DataFrameReader.loadV1Source(DataFrameReader.scala:228)\n\tat org.apache.spark.sql.DataFrameReader.$anonfun$load$2(DataFrameReader.scala:210)\n\tat scala.Option.getOrElse(Option.scala:189)\n\tat org.apache.spark.sql.DataFrameReader.load(DataFrameReader.scala:210)\n\tat org.apache.spark.sql.DataFrameReader.json(DataFrameReader.scala:361)\n\tat java.base/jdk.internal.reflect.NativeMethodAccessorImpl.invoke0(Native Method)\n\tat java.base/jdk.internal.reflect.NativeMethodAccessorImpl.invoke(NativeMethodAccessorImpl.java:62)\n\tat java.base/jdk.internal.reflect.DelegatingMethodAccessorImpl.invoke(DelegatingMethodAccessorImpl.java:43)\n\tat java.base/java.lang.reflect.Method.invoke(Method.java:566)\n\tat py4j.reflection.MethodInvoker.invoke(MethodInvoker.java:244)\n\tat py4j.reflection.ReflectionEngine.invoke(ReflectionEngine.java:357)\n\tat py4j.Gateway.invoke(Gateway.java:282)\n\tat py4j.commands.AbstractCommand.invokeMethod(AbstractCommand.java:132)\n\tat py4j.commands.CallCommand.execute(CallCommand.java:79)\n\tat py4j.ClientServerConnection.waitForCommands(ClientServerConnection.java:182)\n\tat py4j.ClientServerConnection.run(ClientServerConnection.java:106)\n\tat java.base/java.lang.Thread.run(Thread.java:829)\nCaused by: java.io.EOFException: Unexpected end of input stream\n\tat org.apache.hadoop.io.compress.DecompressorStream.decompress(DecompressorStream.java:165)\n\tat org.apache.hadoop.io.compress.DecompressorStream.read(DecompressorStream.java:105)\n\tat com.fasterxml.jackson.core.json.UTF8StreamJsonParser._loadMore(UTF8StreamJsonParser.java:257)\n\tat com.fasterxml.jackson.core.json.UTF8StreamJsonParser.slowParseName(UTF8StreamJsonParser.java:1954)\n\tat com.fasterxml.jackson.core.json.UTF8StreamJsonParser._parseName(UTF8StreamJsonParser.java:1750)\n\tat com.fasterxml.jackson.core.json.UTF8StreamJsonParser.nextToken(UTF8StreamJsonParser.java:798)\n\tat org.apache.spark.sql.catalyst.json.JacksonUtils$.nextUntil(JacksonUtils.scala:30)\n\tat org.apache.spark.sql.catalyst.json.JsonInferSchema.inferField(JsonInferSchema.scala:165)\n\tat org.apache.spark.sql.catalyst.json.JsonInferSchema.inferField(JsonInferSchema.scala:183)\n\tat org.apache.spark.sql.catalyst.json.JsonInferSchema.inferField(JsonInferSchema.scala:134)\n\tat org.apache.spark.sql.catalyst.json.JsonInferSchema.inferField(JsonInferSchema.scala:168)\n\tat org.apache.spark.sql.catalyst.json.JsonInferSchema.$anonfun$infer$4(JsonInferSchema.scala:88)\n\tat org.apache.spark.util.Utils$.tryWithResource(Utils.scala:2764)\n\tat org.apache.spark.sql.catalyst.json.JsonInferSchema.$anonfun$infer$2(JsonInferSchema.scala:86)\n\tat scala.collection.Iterator$$anon$11.nextCur(Iterator.scala:486)\n\tat scala.collection.Iterator$$anon$11.hasNext(Iterator.scala:492)\n\tat scala.collection.Iterator.foreach(Iterator.scala:943)\n\tat scala.collection.Iterator.foreach$(Iterator.scala:943)\n\tat scala.collection.AbstractIterator.foreach(Iterator.scala:1431)\n\tat scala.collection.TraversableOnce.reduceLeft(TraversableOnce.scala:237)\n\tat scala.collection.TraversableOnce.reduceLeft$(TraversableOnce.scala:220)\n\tat scala.collection.AbstractIterator.reduceLeft(Iterator.scala:1431)\n\tat scala.collection.TraversableOnce.reduceLeftOption(TraversableOnce.scala:249)\n\tat scala.collection.TraversableOnce.reduceLeftOption$(TraversableOnce.scala:248)\n\tat scala.collection.AbstractIterator.reduceLeftOption(Iterator.scala:1431)\n\tat scala.collection.TraversableOnce.reduceOption(TraversableOnce.scala:256)\n\tat scala.collection.TraversableOnce.reduceOption$(TraversableOnce.scala:256)\n\tat scala.collection.AbstractIterator.reduceOption(Iterator.scala:1431)\n\tat org.apache.spark.sql.catalyst.json.JsonInferSchema.$anonfun$infer$1(JsonInferSchema.scala:103)\n\tat org.apache.spark.rdd.RDD.$anonfun$mapPartitions$2(RDD.scala:855)\n\tat org.apache.spark.rdd.RDD.$anonfun$mapPartitions$2$adapted(RDD.scala:855)\n\tat org.apache.spark.rdd.MapPartitionsRDD.compute(MapPartitionsRDD.scala:52)\n\tat org.apache.spark.rdd.RDD.computeOrReadCheckpoint(RDD.scala:365)\n\tat org.apache.spark.rdd.RDD.iterator(RDD.scala:329)\n\tat org.apache.spark.scheduler.ResultTask.runTask(ResultTask.scala:90)\n\tat org.apache.spark.scheduler.Task.run(Task.scala:136)\n\tat org.apache.spark.executor.Executor$TaskRunner.$anonfun$run$3(Executor.scala:548)\n\tat org.apache.spark.util.Utils$.tryWithSafeFinally(Utils.scala:1504)\n\tat org.apache.spark.executor.Executor$TaskRunner.run(Executor.scala:551)\n\tat java.base/java.util.concurrent.ThreadPoolExecutor.runWorker(ThreadPoolExecutor.java:1128)\n\tat java.base/java.util.concurrent.ThreadPoolExecutor$Worker.run(ThreadPoolExecutor.java:628)\n\t... 1 more\n"
     ]
    }
   ],
   "source": [
    "for month in (\"02\", \"03\", \"04\", \"06\", \"07\", \"08\", \"09\"):\n",
    "    clean_readadsb(f\"{HDD_DATA}/readsb-hist/date=2022{month}01\", f\"{SSD_DATA}/readsb/y=2022/m={month}/d=01\")"
   ]
  },
  {
   "cell_type": "markdown",
   "id": "2f6cba29-11e2-4a26-9e4e-9bc482385ecb",
   "metadata": {},
   "source": [
    "## Read clean data"
   ]
  },
  {
   "cell_type": "code",
   "execution_count": 42,
   "id": "7d43ed63-4569-48ff-82cc-f1a5903b98fd",
   "metadata": {},
   "outputs": [
    {
     "name": "stderr",
     "output_type": "stream",
     "text": [
      "                                                                                \r"
     ]
    }
   ],
   "source": [
    "# Aircrafts list\n",
    "aircrafts_adsbex = spark.read.json(\"basic-aircraft-db.json.gz\").drop(\"_corrupt_record\").\\\n",
    "  where(\"icao is not null\").withColumn(\"sources_adsb\", array([lit(\"https://www.adsbexchange.com/data-samples/\")]))\n",
    "improved_ownership = spark.read.json(\"improved_ownership.json\").\\\n",
    "  withColumnRenamed(\"country\", \"ownop_country\")\n",
    "\n",
    "\n",
    "_country_registration_codes = spark.read.option(\"header\", True).csv(\"registration_country_code_prefix.csv\")\n",
    "_country_iso_code = spark.read.option(\"header\", True).csv(\"countries_with_regional_codes.csv\")\n",
    "country_codes = _country_registration_codes.join(_country_iso_code, on=\"name\", how=\"left\").select(col(\"reg_code\"), col(\"name\").alias(\"country\"), col(\"alpha-2\"), col(\"region\"), col(\"sub-region\"), col(\"intermediate-region\"))\n",
    "\n",
    "# Merging\n",
    "aircrafts_sources = aircrafts_adsbex.join(improved_ownership, on=\"reg\", how=\"full\").\\\n",
    "  withColumn(\"sources\", concat(coalesce(\"sources_adsb\", array()), coalesce(\"sources\", array()))).drop(\"sources_adsb\").\\\n",
    "  withColumn(\"ownop_good\", coalesce(improved_ownership.ownop, aircrafts_adsbex.ownop)).drop(\"ownop\").withColumnRenamed(\"ownop_good\", \"ownop\")\n",
    "\n",
    "# Join with country information\n",
    "from pyspark.sql.window import Window\n",
    "# There are some countries that match when they should not. For example Canada (C) matches Moroco planes (CN)\n",
    "# We will also lose some aircrafts with duplicate \n",
    "best_reg_match = Window.partitionBy(\"icao\").orderBy(length(\"reg_code\").desc())\n",
    "\n",
    "ac_reg = aircrafts_sources.withColumn(\"reg_split\", split(col(\"reg\"), \"-\").getItem(0))\n",
    "\n",
    "aircrafts = ac_reg.join(country_codes, on=ac_reg.reg_split.startswith(country_codes.reg_code), how=\"left\").\\\n",
    "  withColumn(\"_dedup_countries\", first(\"reg_code\").over(best_reg_match)).\\\n",
    "  filter(\"reg_code = _dedup_countries\").\\\n",
    "  drop(\"_dedup_countries\", \"reg_split\")"
   ]
  },
  {
   "cell_type": "code",
   "execution_count": 43,
   "id": "683c5d62-7c07-4250-a920-5aab9db2de56",
   "metadata": {},
   "outputs": [
    {
     "name": "stdout",
     "output_type": "stream",
     "text": [
      "+--------+-------+-------+------+----------+-------------------+\n",
      "|reg_code|country|alpha-2|region|sub-region|intermediate-region|\n",
      "+--------+-------+-------+------+----------+-------------------+\n",
      "|Z6      |Kosovo |null   |null  |null      |null               |\n",
      "+--------+-------+-------+------+----------+-------------------+\n",
      "\n"
     ]
    }
   ],
   "source": [
    "country_codes.where(\"region is null or reg_code is null\").show(1000, False)"
   ]
  },
  {
   "cell_type": "code",
   "execution_count": 44,
   "id": "4973e368-6bd7-43cb-9eec-746223dc6103",
   "metadata": {},
   "outputs": [
    {
     "name": "stderr",
     "output_type": "stream",
     "text": [
      "                                                                                \r"
     ]
    },
    {
     "name": "stdout",
     "output_type": "stream",
     "text": [
      "+------+--------+-------+------+--------+--------------------+-----+------------+----------+----+-------------+---------+----------+--------------------+---------+---------+---------+--------+--------------------+-------+--------+----------------+-------------------+----------------+\n",
      "|   reg|faa_ladd|faa_pia|  icao|icaotype|        manufacturer|  mil|       model|short_type|year|ownop_country|known_for|ownop_type|             sources|wiki_page|    ownop|reg_split|reg_code|             country|alpha-2|  region|      sub-region|intermediate-region|_dedup_countries|\n",
      "+------+--------+-------+------+--------+--------------------+-----+------------+----------+----+-------------+---------+----------+--------------------+---------+---------+---------+--------+--------------------+-------+--------+----------------+-------------------+----------------+\n",
      "|N628TS|    true|  false|a835af|    GLF6|GULFSTREAM AEROSP...|false|GVI (G650ER)|       L2J|2015|         null|     null|      null|[https://www.adsb...|     null|Elon Musk|   N628TS|       N|                Guam|     GU| Oceania|      Micronesia|               null|               N|\n",
      "|N628TS|    true|  false|a835af|    GLF6|GULFSTREAM AEROSP...|false|GVI (G650ER)|       L2J|2015|         null|     null|      null|[https://www.adsb...|     null|Elon Musk|   N628TS|       N|United States of ...|     US|Americas|Northern America|               null|               N|\n",
      "+------+--------+-------+------+--------+--------------------+-----+------------+----------+----+-------------+---------+----------+--------------------+---------+---------+---------+--------+--------------------+-------+--------+----------------+-------------------+----------------+\n",
      "\n"
     ]
    }
   ],
   "source": [
    "ac_reg.join(country_codes, on=ac_reg.reg_split.startswith(country_codes.reg_code), how=\"left\").\\\n",
    "  withColumn(\"_dedup_countries\", first(\"reg_code\").over(best_reg_match)).where(\"ownop like 'Elon%'\").show()"
   ]
  },
  {
   "cell_type": "code",
   "execution_count": 48,
   "id": "f774e0e5-bd20-4fc6-8bf7-f4a3d9dbc916",
   "metadata": {},
   "outputs": [
    {
     "name": "stderr",
     "output_type": "stream",
     "text": [
      "                                                                                \r"
     ]
    },
    {
     "name": "stdout",
     "output_type": "stream",
     "text": [
      "+------+--------+-------+------+--------+--------------------+-----+------------+----------+----+-------------+---------+----------+--------------------+---------+---------+--------+--------------------+-------+--------+----------------+-------------------+\n",
      "|   reg|faa_ladd|faa_pia|  icao|icaotype|        manufacturer|  mil|       model|short_type|year|ownop_country|known_for|ownop_type|             sources|wiki_page|    ownop|reg_code|             country|alpha-2|  region|      sub-region|intermediate-region|\n",
      "+------+--------+-------+------+--------+--------------------+-----+------------+----------+----+-------------+---------+----------+--------------------+---------+---------+--------+--------------------+-------+--------+----------------+-------------------+\n",
      "|N628TS|    true|  false|a835af|    GLF6|GULFSTREAM AEROSP...|false|GVI (G650ER)|       L2J|2015|         null|     null|      null|[https://www.adsb...|     null|Elon Musk|       N|                Guam|     GU| Oceania|      Micronesia|               null|\n",
      "|N628TS|    true|  false|a835af|    GLF6|GULFSTREAM AEROSP...|false|GVI (G650ER)|       L2J|2015|         null|     null|      null|[https://www.adsb...|     null|Elon Musk|       N|United States of ...|     US|Americas|Northern America|               null|\n",
      "+------+--------+-------+------+--------+--------------------+-----+------------+----------+----+-------------+---------+----------+--------------------+---------+---------+--------+--------------------+-------+--------+----------------+-------------------+\n",
      "\n"
     ]
    }
   ],
   "source": [
    "aircrafts.where(\"ownop like 'Elon%'\").show()"
   ]
  },
  {
   "cell_type": "code",
   "execution_count": 45,
   "id": "474fa46d",
   "metadata": {},
   "outputs": [],
   "source": [
    "# Hist contains a tick every 5 seconds or so\n",
    "hist_cols = [col(\"now\").alias(\"time\"), col(\"r\").alias(\"reg\"), col(\"hex\").alias(\"icao\"), col(\"flight\").alias(\"callsign\"), col(\"lat\"), col(\"lon\"), col(\"alt_baro\").alias(\"altitude_baro\")]  # , from_unixtime(col(\"now\")).alias(\"ts\")]\n",
    "hist = spark.read.parquet(\"readsb-compress\").select(*hist_cols)\n",
    "traces_cols = [col(\"timestamp\").alias(\"time\"), col(\"r\").alias(\"reg\"), col(\"icao\"), col(\"lat\"), col(\"lon\"), col(\"altitude_ft\").alias(\"altitude_baro\")]\n",
    "traces = spark.read.parquet(\"traces-compress\").select(*traces_cols)\n",
    "opensky_cols = [col(\"time\"), col(\"icao24\").alias(\"icao\"), col(\"callsign\"), col(\"lat\"), col(\"lon\"), col(\"baroaltitude\").alias(\"altitude_baro\"), col(\"onground\")]\n",
    "opensky = spark.read.format(\"avro\").load(\"opensky_states\").select(*opensky_cols)\n",
    "\n",
    "import json\n",
    "import pprint\n",
    "with open(\"fuel_data/aircraft_type_fuel_consumption_rates.json\", \"r\") as f:\n",
    "    fuel_consumption_rate = json.loads(f.read())\n",
    "fuel_prepared = [{\"icaotype\": icaotype, **value} for icaotype, value in fuel_consumption_rate.items()]\n",
    "fuel_consumption = spark.createDataFrame(fuel_prepared)\n",
    "\n",
    "country_co2_emissions = spark.read.option(\"header\", True).csv(\"owid-co2-emissions-data.csv\").\\\n",
    "  where(\"year = 2019\") # Before pandemic"
   ]
  },
  {
   "cell_type": "code",
   "execution_count": 46,
   "id": "1310118b-2446-4ee4-ba40-3ed013c06617",
   "metadata": {},
   "outputs": [
    {
     "name": "stderr",
     "output_type": "stream",
     "text": [
      "                                                                                \r"
     ]
    },
    {
     "data": {
      "text/html": [
       "<div>\n",
       "<style scoped>\n",
       "    .dataframe tbody tr th:only-of-type {\n",
       "        vertical-align: middle;\n",
       "    }\n",
       "\n",
       "    .dataframe tbody tr th {\n",
       "        vertical-align: top;\n",
       "    }\n",
       "\n",
       "    .dataframe thead th {\n",
       "        text-align: right;\n",
       "    }\n",
       "</style>\n",
       "<table border=\"1\" class=\"dataframe\">\n",
       "  <thead>\n",
       "    <tr style=\"text-align: right;\">\n",
       "      <th></th>\n",
       "      <th>reg</th>\n",
       "      <th>faa_ladd</th>\n",
       "      <th>faa_pia</th>\n",
       "      <th>icao</th>\n",
       "      <th>icaotype</th>\n",
       "      <th>manufacturer</th>\n",
       "      <th>mil</th>\n",
       "      <th>model</th>\n",
       "      <th>short_type</th>\n",
       "      <th>year</th>\n",
       "      <th>...</th>\n",
       "      <th>ownop_type</th>\n",
       "      <th>sources</th>\n",
       "      <th>wiki_page</th>\n",
       "      <th>ownop</th>\n",
       "      <th>reg_code</th>\n",
       "      <th>country</th>\n",
       "      <th>alpha-2</th>\n",
       "      <th>region</th>\n",
       "      <th>sub-region</th>\n",
       "      <th>intermediate-region</th>\n",
       "    </tr>\n",
       "  </thead>\n",
       "  <tbody>\n",
       "    <tr>\n",
       "      <th>0</th>\n",
       "      <td>EC-LZU</td>\n",
       "      <td>False</td>\n",
       "      <td>False</td>\n",
       "      <td>344547</td>\n",
       "      <td>GLF6</td>\n",
       "      <td>None</td>\n",
       "      <td>False</td>\n",
       "      <td>None</td>\n",
       "      <td>L2J</td>\n",
       "      <td>None</td>\n",
       "      <td>...</td>\n",
       "      <td>individual</td>\n",
       "      <td>[https://www.adsbexchange.com/data-samples/, h...</td>\n",
       "      <td>https://en.wikipedia.org/wiki/Amancio_Ortega</td>\n",
       "      <td>Amancio Ortega</td>\n",
       "      <td>EC</td>\n",
       "      <td>Spain</td>\n",
       "      <td>ES</td>\n",
       "      <td>Europe</td>\n",
       "      <td>Southern Europe</td>\n",
       "      <td>None</td>\n",
       "    </tr>\n",
       "    <tr>\n",
       "      <th>1</th>\n",
       "      <td>PH-DFT</td>\n",
       "      <td>None</td>\n",
       "      <td>None</td>\n",
       "      <td>None</td>\n",
       "      <td>None</td>\n",
       "      <td>None</td>\n",
       "      <td>None</td>\n",
       "      <td>None</td>\n",
       "      <td>None</td>\n",
       "      <td>None</td>\n",
       "      <td>...</td>\n",
       "      <td>individual</td>\n",
       "      <td>[https://www.superyachtfan.com/private-jet/own...</td>\n",
       "      <td>https://en.wikipedia.org/wiki/Max_Verstappen</td>\n",
       "      <td>Max Verstappen</td>\n",
       "      <td>PH</td>\n",
       "      <td>Netherlands</td>\n",
       "      <td>NL</td>\n",
       "      <td>Europe</td>\n",
       "      <td>Western Europe</td>\n",
       "      <td>None</td>\n",
       "    </tr>\n",
       "    <tr>\n",
       "      <th>2</th>\n",
       "      <td>EC-JIL</td>\n",
       "      <td>False</td>\n",
       "      <td>False</td>\n",
       "      <td>342294</td>\n",
       "      <td>GLEX</td>\n",
       "      <td>None</td>\n",
       "      <td>False</td>\n",
       "      <td>None</td>\n",
       "      <td>L2J</td>\n",
       "      <td>None</td>\n",
       "      <td>...</td>\n",
       "      <td>individual</td>\n",
       "      <td>[https://www.adsbexchange.com/data-samples/, h...</td>\n",
       "      <td>https://en.wikipedia.org/wiki/Isak_Andic</td>\n",
       "      <td>Isak Andic</td>\n",
       "      <td>EC</td>\n",
       "      <td>Spain</td>\n",
       "      <td>ES</td>\n",
       "      <td>Europe</td>\n",
       "      <td>Southern Europe</td>\n",
       "      <td>None</td>\n",
       "    </tr>\n",
       "    <tr>\n",
       "      <th>3</th>\n",
       "      <td>LV-IRQ</td>\n",
       "      <td>False</td>\n",
       "      <td>False</td>\n",
       "      <td>e09491</td>\n",
       "      <td>GLF5</td>\n",
       "      <td>None</td>\n",
       "      <td>False</td>\n",
       "      <td>None</td>\n",
       "      <td>L2J</td>\n",
       "      <td>None</td>\n",
       "      <td>...</td>\n",
       "      <td>individual</td>\n",
       "      <td>[https://www.adsbexchange.com/data-samples/, h...</td>\n",
       "      <td>https://en.wikipedia.org/wiki/Lionel_Messi</td>\n",
       "      <td>Lionel Messi</td>\n",
       "      <td>LV</td>\n",
       "      <td>Argentina</td>\n",
       "      <td>AR</td>\n",
       "      <td>Americas</td>\n",
       "      <td>Latin America and the Caribbean</td>\n",
       "      <td>South America</td>\n",
       "    </tr>\n",
       "    <tr>\n",
       "      <th>4</th>\n",
       "      <td>D-CEFO</td>\n",
       "      <td>False</td>\n",
       "      <td>False</td>\n",
       "      <td>3ccb20</td>\n",
       "      <td>C56X</td>\n",
       "      <td>None</td>\n",
       "      <td>False</td>\n",
       "      <td>None</td>\n",
       "      <td>L2J</td>\n",
       "      <td>None</td>\n",
       "      <td>...</td>\n",
       "      <td>individual</td>\n",
       "      <td>[https://www.adsbexchange.com/data-samples/, h...</td>\n",
       "      <td></td>\n",
       "      <td>Gareth Bale</td>\n",
       "      <td>D</td>\n",
       "      <td>Germany</td>\n",
       "      <td>DE</td>\n",
       "      <td>Europe</td>\n",
       "      <td>Western Europe</td>\n",
       "      <td>None</td>\n",
       "    </tr>\n",
       "    <tr>\n",
       "      <th>5</th>\n",
       "      <td>F-HDOR</td>\n",
       "      <td>False</td>\n",
       "      <td>False</td>\n",
       "      <td>398dd1</td>\n",
       "      <td>F900</td>\n",
       "      <td>None</td>\n",
       "      <td>False</td>\n",
       "      <td>None</td>\n",
       "      <td>L3J</td>\n",
       "      <td>None</td>\n",
       "      <td>...</td>\n",
       "      <td>individual</td>\n",
       "      <td>[https://www.adsbexchange.com/data-samples/, h...</td>\n",
       "      <td></td>\n",
       "      <td>Wayne Rooney</td>\n",
       "      <td>F</td>\n",
       "      <td>France</td>\n",
       "      <td>FR</td>\n",
       "      <td>Europe</td>\n",
       "      <td>Western Europe</td>\n",
       "      <td>None</td>\n",
       "    </tr>\n",
       "    <tr>\n",
       "      <th>6</th>\n",
       "      <td>N280GD</td>\n",
       "      <td>True</td>\n",
       "      <td>False</td>\n",
       "      <td>a2ce95</td>\n",
       "      <td>None</td>\n",
       "      <td>None</td>\n",
       "      <td>False</td>\n",
       "      <td>None</td>\n",
       "      <td>None</td>\n",
       "      <td>None</td>\n",
       "      <td>...</td>\n",
       "      <td>individual</td>\n",
       "      <td>[https://www.adsbexchange.com/data-samples/, h...</td>\n",
       "      <td></td>\n",
       "      <td>Paul Pogba</td>\n",
       "      <td>N</td>\n",
       "      <td>Guam</td>\n",
       "      <td>GU</td>\n",
       "      <td>Oceania</td>\n",
       "      <td>Micronesia</td>\n",
       "      <td>None</td>\n",
       "    </tr>\n",
       "    <tr>\n",
       "      <th>7</th>\n",
       "      <td>N280GD</td>\n",
       "      <td>True</td>\n",
       "      <td>False</td>\n",
       "      <td>a2ce95</td>\n",
       "      <td>None</td>\n",
       "      <td>None</td>\n",
       "      <td>False</td>\n",
       "      <td>None</td>\n",
       "      <td>None</td>\n",
       "      <td>None</td>\n",
       "      <td>...</td>\n",
       "      <td>individual</td>\n",
       "      <td>[https://www.adsbexchange.com/data-samples/, h...</td>\n",
       "      <td></td>\n",
       "      <td>Paul Pogba</td>\n",
       "      <td>N</td>\n",
       "      <td>United States of America</td>\n",
       "      <td>US</td>\n",
       "      <td>Americas</td>\n",
       "      <td>Northern America</td>\n",
       "      <td>None</td>\n",
       "    </tr>\n",
       "    <tr>\n",
       "      <th>8</th>\n",
       "      <td>N900JG</td>\n",
       "      <td>True</td>\n",
       "      <td>False</td>\n",
       "      <td>ac6ffb</td>\n",
       "      <td>F900</td>\n",
       "      <td>DASSAULT AVIATION</td>\n",
       "      <td>False</td>\n",
       "      <td>FALCON 900EX</td>\n",
       "      <td>L3J</td>\n",
       "      <td>2012</td>\n",
       "      <td>...</td>\n",
       "      <td>individual</td>\n",
       "      <td>[https://www.adsbexchange.com/data-samples/, h...</td>\n",
       "      <td>https://en.wikipedia.org/wiki/Jaime_Gilinski_B...</td>\n",
       "      <td>Jaime Gilinski</td>\n",
       "      <td>N</td>\n",
       "      <td>Guam</td>\n",
       "      <td>GU</td>\n",
       "      <td>Oceania</td>\n",
       "      <td>Micronesia</td>\n",
       "      <td>None</td>\n",
       "    </tr>\n",
       "    <tr>\n",
       "      <th>9</th>\n",
       "      <td>N900JG</td>\n",
       "      <td>True</td>\n",
       "      <td>False</td>\n",
       "      <td>ac6ffb</td>\n",
       "      <td>F900</td>\n",
       "      <td>DASSAULT AVIATION</td>\n",
       "      <td>False</td>\n",
       "      <td>FALCON 900EX</td>\n",
       "      <td>L3J</td>\n",
       "      <td>2012</td>\n",
       "      <td>...</td>\n",
       "      <td>individual</td>\n",
       "      <td>[https://www.adsbexchange.com/data-samples/, h...</td>\n",
       "      <td>https://en.wikipedia.org/wiki/Jaime_Gilinski_B...</td>\n",
       "      <td>Jaime Gilinski</td>\n",
       "      <td>N</td>\n",
       "      <td>United States of America</td>\n",
       "      <td>US</td>\n",
       "      <td>Americas</td>\n",
       "      <td>Northern America</td>\n",
       "      <td>None</td>\n",
       "    </tr>\n",
       "    <tr>\n",
       "      <th>10</th>\n",
       "      <td>D-IAAB</td>\n",
       "      <td>False</td>\n",
       "      <td>False</td>\n",
       "      <td>3e1749</td>\n",
       "      <td>E50P</td>\n",
       "      <td>None</td>\n",
       "      <td>False</td>\n",
       "      <td>None</td>\n",
       "      <td>L2J</td>\n",
       "      <td>None</td>\n",
       "      <td>...</td>\n",
       "      <td>individual</td>\n",
       "      <td>[https://www.adsbexchange.com/data-samples/, h...</td>\n",
       "      <td></td>\n",
       "      <td>Kaká</td>\n",
       "      <td>D</td>\n",
       "      <td>Germany</td>\n",
       "      <td>DE</td>\n",
       "      <td>Europe</td>\n",
       "      <td>Western Europe</td>\n",
       "      <td>None</td>\n",
       "    </tr>\n",
       "    <tr>\n",
       "      <th>11</th>\n",
       "      <td>TF-AAK</td>\n",
       "      <td>False</td>\n",
       "      <td>False</td>\n",
       "      <td>4cc3ef</td>\n",
       "      <td>B744</td>\n",
       "      <td>None</td>\n",
       "      <td>False</td>\n",
       "      <td>None</td>\n",
       "      <td>L4J</td>\n",
       "      <td>None</td>\n",
       "      <td>...</td>\n",
       "      <td>music</td>\n",
       "      <td>[https://www.adsbexchange.com/data-samples/, h...</td>\n",
       "      <td>https://es.wikipedia.org/wiki/Ed_Force_One</td>\n",
       "      <td>Iron Maiden</td>\n",
       "      <td>TF</td>\n",
       "      <td>Iceland</td>\n",
       "      <td>IS</td>\n",
       "      <td>Europe</td>\n",
       "      <td>Northern Europe</td>\n",
       "      <td>None</td>\n",
       "    </tr>\n",
       "    <tr>\n",
       "      <th>12</th>\n",
       "      <td>N606SA</td>\n",
       "      <td>False</td>\n",
       "      <td>False</td>\n",
       "      <td>a7df1a</td>\n",
       "      <td>GLF6</td>\n",
       "      <td>GULFSTREAM AEROSPACE CORP</td>\n",
       "      <td>False</td>\n",
       "      <td>GVI (G650ER)</td>\n",
       "      <td>L2J</td>\n",
       "      <td>2013</td>\n",
       "      <td>...</td>\n",
       "      <td>individual</td>\n",
       "      <td>[https://www.adsbexchange.com/data-samples/, h...</td>\n",
       "      <td>https://en.wikipedia.org/wiki/Luis_Carlos_Sarm...</td>\n",
       "      <td>Luis Carlos Sarmiento</td>\n",
       "      <td>N</td>\n",
       "      <td>Guam</td>\n",
       "      <td>GU</td>\n",
       "      <td>Oceania</td>\n",
       "      <td>Micronesia</td>\n",
       "      <td>None</td>\n",
       "    </tr>\n",
       "    <tr>\n",
       "      <th>13</th>\n",
       "      <td>N606SA</td>\n",
       "      <td>False</td>\n",
       "      <td>False</td>\n",
       "      <td>a7df1a</td>\n",
       "      <td>GLF6</td>\n",
       "      <td>GULFSTREAM AEROSPACE CORP</td>\n",
       "      <td>False</td>\n",
       "      <td>GVI (G650ER)</td>\n",
       "      <td>L2J</td>\n",
       "      <td>2013</td>\n",
       "      <td>...</td>\n",
       "      <td>individual</td>\n",
       "      <td>[https://www.adsbexchange.com/data-samples/, h...</td>\n",
       "      <td>https://en.wikipedia.org/wiki/Luis_Carlos_Sarm...</td>\n",
       "      <td>Luis Carlos Sarmiento</td>\n",
       "      <td>N</td>\n",
       "      <td>United States of America</td>\n",
       "      <td>US</td>\n",
       "      <td>Americas</td>\n",
       "      <td>Northern America</td>\n",
       "      <td>None</td>\n",
       "    </tr>\n",
       "    <tr>\n",
       "      <th>14</th>\n",
       "      <td>I-DELO</td>\n",
       "      <td>False</td>\n",
       "      <td>False</td>\n",
       "      <td>300635</td>\n",
       "      <td>GLF5</td>\n",
       "      <td>None</td>\n",
       "      <td>False</td>\n",
       "      <td>None</td>\n",
       "      <td>L2J</td>\n",
       "      <td>None</td>\n",
       "      <td>...</td>\n",
       "      <td>individual</td>\n",
       "      <td>[https://www.adsbexchange.com/data-samples/, h...</td>\n",
       "      <td></td>\n",
       "      <td>Giuseppe De’Longhi</td>\n",
       "      <td>I</td>\n",
       "      <td>Italy</td>\n",
       "      <td>IT</td>\n",
       "      <td>Europe</td>\n",
       "      <td>Southern Europe</td>\n",
       "      <td>None</td>\n",
       "    </tr>\n",
       "    <tr>\n",
       "      <th>15</th>\n",
       "      <td>PR-SMK</td>\n",
       "      <td>False</td>\n",
       "      <td>False</td>\n",
       "      <td>e4835d</td>\n",
       "      <td>C680</td>\n",
       "      <td>None</td>\n",
       "      <td>False</td>\n",
       "      <td>None</td>\n",
       "      <td>L2J</td>\n",
       "      <td>None</td>\n",
       "      <td>...</td>\n",
       "      <td>individual</td>\n",
       "      <td>[https://www.adsbexchange.com/data-samples/, h...</td>\n",
       "      <td></td>\n",
       "      <td>Neymar</td>\n",
       "      <td>P</td>\n",
       "      <td>Korea (Democratic People's Republic of)</td>\n",
       "      <td>KP</td>\n",
       "      <td>Asia</td>\n",
       "      <td>Eastern Asia</td>\n",
       "      <td>None</td>\n",
       "    </tr>\n",
       "  </tbody>\n",
       "</table>\n",
       "<p>16 rows × 22 columns</p>\n",
       "</div>"
      ],
      "text/plain": [
       "       reg faa_ladd faa_pia    icao icaotype               manufacturer  \\\n",
       "0   EC-LZU    False   False  344547     GLF6                       None   \n",
       "1   PH-DFT     None    None    None     None                       None   \n",
       "2   EC-JIL    False   False  342294     GLEX                       None   \n",
       "3   LV-IRQ    False   False  e09491     GLF5                       None   \n",
       "4   D-CEFO    False   False  3ccb20     C56X                       None   \n",
       "5   F-HDOR    False   False  398dd1     F900                       None   \n",
       "6   N280GD     True   False  a2ce95     None                       None   \n",
       "7   N280GD     True   False  a2ce95     None                       None   \n",
       "8   N900JG     True   False  ac6ffb     F900          DASSAULT AVIATION   \n",
       "9   N900JG     True   False  ac6ffb     F900          DASSAULT AVIATION   \n",
       "10  D-IAAB    False   False  3e1749     E50P                       None   \n",
       "11  TF-AAK    False   False  4cc3ef     B744                       None   \n",
       "12  N606SA    False   False  a7df1a     GLF6  GULFSTREAM AEROSPACE CORP   \n",
       "13  N606SA    False   False  a7df1a     GLF6  GULFSTREAM AEROSPACE CORP   \n",
       "14  I-DELO    False   False  300635     GLF5                       None   \n",
       "15  PR-SMK    False   False  e4835d     C680                       None   \n",
       "\n",
       "      mil         model short_type  year  ...  ownop_type  \\\n",
       "0   False          None        L2J  None  ...  individual   \n",
       "1    None          None       None  None  ...  individual   \n",
       "2   False          None        L2J  None  ...  individual   \n",
       "3   False          None        L2J  None  ...  individual   \n",
       "4   False          None        L2J  None  ...  individual   \n",
       "5   False          None        L3J  None  ...  individual   \n",
       "6   False          None       None  None  ...  individual   \n",
       "7   False          None       None  None  ...  individual   \n",
       "8   False  FALCON 900EX        L3J  2012  ...  individual   \n",
       "9   False  FALCON 900EX        L3J  2012  ...  individual   \n",
       "10  False          None        L2J  None  ...  individual   \n",
       "11  False          None        L4J  None  ...       music   \n",
       "12  False  GVI (G650ER)        L2J  2013  ...  individual   \n",
       "13  False  GVI (G650ER)        L2J  2013  ...  individual   \n",
       "14  False          None        L2J  None  ...  individual   \n",
       "15  False          None        L2J  None  ...  individual   \n",
       "\n",
       "                                              sources  \\\n",
       "0   [https://www.adsbexchange.com/data-samples/, h...   \n",
       "1   [https://www.superyachtfan.com/private-jet/own...   \n",
       "2   [https://www.adsbexchange.com/data-samples/, h...   \n",
       "3   [https://www.adsbexchange.com/data-samples/, h...   \n",
       "4   [https://www.adsbexchange.com/data-samples/, h...   \n",
       "5   [https://www.adsbexchange.com/data-samples/, h...   \n",
       "6   [https://www.adsbexchange.com/data-samples/, h...   \n",
       "7   [https://www.adsbexchange.com/data-samples/, h...   \n",
       "8   [https://www.adsbexchange.com/data-samples/, h...   \n",
       "9   [https://www.adsbexchange.com/data-samples/, h...   \n",
       "10  [https://www.adsbexchange.com/data-samples/, h...   \n",
       "11  [https://www.adsbexchange.com/data-samples/, h...   \n",
       "12  [https://www.adsbexchange.com/data-samples/, h...   \n",
       "13  [https://www.adsbexchange.com/data-samples/, h...   \n",
       "14  [https://www.adsbexchange.com/data-samples/, h...   \n",
       "15  [https://www.adsbexchange.com/data-samples/, h...   \n",
       "\n",
       "                                            wiki_page                  ownop  \\\n",
       "0        https://en.wikipedia.org/wiki/Amancio_Ortega         Amancio Ortega   \n",
       "1        https://en.wikipedia.org/wiki/Max_Verstappen         Max Verstappen   \n",
       "2            https://en.wikipedia.org/wiki/Isak_Andic             Isak Andic   \n",
       "3          https://en.wikipedia.org/wiki/Lionel_Messi           Lionel Messi   \n",
       "4                                                                Gareth Bale   \n",
       "5                                                               Wayne Rooney   \n",
       "6                                                                 Paul Pogba   \n",
       "7                                                                 Paul Pogba   \n",
       "8   https://en.wikipedia.org/wiki/Jaime_Gilinski_B...         Jaime Gilinski   \n",
       "9   https://en.wikipedia.org/wiki/Jaime_Gilinski_B...         Jaime Gilinski   \n",
       "10                                                                      Kaká   \n",
       "11         https://es.wikipedia.org/wiki/Ed_Force_One            Iron Maiden   \n",
       "12  https://en.wikipedia.org/wiki/Luis_Carlos_Sarm...  Luis Carlos Sarmiento   \n",
       "13  https://en.wikipedia.org/wiki/Luis_Carlos_Sarm...  Luis Carlos Sarmiento   \n",
       "14                                                        Giuseppe De’Longhi   \n",
       "15                                                                    Neymar   \n",
       "\n",
       "   reg_code                                  country alpha-2    region  \\\n",
       "0        EC                                    Spain      ES    Europe   \n",
       "1        PH                              Netherlands      NL    Europe   \n",
       "2        EC                                    Spain      ES    Europe   \n",
       "3        LV                                Argentina      AR  Americas   \n",
       "4         D                                  Germany      DE    Europe   \n",
       "5         F                                   France      FR    Europe   \n",
       "6         N                                     Guam      GU   Oceania   \n",
       "7         N                 United States of America      US  Americas   \n",
       "8         N                                     Guam      GU   Oceania   \n",
       "9         N                 United States of America      US  Americas   \n",
       "10        D                                  Germany      DE    Europe   \n",
       "11       TF                                  Iceland      IS    Europe   \n",
       "12        N                                     Guam      GU   Oceania   \n",
       "13        N                 United States of America      US  Americas   \n",
       "14        I                                    Italy      IT    Europe   \n",
       "15        P  Korea (Democratic People's Republic of)      KP      Asia   \n",
       "\n",
       "                         sub-region intermediate-region  \n",
       "0                   Southern Europe                None  \n",
       "1                    Western Europe                None  \n",
       "2                   Southern Europe                None  \n",
       "3   Latin America and the Caribbean       South America  \n",
       "4                    Western Europe                None  \n",
       "5                    Western Europe                None  \n",
       "6                        Micronesia                None  \n",
       "7                  Northern America                None  \n",
       "8                        Micronesia                None  \n",
       "9                  Northern America                None  \n",
       "10                   Western Europe                None  \n",
       "11                  Northern Europe                None  \n",
       "12                       Micronesia                None  \n",
       "13                 Northern America                None  \n",
       "14                  Southern Europe                None  \n",
       "15                     Eastern Asia                None  \n",
       "\n",
       "[16 rows x 22 columns]"
      ]
     },
     "execution_count": 46,
     "metadata": {},
     "output_type": "execute_result"
    }
   ],
   "source": [
    "toPd(aircrafts.where(\"wiki_page is not null\"))"
   ]
  },
  {
   "cell_type": "code",
   "execution_count": 119,
   "id": "925582d4-a040-4fc0-b9bf-01953808afd7",
   "metadata": {},
   "outputs": [
    {
     "data": {
      "text/plain": [
       "DataFrame[reg: string, faa_ladd: boolean, faa_pia: boolean, icao: string, icaotype: string, manufacturer: string, mil: boolean, model: string, ownop: string, short_type: string, year: string, country: string, known_for: array<string>, ownop: string, ownop_type: string, sources: array<string>, wiki_page: string, reg_code: string, country: string, alpha-2: string, region: string, sub-region: string, intermediate-region: string]"
      ]
     },
     "execution_count": 119,
     "metadata": {},
     "output_type": "execute_result"
    }
   ],
   "source": [
    "aircrafts"
   ]
  },
  {
   "cell_type": "markdown",
   "id": "f41e2400-cf2c-49b8-a95b-c64f5d2e2d2e",
   "metadata": {
    "tags": []
   },
   "source": [
    "## Bill Gates trip analysis\n",
    "\n",
    "That day Bill Gates' jet did a trip from New York to Stockolm"
   ]
  },
  {
   "cell_type": "code",
   "execution_count": 67,
   "id": "287047c7",
   "metadata": {},
   "outputs": [
    {
     "data": {
      "text/html": [
       "<div>\n",
       "<style scoped>\n",
       "    .dataframe tbody tr th:only-of-type {\n",
       "        vertical-align: middle;\n",
       "    }\n",
       "\n",
       "    .dataframe tbody tr th {\n",
       "        vertical-align: top;\n",
       "    }\n",
       "\n",
       "    .dataframe thead th {\n",
       "        text-align: right;\n",
       "    }\n",
       "</style>\n",
       "<table border=\"1\" class=\"dataframe\">\n",
       "  <thead>\n",
       "    <tr style=\"text-align: right;\">\n",
       "      <th></th>\n",
       "      <th>r</th>\n",
       "      <th>icao</th>\n",
       "      <th>timestamp</th>\n",
       "      <th>s_after_ts</th>\n",
       "      <th>lat</th>\n",
       "      <th>lon</th>\n",
       "      <th>altitude_ft</th>\n",
       "      <th>gs_knots</th>\n",
       "      <th>track</th>\n",
       "      <th>flags</th>\n",
       "      <th>vertical_rate</th>\n",
       "      <th>object</th>\n",
       "    </tr>\n",
       "  </thead>\n",
       "  <tbody>\n",
       "    <tr>\n",
       "      <th>0</th>\n",
       "      <td>N194WM</td>\n",
       "      <td>a17907</td>\n",
       "      <td>1.651374e+09</td>\n",
       "      <td>0.0</td>\n",
       "      <td>38.954819</td>\n",
       "      <td>-77.440433</td>\n",
       "      <td>0</td>\n",
       "      <td>0.0</td>\n",
       "      <td>270.0</td>\n",
       "      <td>3</td>\n",
       "      <td>0</td>\n",
       "      <td>(1, 175, 0, None, none, None, None, 10, 2, 8, ...</td>\n",
       "    </tr>\n",
       "    <tr>\n",
       "      <th>1</th>\n",
       "      <td>N194WM</td>\n",
       "      <td>a17907</td>\n",
       "      <td>1.651374e+09</td>\n",
       "      <td>10008.1</td>\n",
       "      <td>46.648453</td>\n",
       "      <td>-68.587178</td>\n",
       "      <td>41000</td>\n",
       "      <td>499.2</td>\n",
       "      <td>32.1</td>\n",
       "      <td>0</td>\n",
       "      <td>-64</td>\n",
       "      <td>None</td>\n",
       "    </tr>\n",
       "    <tr>\n",
       "      <th>2</th>\n",
       "      <td>N194WM</td>\n",
       "      <td>a17907</td>\n",
       "      <td>1.651374e+09</td>\n",
       "      <td>10027.7</td>\n",
       "      <td>46.686722</td>\n",
       "      <td>-68.552343</td>\n",
       "      <td>41000</td>\n",
       "      <td>499.2</td>\n",
       "      <td>32.1</td>\n",
       "      <td>0</td>\n",
       "      <td>64</td>\n",
       "      <td>(0, 40750, 64, A3, none, N194WM  , None, 10, 2...</td>\n",
       "    </tr>\n",
       "    <tr>\n",
       "      <th>3</th>\n",
       "      <td>N194WM</td>\n",
       "      <td>a17907</td>\n",
       "      <td>1.651374e+09</td>\n",
       "      <td>10047.4</td>\n",
       "      <td>46.724899</td>\n",
       "      <td>-68.517508</td>\n",
       "      <td>41000</td>\n",
       "      <td>496.9</td>\n",
       "      <td>32.1</td>\n",
       "      <td>0</td>\n",
       "      <td>128</td>\n",
       "      <td>None</td>\n",
       "    </tr>\n",
       "    <tr>\n",
       "      <th>4</th>\n",
       "      <td>N194WM</td>\n",
       "      <td>a17907</td>\n",
       "      <td>1.651374e+09</td>\n",
       "      <td>10067.3</td>\n",
       "      <td>46.763809</td>\n",
       "      <td>-68.481937</td>\n",
       "      <td>41000</td>\n",
       "      <td>497.5</td>\n",
       "      <td>32.2</td>\n",
       "      <td>0</td>\n",
       "      <td>-64</td>\n",
       "      <td>None</td>\n",
       "    </tr>\n",
       "    <tr>\n",
       "      <th>...</th>\n",
       "      <td>...</td>\n",
       "      <td>...</td>\n",
       "      <td>...</td>\n",
       "      <td>...</td>\n",
       "      <td>...</td>\n",
       "      <td>...</td>\n",
       "      <td>...</td>\n",
       "      <td>...</td>\n",
       "      <td>...</td>\n",
       "      <td>...</td>\n",
       "      <td>...</td>\n",
       "      <td>...</td>\n",
       "    </tr>\n",
       "    <tr>\n",
       "      <th>95</th>\n",
       "      <td>N194WM</td>\n",
       "      <td>a17907</td>\n",
       "      <td>1.651374e+09</td>\n",
       "      <td>11820.2</td>\n",
       "      <td>50.120793</td>\n",
       "      <td>-65.017832</td>\n",
       "      <td>41000</td>\n",
       "      <td>506.0</td>\n",
       "      <td>36.1</td>\n",
       "      <td>0</td>\n",
       "      <td>0</td>\n",
       "      <td>None</td>\n",
       "    </tr>\n",
       "    <tr>\n",
       "      <th>96</th>\n",
       "      <td>N194WM</td>\n",
       "      <td>a17907</td>\n",
       "      <td>1.651374e+09</td>\n",
       "      <td>11839.9</td>\n",
       "      <td>50.15744</td>\n",
       "      <td>-64.976253</td>\n",
       "      <td>41000</td>\n",
       "      <td>506.6</td>\n",
       "      <td>36.2</td>\n",
       "      <td>0</td>\n",
       "      <td>0</td>\n",
       "      <td>None</td>\n",
       "    </tr>\n",
       "    <tr>\n",
       "      <th>97</th>\n",
       "      <td>N194WM</td>\n",
       "      <td>a17907</td>\n",
       "      <td>1.651374e+09</td>\n",
       "      <td>11856.8</td>\n",
       "      <td>50.189896</td>\n",
       "      <td>-64.939318</td>\n",
       "      <td>41000</td>\n",
       "      <td>506.0</td>\n",
       "      <td>36.1</td>\n",
       "      <td>0</td>\n",
       "      <td>0</td>\n",
       "      <td>None</td>\n",
       "    </tr>\n",
       "    <tr>\n",
       "      <th>98</th>\n",
       "      <td>N194WM</td>\n",
       "      <td>a17907</td>\n",
       "      <td>1.651374e+09</td>\n",
       "      <td>11876.4</td>\n",
       "      <td>50.226883</td>\n",
       "      <td>-64.89718</td>\n",
       "      <td>41000</td>\n",
       "      <td>506.6</td>\n",
       "      <td>36.2</td>\n",
       "      <td>0</td>\n",
       "      <td>64</td>\n",
       "      <td>(0, 40725, 64, A3, None, N194WM  , None, 10, 2...</td>\n",
       "    </tr>\n",
       "    <tr>\n",
       "      <th>99</th>\n",
       "      <td>N194WM</td>\n",
       "      <td>a17907</td>\n",
       "      <td>1.651374e+09</td>\n",
       "      <td>11884.7</td>\n",
       "      <td>50.242387</td>\n",
       "      <td>-64.879538</td>\n",
       "      <td>41000</td>\n",
       "      <td>506.6</td>\n",
       "      <td>36.2</td>\n",
       "      <td>0</td>\n",
       "      <td>0</td>\n",
       "      <td>None</td>\n",
       "    </tr>\n",
       "  </tbody>\n",
       "</table>\n",
       "<p>100 rows × 12 columns</p>\n",
       "</div>"
      ],
      "text/plain": [
       "         r    icao     timestamp s_after_ts        lat         lon  \\\n",
       "0   N194WM  a17907  1.651374e+09        0.0  38.954819  -77.440433   \n",
       "1   N194WM  a17907  1.651374e+09    10008.1  46.648453  -68.587178   \n",
       "2   N194WM  a17907  1.651374e+09    10027.7  46.686722  -68.552343   \n",
       "3   N194WM  a17907  1.651374e+09    10047.4  46.724899  -68.517508   \n",
       "4   N194WM  a17907  1.651374e+09    10067.3  46.763809  -68.481937   \n",
       "..     ...     ...           ...        ...        ...         ...   \n",
       "95  N194WM  a17907  1.651374e+09    11820.2  50.120793  -65.017832   \n",
       "96  N194WM  a17907  1.651374e+09    11839.9   50.15744  -64.976253   \n",
       "97  N194WM  a17907  1.651374e+09    11856.8  50.189896  -64.939318   \n",
       "98  N194WM  a17907  1.651374e+09    11876.4  50.226883   -64.89718   \n",
       "99  N194WM  a17907  1.651374e+09    11884.7  50.242387  -64.879538   \n",
       "\n",
       "   altitude_ft gs_knots  track flags vertical_rate  \\\n",
       "0            0      0.0  270.0     3             0   \n",
       "1        41000    499.2   32.1     0           -64   \n",
       "2        41000    499.2   32.1     0            64   \n",
       "3        41000    496.9   32.1     0           128   \n",
       "4        41000    497.5   32.2     0           -64   \n",
       "..         ...      ...    ...   ...           ...   \n",
       "95       41000    506.0   36.1     0             0   \n",
       "96       41000    506.6   36.2     0             0   \n",
       "97       41000    506.0   36.1     0             0   \n",
       "98       41000    506.6   36.2     0            64   \n",
       "99       41000    506.6   36.2     0             0   \n",
       "\n",
       "                                               object  \n",
       "0   (1, 175, 0, None, none, None, None, 10, 2, 8, ...  \n",
       "1                                                None  \n",
       "2   (0, 40750, 64, A3, none, N194WM  , None, 10, 2...  \n",
       "3                                                None  \n",
       "4                                                None  \n",
       "..                                                ...  \n",
       "95                                               None  \n",
       "96                                               None  \n",
       "97                                               None  \n",
       "98  (0, 40725, 64, A3, None, N194WM  , None, 10, 2...  \n",
       "99                                               None  \n",
       "\n",
       "[100 rows x 12 columns]"
      ]
     },
     "execution_count": 67,
     "metadata": {},
     "output_type": "execute_result"
    }
   ],
   "source": [
    "bill_gates = traces.where(\"r = 'N194WM'\").sort(\"s_after_ts\")\n",
    "toPd(bill_gates)"
   ]
  },
  {
   "cell_type": "code",
   "execution_count": 81,
   "id": "cb6f60e3",
   "metadata": {},
   "outputs": [],
   "source": [
    "import pandas as pd\n",
    "type_conv = {\n",
    "    \"lat\": \"float64\",\n",
    "    \"lon\": \"float64\",\n",
    "    \"s_after_ts\": \"float64\",\n",
    "    \"gs_knots\": \"float64\",\n",
    "    \"altitude_ft\": \"Int64\",\n",
    "}\n",
    "gates_df = bill_gates.select(\"r\", \"s_after_ts\", \"lat\", \"lon\", \"gs_knots\", \"altitude_ft\").sort(\"s_after_ts\")\\\n",
    "  .toPandas().astype(type_conv).sort_values(\"s_after_ts\")\n",
    "\n",
    "gates_df['gs_quartile'] = pd.qcut(gates_df['gs_knots'], 4, ['q1','q2','q3','q4'])"
   ]
  },
  {
   "cell_type": "code",
   "execution_count": null,
   "id": "d8e1da50-0140-4975-a67c-b3053c81d24f",
   "metadata": {},
   "outputs": [],
   "source": [
    "import plotly.express as px\n",
    "fig = px.line_geo(gates_df, lat=\"lat\", lon=\"lon\", title=\"Flight data for trip(s)\",  width=1500, height=800)#, color=\"gs_quartile\")\n",
    "fig.update_layout(mapbox_style=\"open-street-map\", mapbox_zoom=0.5, mapbox_center_lat = 15, mapbox_center_lon=0,\n",
    "                  margin={\"r\":0,\"t\":0,\"l\":0,\"b\":0})\n",
    "fig.show()"
   ]
  },
  {
   "cell_type": "code",
   "execution_count": null,
   "id": "8ca3c4e6-71d4-4424-a96c-892c367c1b61",
   "metadata": {},
   "outputs": [],
   "source": [
    "#It does not show really well...\n",
    "fig = px.density_mapbox(gates_df, lat=\"lat\", lon=\"lon\", title=\"Flight data With speed\", z=\"altitude_ft\", radius=2, zoom=1.5, mapbox_style=\"stamen-terrain\",  width=1500, height=800)\n",
    "fig.show()"
   ]
  },
  {
   "cell_type": "code",
   "execution_count": null,
   "id": "b321a3e4",
   "metadata": {},
   "outputs": [],
   "source": [
    "gates_tick = gulfstream.select(\"r\", \"now\", \"lat\", \"lon\").where(\"r like 'N%'\").sort(\"now\").toPandas().sort_values([\"r\", \"now\"])\n",
    "fig = px.line_geo(gates_tick, lat=\"lat\", lon=\"lon\", title=\"Raw 5s tick\", color=\"r\",  width=1500, height=800)\n",
    "fig.show()"
   ]
  },
  {
   "cell_type": "code",
   "execution_count": 91,
   "id": "a036ee7c-d5e5-4852-b850-66f1fe5d27eb",
   "metadata": {},
   "outputs": [
    {
     "data": {
      "text/html": [
       "<div>\n",
       "<style scoped>\n",
       "    .dataframe tbody tr th:only-of-type {\n",
       "        vertical-align: middle;\n",
       "    }\n",
       "\n",
       "    .dataframe tbody tr th {\n",
       "        vertical-align: top;\n",
       "    }\n",
       "\n",
       "    .dataframe thead th {\n",
       "        text-align: right;\n",
       "    }\n",
       "</style>\n",
       "<table border=\"1\" class=\"dataframe\">\n",
       "  <thead>\n",
       "    <tr style=\"text-align: right;\">\n",
       "      <th></th>\n",
       "      <th>r</th>\n",
       "      <th>now</th>\n",
       "      <th>lat</th>\n",
       "      <th>lon</th>\n",
       "    </tr>\n",
       "  </thead>\n",
       "  <tbody>\n",
       "    <tr>\n",
       "      <th>0</th>\n",
       "      <td>N194WM</td>\n",
       "      <td>1.651370e+09</td>\n",
       "      <td>NaN</td>\n",
       "      <td>NaN</td>\n",
       "    </tr>\n",
       "    <tr>\n",
       "      <th>1</th>\n",
       "      <td>N194WM</td>\n",
       "      <td>1.651370e+09</td>\n",
       "      <td>NaN</td>\n",
       "      <td>NaN</td>\n",
       "    </tr>\n",
       "    <tr>\n",
       "      <th>2</th>\n",
       "      <td>N194WM</td>\n",
       "      <td>1.651370e+09</td>\n",
       "      <td>NaN</td>\n",
       "      <td>NaN</td>\n",
       "    </tr>\n",
       "    <tr>\n",
       "      <th>3</th>\n",
       "      <td>N194WM</td>\n",
       "      <td>1.651370e+09</td>\n",
       "      <td>NaN</td>\n",
       "      <td>NaN</td>\n",
       "    </tr>\n",
       "    <tr>\n",
       "      <th>4</th>\n",
       "      <td>N194WM</td>\n",
       "      <td>1.651370e+09</td>\n",
       "      <td>NaN</td>\n",
       "      <td>NaN</td>\n",
       "    </tr>\n",
       "    <tr>\n",
       "      <th>...</th>\n",
       "      <td>...</td>\n",
       "      <td>...</td>\n",
       "      <td>...</td>\n",
       "      <td>...</td>\n",
       "    </tr>\n",
       "    <tr>\n",
       "      <th>5042</th>\n",
       "      <td>N194WM</td>\n",
       "      <td>1.651409e+09</td>\n",
       "      <td>NaN</td>\n",
       "      <td>NaN</td>\n",
       "    </tr>\n",
       "    <tr>\n",
       "      <th>5043</th>\n",
       "      <td>N194WM</td>\n",
       "      <td>1.651409e+09</td>\n",
       "      <td>NaN</td>\n",
       "      <td>NaN</td>\n",
       "    </tr>\n",
       "    <tr>\n",
       "      <th>5044</th>\n",
       "      <td>N194WM</td>\n",
       "      <td>1.651409e+09</td>\n",
       "      <td>NaN</td>\n",
       "      <td>NaN</td>\n",
       "    </tr>\n",
       "    <tr>\n",
       "      <th>5045</th>\n",
       "      <td>N194WM</td>\n",
       "      <td>1.651409e+09</td>\n",
       "      <td>NaN</td>\n",
       "      <td>NaN</td>\n",
       "    </tr>\n",
       "    <tr>\n",
       "      <th>5046</th>\n",
       "      <td>N194WM</td>\n",
       "      <td>1.651409e+09</td>\n",
       "      <td>NaN</td>\n",
       "      <td>NaN</td>\n",
       "    </tr>\n",
       "  </tbody>\n",
       "</table>\n",
       "<p>5047 rows × 4 columns</p>\n",
       "</div>"
      ],
      "text/plain": [
       "           r           now  lat  lon\n",
       "0     N194WM  1.651370e+09  NaN  NaN\n",
       "1     N194WM  1.651370e+09  NaN  NaN\n",
       "2     N194WM  1.651370e+09  NaN  NaN\n",
       "3     N194WM  1.651370e+09  NaN  NaN\n",
       "4     N194WM  1.651370e+09  NaN  NaN\n",
       "...      ...           ...  ...  ...\n",
       "5042  N194WM  1.651409e+09  NaN  NaN\n",
       "5043  N194WM  1.651409e+09  NaN  NaN\n",
       "5044  N194WM  1.651409e+09  NaN  NaN\n",
       "5045  N194WM  1.651409e+09  NaN  NaN\n",
       "5046  N194WM  1.651409e+09  NaN  NaN\n",
       "\n",
       "[5047 rows x 4 columns]"
      ]
     },
     "execution_count": 91,
     "metadata": {},
     "output_type": "execute_result"
    }
   ],
   "source": [
    "gulfstream"
   ]
  },
  {
   "cell_type": "code",
   "execution_count": 45,
   "id": "a90d3506-a122-4ac2-95f1-94ac3ddb15e2",
   "metadata": {},
   "outputs": [
    {
     "data": {
      "text/plain": [
       "'{\"type\":\"adsb_icao\",\"flight\":\"PLC1    \",\"alt_geom\":150,\"track\":0.0,\"mag_heading\":329.06,\"true_heading\":349.18,\"baro_rate\":-832,\"squawk\":\"2021\",\"emergency\":\"none\",\"category\":\"A7\",\"nic\":8,\"rc\":186,\"version\":0,\"nac_p\":8,\"nac_v\":2,\"sil\":2,\"sil_type\":\"perhour\",\"alert\":0,\"spi\":0}'"
      ]
     },
     "execution_count": 45,
     "metadata": {},
     "output_type": "execute_result"
    }
   ],
   "source": [
    "trace.where(\"object_raw is not null\").select(\"object_raw\").head()[0]"
   ]
  },
  {
   "cell_type": "code",
   "execution_count": 106,
   "id": "186b7ac5-4091-4ba8-8e81-b864e057f1f5",
   "metadata": {},
   "outputs": [],
   "source": [
    "from pyspark.sql.window import Window\n",
    "from pyspark.sql.types import FloatType\n",
    "from geopy.distance import distance\n",
    "import math\n",
    "\n",
    "bill_gates_with_ts = bill_gates.withColumn(\"ts\", from_unixtime(col(\"timestamp\") + col(\"s_after_ts\"))).drop(\"timestamp\", \"s_after_ts\")\n",
    "\n",
    "windowSpec = Window.partitionBy(\"r\").orderBy(\"ts\")\n",
    "@udf(returnType=FloatType())\n",
    "def geodesic_distance(lat1, lon1, lat2, lon2):\n",
    "    if lat1 is not None:\n",
    "        surface_distance = distance((lon1, lat1), (lon2, lat2)).km\n",
    "        return surface_distance\n",
    "\n",
    "\n",
    "with_distance = bill_gates_with_ts.\\\n",
    "  withColumn(\"prev_lat\", lead(col(\"lat\"), 1).over(windowSpec)).\\\n",
    "  withColumn(\"prev_lon\", lead(col(\"lon\"), 1).over(windowSpec)).\\\n",
    "  withColumn(\"distance_km\", geodesic_distance(col(\"lon\"), col(\"lat\"), col(\"prev_lon\"), col(\"prev_lat\")))"
   ]
  },
  {
   "cell_type": "code",
   "execution_count": 107,
   "id": "dfdee7c5-e75f-49c6-b133-84b32e0723a2",
   "metadata": {},
   "outputs": [
    {
     "data": {
      "text/html": [
       "<div>\n",
       "<style scoped>\n",
       "    .dataframe tbody tr th:only-of-type {\n",
       "        vertical-align: middle;\n",
       "    }\n",
       "\n",
       "    .dataframe tbody tr th {\n",
       "        vertical-align: top;\n",
       "    }\n",
       "\n",
       "    .dataframe thead th {\n",
       "        text-align: right;\n",
       "    }\n",
       "</style>\n",
       "<table border=\"1\" class=\"dataframe\">\n",
       "  <thead>\n",
       "    <tr style=\"text-align: right;\">\n",
       "      <th></th>\n",
       "      <th>r</th>\n",
       "      <th>icao</th>\n",
       "      <th>lat</th>\n",
       "      <th>lon</th>\n",
       "      <th>altitude_ft</th>\n",
       "      <th>gs_knots</th>\n",
       "      <th>track</th>\n",
       "      <th>flags</th>\n",
       "      <th>vertical_rate</th>\n",
       "      <th>object</th>\n",
       "      <th>ts</th>\n",
       "      <th>prev_lat</th>\n",
       "      <th>prev_lon</th>\n",
       "      <th>distance_km</th>\n",
       "    </tr>\n",
       "  </thead>\n",
       "  <tbody>\n",
       "    <tr>\n",
       "      <th>0</th>\n",
       "      <td>N194WM</td>\n",
       "      <td>a17907</td>\n",
       "      <td>38.954819</td>\n",
       "      <td>-77.440433</td>\n",
       "      <td>0</td>\n",
       "      <td>0.0</td>\n",
       "      <td>270.0</td>\n",
       "      <td>3</td>\n",
       "      <td>0</td>\n",
       "      <td>(1, 175, 0, None, none, None, None, 10, 2, 8, ...</td>\n",
       "      <td>2022-05-01 05:02:23</td>\n",
       "      <td>38.954819</td>\n",
       "      <td>-77.440433</td>\n",
       "      <td>0.000000</td>\n",
       "    </tr>\n",
       "    <tr>\n",
       "      <th>1</th>\n",
       "      <td>N194WM</td>\n",
       "      <td>a17907</td>\n",
       "      <td>38.954819</td>\n",
       "      <td>-77.440433</td>\n",
       "      <td>0</td>\n",
       "      <td>0.0</td>\n",
       "      <td>270.0</td>\n",
       "      <td>1</td>\n",
       "      <td>None</td>\n",
       "      <td>None</td>\n",
       "      <td>2022-05-01 06:17:22</td>\n",
       "      <td>38.954819</td>\n",
       "      <td>-77.440522</td>\n",
       "      <td>0.007715</td>\n",
       "    </tr>\n",
       "    <tr>\n",
       "      <th>2</th>\n",
       "      <td>N194WM</td>\n",
       "      <td>a17907</td>\n",
       "      <td>38.954819</td>\n",
       "      <td>-77.440522</td>\n",
       "      <td>0</td>\n",
       "      <td>0.0</td>\n",
       "      <td>278.4</td>\n",
       "      <td>0</td>\n",
       "      <td>None</td>\n",
       "      <td>None</td>\n",
       "      <td>2022-05-01 06:18:18</td>\n",
       "      <td>38.954865</td>\n",
       "      <td>-77.440612</td>\n",
       "      <td>0.009324</td>\n",
       "    </tr>\n",
       "    <tr>\n",
       "      <th>3</th>\n",
       "      <td>N194WM</td>\n",
       "      <td>a17907</td>\n",
       "      <td>38.954865</td>\n",
       "      <td>-77.440612</td>\n",
       "      <td>0</td>\n",
       "      <td>2.2</td>\n",
       "      <td>309.4</td>\n",
       "      <td>0</td>\n",
       "      <td>None</td>\n",
       "      <td>None</td>\n",
       "      <td>2022-05-01 06:18:31</td>\n",
       "      <td>38.95491</td>\n",
       "      <td>-77.440657</td>\n",
       "      <td>0.006338</td>\n",
       "    </tr>\n",
       "    <tr>\n",
       "      <th>4</th>\n",
       "      <td>N194WM</td>\n",
       "      <td>a17907</td>\n",
       "      <td>38.95491</td>\n",
       "      <td>-77.440657</td>\n",
       "      <td>0</td>\n",
       "      <td>3.2</td>\n",
       "      <td>337.5</td>\n",
       "      <td>0</td>\n",
       "      <td>None</td>\n",
       "      <td>(None, None, None, A3, none, N194WM  , None, 1...</td>\n",
       "      <td>2022-05-01 06:18:36</td>\n",
       "      <td>38.954967</td>\n",
       "      <td>-77.440686</td>\n",
       "      <td>0.006809</td>\n",
       "    </tr>\n",
       "    <tr>\n",
       "      <th>...</th>\n",
       "      <td>...</td>\n",
       "      <td>...</td>\n",
       "      <td>...</td>\n",
       "      <td>...</td>\n",
       "      <td>...</td>\n",
       "      <td>...</td>\n",
       "      <td>...</td>\n",
       "      <td>...</td>\n",
       "      <td>...</td>\n",
       "      <td>...</td>\n",
       "      <td>...</td>\n",
       "      <td>...</td>\n",
       "      <td>...</td>\n",
       "      <td>...</td>\n",
       "    </tr>\n",
       "    <tr>\n",
       "      <th>95</th>\n",
       "      <td>N194WM</td>\n",
       "      <td>a17907</td>\n",
       "      <td>38.960732</td>\n",
       "      <td>-77.503723</td>\n",
       "      <td>4800</td>\n",
       "      <td>268.5</td>\n",
       "      <td>10.5</td>\n",
       "      <td>0</td>\n",
       "      <td>768</td>\n",
       "      <td>None</td>\n",
       "      <td>2022-05-01 06:28:07</td>\n",
       "      <td>38.976792</td>\n",
       "      <td>-77.499817</td>\n",
       "      <td>1.814750</td>\n",
       "    </tr>\n",
       "    <tr>\n",
       "      <th>96</th>\n",
       "      <td>N194WM</td>\n",
       "      <td>a17907</td>\n",
       "      <td>38.976792</td>\n",
       "      <td>-77.499817</td>\n",
       "      <td>4850</td>\n",
       "      <td>267.9</td>\n",
       "      <td>11.0</td>\n",
       "      <td>0</td>\n",
       "      <td>64</td>\n",
       "      <td>(0, 4975, 64, A3, none, N194WM  , None, 10, 2,...</td>\n",
       "      <td>2022-05-01 06:28:20</td>\n",
       "      <td>38.986475</td>\n",
       "      <td>-77.49707</td>\n",
       "      <td>1.100997</td>\n",
       "    </tr>\n",
       "    <tr>\n",
       "      <th>97</th>\n",
       "      <td>N194WM</td>\n",
       "      <td>a17907</td>\n",
       "      <td>38.986475</td>\n",
       "      <td>-77.49707</td>\n",
       "      <td>4850</td>\n",
       "      <td>267.3</td>\n",
       "      <td>13.4</td>\n",
       "      <td>0</td>\n",
       "      <td>-64</td>\n",
       "      <td>None</td>\n",
       "      <td>2022-05-01 06:28:28</td>\n",
       "      <td>38.994203</td>\n",
       "      <td>-77.494385</td>\n",
       "      <td>0.888904</td>\n",
       "    </tr>\n",
       "    <tr>\n",
       "      <th>98</th>\n",
       "      <td>N194WM</td>\n",
       "      <td>a17907</td>\n",
       "      <td>38.994203</td>\n",
       "      <td>-77.494385</td>\n",
       "      <td>4825</td>\n",
       "      <td>267.7</td>\n",
       "      <td>16.3</td>\n",
       "      <td>0</td>\n",
       "      <td>-192</td>\n",
       "      <td>None</td>\n",
       "      <td>2022-05-01 06:28:34</td>\n",
       "      <td>39.000458</td>\n",
       "      <td>-77.491707</td>\n",
       "      <td>0.732130</td>\n",
       "    </tr>\n",
       "    <tr>\n",
       "      <th>99</th>\n",
       "      <td>N194WM</td>\n",
       "      <td>a17907</td>\n",
       "      <td>39.000458</td>\n",
       "      <td>-77.491707</td>\n",
       "      <td>4825</td>\n",
       "      <td>267.0</td>\n",
       "      <td>19.9</td>\n",
       "      <td>0</td>\n",
       "      <td>0</td>\n",
       "      <td>None</td>\n",
       "      <td>2022-05-01 06:28:40</td>\n",
       "      <td>39.005905</td>\n",
       "      <td>-77.488841</td>\n",
       "      <td>0.653680</td>\n",
       "    </tr>\n",
       "  </tbody>\n",
       "</table>\n",
       "<p>100 rows × 14 columns</p>\n",
       "</div>"
      ],
      "text/plain": [
       "         r    icao        lat         lon altitude_ft gs_knots  track flags  \\\n",
       "0   N194WM  a17907  38.954819  -77.440433           0      0.0  270.0     3   \n",
       "1   N194WM  a17907  38.954819  -77.440433           0      0.0  270.0     1   \n",
       "2   N194WM  a17907  38.954819  -77.440522           0      0.0  278.4     0   \n",
       "3   N194WM  a17907  38.954865  -77.440612           0      2.2  309.4     0   \n",
       "4   N194WM  a17907   38.95491  -77.440657           0      3.2  337.5     0   \n",
       "..     ...     ...        ...         ...         ...      ...    ...   ...   \n",
       "95  N194WM  a17907  38.960732  -77.503723        4800    268.5   10.5     0   \n",
       "96  N194WM  a17907  38.976792  -77.499817        4850    267.9   11.0     0   \n",
       "97  N194WM  a17907  38.986475   -77.49707        4850    267.3   13.4     0   \n",
       "98  N194WM  a17907  38.994203  -77.494385        4825    267.7   16.3     0   \n",
       "99  N194WM  a17907  39.000458  -77.491707        4825    267.0   19.9     0   \n",
       "\n",
       "   vertical_rate                                             object  \\\n",
       "0              0  (1, 175, 0, None, none, None, None, 10, 2, 8, ...   \n",
       "1           None                                               None   \n",
       "2           None                                               None   \n",
       "3           None                                               None   \n",
       "4           None  (None, None, None, A3, none, N194WM  , None, 1...   \n",
       "..           ...                                                ...   \n",
       "95           768                                               None   \n",
       "96            64  (0, 4975, 64, A3, none, N194WM  , None, 10, 2,...   \n",
       "97           -64                                               None   \n",
       "98          -192                                               None   \n",
       "99             0                                               None   \n",
       "\n",
       "                     ts   prev_lat    prev_lon  distance_km  \n",
       "0   2022-05-01 05:02:23  38.954819  -77.440433     0.000000  \n",
       "1   2022-05-01 06:17:22  38.954819  -77.440522     0.007715  \n",
       "2   2022-05-01 06:18:18  38.954865  -77.440612     0.009324  \n",
       "3   2022-05-01 06:18:31   38.95491  -77.440657     0.006338  \n",
       "4   2022-05-01 06:18:36  38.954967  -77.440686     0.006809  \n",
       "..                  ...        ...         ...          ...  \n",
       "95  2022-05-01 06:28:07  38.976792  -77.499817     1.814750  \n",
       "96  2022-05-01 06:28:20  38.986475   -77.49707     1.100997  \n",
       "97  2022-05-01 06:28:28  38.994203  -77.494385     0.888904  \n",
       "98  2022-05-01 06:28:34  39.000458  -77.491707     0.732130  \n",
       "99  2022-05-01 06:28:40  39.005905  -77.488841     0.653680  \n",
       "\n",
       "[100 rows x 14 columns]"
      ]
     },
     "execution_count": 107,
     "metadata": {},
     "output_type": "execute_result"
    }
   ],
   "source": [
    "toPd(with_distance)"
   ]
  },
  {
   "cell_type": "code",
   "execution_count": 110,
   "id": "8f2606c6-7505-42d7-acf2-ede30c4e17db",
   "metadata": {},
   "outputs": [
    {
     "name": "stdout",
     "output_type": "stream",
     "text": [
      "+------+------------------+\n",
      "|     r|  sum(distance_km)|\n",
      "+------+------------------+\n",
      "|N194WM|13633.242093407549|\n",
      "+------+------------------+\n",
      "\n"
     ]
    }
   ],
   "source": [
    "with_distance.where(\"distance_km > 0.01\").groupBy(\"r\").sum(\"distance_km\").orderBy(\"sum(distance_km)\").show()"
   ]
  },
  {
   "cell_type": "code",
   "execution_count": 127,
   "id": "7f6837a8-0018-4b88-b911-e8eb34a82ab8",
   "metadata": {},
   "outputs": [
    {
     "name": "stdout",
     "output_type": "stream",
     "text": [
      "+------+------+--------+----------+-----------+--------+-----+-----+-------------+--------------------+-------------------+-------------------+-------------------+\n",
      "|     r|  icao|     lat|       lon|altitude_ft|gs_knots|track|flags|vertical_rate|              object|                 ts|             max_ts|             min_ts|\n",
      "+------+------+--------+----------+-----------+--------+-----+-----+-------------+--------------------+-------------------+-------------------+-------------------+\n",
      "|N194WM|a17907|38.95047|-77.436059|        125|    76.0|180.8|    0|            0|                null|2022-05-01 06:25:44|2022-05-01 13:40:33|2022-05-01 06:25:44|\n",
      "|N194WM|a17907|59.34256|  17.97464|        125|   122.6|305.4|    0|         -960|{0, 425, -960, A3...|2022-05-01 13:40:33|2022-05-01 13:40:33|2022-05-01 06:25:44|\n",
      "+------+------+--------+----------+-----------+--------+-----+-----+-------------+--------------------+-------------------+-------------------+-------------------+\n",
      "\n"
     ]
    }
   ],
   "source": [
    "bill_gates_with_ts.\\\n",
    "  where(\"altitude_ft > 100\").\\\n",
    "  withColumn(\"max_ts\", max(\"ts\").over(Window.partitionBy(\"r\").orderBy(\"ts\").rowsBetween(Window.unboundedPreceding, Window.unboundedFollowing))).\\\n",
    "  withColumn(\"min_ts\", min(\"ts\").over(Window.partitionBy(\"r\").orderBy(\"ts\").rowsBetween(Window.unboundedPreceding, Window.unboundedFollowing))).\\\n",
    "  where(\"ts = max_ts OR ts = min_ts\").show()"
   ]
  },
  {
   "cell_type": "code",
   "execution_count": 188,
   "id": "b0efbd16-196e-4bb6-a10f-cfd85b1e87dc",
   "metadata": {},
   "outputs": [
    {
     "name": "stderr",
     "output_type": "stream",
     "text": [
      "[Stage 269:=============================>                        (42 + 32) / 78]\r"
     ]
    },
    {
     "name": "stdout",
     "output_type": "stream",
     "text": [
      "+------+----------------+----------------+-------------+------------------+\n",
      "|     r|           start|             end|flight_time_s|    flight_time_hr|\n",
      "+------+----------------+----------------+-------------+------------------+\n",
      "|N927JA|1.651363199612E9|1.651449594612E9|      86395.0| 23.99861111111111|\n",
      "|N268VT|1.651363199612E9|1.651449594612E9|      86395.0| 23.99861111111111|\n",
      "|N130JE|1.651363199612E9|1.651449594612E9|      86395.0| 23.99861111111111|\n",
      "|N1777M|1.651363199612E9|1.651449559612E9|      86360.0|23.988888888888887|\n",
      "|N703FS|1.651363199612E9|1.651449069612E9|      85870.0|23.852777777777778|\n",
      "|HI1055|1.651363199612E9|1.651448209612E9|      85010.0|23.613888888888887|\n",
      "|N151QS|1.651363199612E9|1.651447404612E9|      84205.0| 23.39027777777778|\n",
      "|N808CF|1.651363199612E9|1.651446854612E9|      83655.0|           23.2375|\n",
      "|9H-ANS|1.651363199612E9|1.651446829612E9|      83630.0|23.230555555555554|\n",
      "|N909JC|1.651366169612E9|1.651449594612E9|      83425.0| 23.17361111111111|\n",
      "|9H-VJA|1.651363199612E9|1.651445504612E9|      82305.0|           22.8625|\n",
      "|N165QS|1.651363199612E9|1.651445494612E9|      82295.0| 22.85972222222222|\n",
      "|N550BG|1.651363969612E9|1.651445989612E9|      82020.0|22.783333333333335|\n",
      "|  N1CC|1.651363199612E9|1.651444619612E9|      81420.0|22.616666666666667|\n",
      "|N600CK|1.651368734612E9|1.651449594612E9|      80860.0|22.461111111111112|\n",
      "|N905JG|1.651363199612E9|1.651444034612E9|      80835.0|22.454166666666666|\n",
      "|N163QS|1.651369204612E9|1.651449594612E9|      80390.0|22.330555555555556|\n",
      "|N129NS|1.651363199612E9|1.651443424612E9|      80225.0| 22.28472222222222|\n",
      "|N480VR|1.651363204612E9|1.651438454612E9|      75250.0| 20.90277777777778|\n",
      "|N218JE|1.651363199612E9|1.651436744612E9|      73545.0|20.429166666666667|\n",
      "+------+----------------+----------------+-------------+------------------+\n",
      "only showing top 20 rows\n",
      "\n"
     ]
    },
    {
     "name": "stderr",
     "output_type": "stream",
     "text": [
      "                                                                                \r"
     ]
    }
   ],
   "source": [
    "# Rough, using time. We assume we have only one flight per aircraft.\n",
    "# We will need to detect \"legs\" from the flag using bitwise calulators: flags & 2 > 0: start of a new leg  (tries to detect a separation point between landing and takeoff that separates fligths)\n",
    "#flight_time = gulfstream.groupBy(\"r\").agg(min(\"ts\").alias(\"start\"), min(\"ts\").alias(\"end\")).withColumn(\"flight_time\", col(\"end\") - col(\"start\"))\n",
    "gulfstream = hist.where(\"t in ('GLF6', 'GLEX', 'GLF5', 'GLF4')\")\n",
    "flight_time = gulfstream.withColumn(\"ts\", from_unixtime(col(\"now\"))).\\\n",
    "  where(\"alt_baro > 100\").\\\n",
    "  groupBy(\"r\").agg(min(\"now\").alias(\"start\"), max(\"now\").alias(\"end\")).\\\n",
    "  withColumn(\"flight_time_s\", col(\"end\") - col(\"start\")).\\\n",
    "  withColumn(\"flight_time_hr\", col(\"flight_time_s\")/3600).\\\n",
    "  where(f\"flight_time_s > {5*60}\")\n",
    "flight_time.sort(col(\"flight_time_s\").desc_nulls_last()).show()"
   ]
  },
  {
   "cell_type": "markdown",
   "id": "d18dc863-f547-4a38-91d0-129755c16441",
   "metadata": {
    "tags": []
   },
   "source": [
    "## Simplified Flight time approach\n",
    "\n",
    "We'll count all instances where the plane reported a barometric altitude > 10. \n",
    "Knowing we have data every 5s we can compute a rough flight time estimation\n",
    "\n",
    "We add 40 ponts extra for takeoff and landing"
   ]
  },
  {
   "cell_type": "code",
   "execution_count": 120,
   "id": "84608fae-a6fd-4db8-94fb-788a478a3737",
   "metadata": {},
   "outputs": [],
   "source": [
    "def compute_flight_time(ticks, s_between_ticks = 5):\n",
    "    \"\"\" Calculates flight time in seconds and hours \n",
    "    Requires a dataset with the fields `icao` (unique icao hex code)\n",
    "    \n",
    "    \"\"\"\n",
    "    flight_time = ticks.where(\"alt_baro > 10\").\\\n",
    "      groupBy(\"icao\").count().\\\n",
    "      withColumns({\n",
    "        \"air_s\": (col(\"count\") + 40) * s_between_ticks,  \n",
    "        \"air_h\": (col(\"count\") + 40) * s_between_ticks / 3600, \n",
    "      }).\\\n",
    "      drop(\"count\")\n",
    "    return flight_time"
   ]
  },
  {
   "cell_type": "code",
   "execution_count": 121,
   "id": "55fd6740-99a1-40e5-9c6b-65170fa45352",
   "metadata": {},
   "outputs": [],
   "source": [
    "gulfstream = hist.where(\"t in ('GLF6', 'GLEX', 'GLF5', 'GLF4')\")"
   ]
  },
  {
   "cell_type": "code",
   "execution_count": 122,
   "id": "aeccd72d-078d-424c-bf95-d1b2db7175bc",
   "metadata": {},
   "outputs": [
    {
     "name": "stderr",
     "output_type": "stream",
     "text": [
      "[Stage 404:=====================================================> (76 + 2) / 78]\r"
     ]
    },
    {
     "name": "stdout",
     "output_type": "stream",
     "text": [
      "+------+-----+------------------+\n",
      "|  icao|air_s|             air_h|\n",
      "+------+-----+------------------+\n",
      "|424b9b|27925| 7.756944444444445|\n",
      "|a9b339|15880| 4.411111111111111|\n",
      "|a82540| 9025|2.5069444444444446|\n",
      "|ab48aa|19825| 5.506944444444445|\n",
      "|4b846e|  635|0.1763888888888889|\n",
      "|a08114| 6495|1.8041666666666667|\n",
      "|aba598|16475| 4.576388888888889|\n",
      "|a56d31| 7350|2.0416666666666665|\n",
      "|440652|31580| 8.772222222222222|\n",
      "|a5a19c|22810| 6.336111111111111|\n",
      "|491d85|12535|3.4819444444444443|\n",
      "|4b8587| 2025|            0.5625|\n",
      "|a13044|27350| 7.597222222222222|\n",
      "|a0765e|28155| 7.820833333333334|\n",
      "|a78116|16745| 4.651388888888889|\n",
      "|ac6428|15110| 4.197222222222222|\n",
      "|4bad07|16905| 4.695833333333334|\n",
      "|a78538| 4015|1.1152777777777778|\n",
      "|a0ec67| 4050|             1.125|\n",
      "|a18e7d|16970| 4.713888888888889|\n",
      "+------+-----+------------------+\n",
      "only showing top 20 rows\n",
      "\n"
     ]
    },
    {
     "name": "stderr",
     "output_type": "stream",
     "text": [
      "                                                                                \r"
     ]
    }
   ],
   "source": [
    "flight_time = compute_flight_time(gulfstream)\n",
    "flight_time.show()"
   ]
  },
  {
   "cell_type": "code",
   "execution_count": 123,
   "id": "49806fe7-d0ed-4e0e-8f74-341c64d54a2d",
   "metadata": {},
   "outputs": [
    {
     "name": "stderr",
     "output_type": "stream",
     "text": [
      "                                                                                \r"
     ]
    },
    {
     "data": {
      "text/plain": [
       "5.069444444444445"
      ]
     },
     "execution_count": 123,
     "metadata": {},
     "output_type": "execute_result"
    }
   ],
   "source": [
    "# Com la dada és cada 5s, puc contar les vegades que està a més de X altçada baromètrica i afegir-ho al temps de vol\n",
    "\n",
    "gulfstream.where(\"r = 'N268VT' and alt_baro > 100\").count() * 5 / 60 /60"
   ]
  },
  {
   "cell_type": "markdown",
   "id": "70b9d10d-415f-4114-91d2-1dec8cfcf4e5",
   "metadata": {
    "tags": []
   },
   "source": [
    "### CO2 calculation\n",
    "\n",
    "From https://github.com/Jxck-S/plane-notify/blob/multi/fuel_calc.py#L18\n",
    "```python\n",
    "def fuel_calculation(aircraft_icao_type, minutes):\n",
    "\t\"\"\"Calculates fuel usage, price, c02 output of a flight depending on aircraft type and flight length\"\"\"\n",
    "\twith open(\"aircraft_type_fuel_consumption_rates.json\", \"r\") as f:\n",
    "\t\tfuellist = json.loads(f.read())\n",
    "\t#avg_fuel_price_per_gallon = 5.08\n",
    "\tfuel_flight_info = {}\n",
    "\tif aircraft_icao_type in fuellist.keys():\n",
    "\t\tavg_fuel_price_per_gallon = get_avg_fuel_price()\n",
    "\t\tgalph = fuellist[aircraft_icao_type][\"galph\"]\n",
    "\t\tfuel_used_gal = galph * (minutes/60)\n",
    "\t\tfuel_flight_info[\"fuel_price\"] = round(fuel_used_gal * avg_fuel_price_per_gallon)\n",
    "\t\tfuel_used_kg = fuel_used_gal * 3.04\n",
    "\t\tc02_tons = (fuel_used_kg * 3.15 ) / 907.185\n",
    "\t\tfuel_flight_info['fuel_used_kg'] = round(fuel_used_kg)\n",
    "\t\tfuel_flight_info['fuel_used_lters'] = round(fuel_used_gal*3.78541)\n",
    "\t\tprint (\"Fuel info\", fuel_flight_info)\n",
    "\t\treturn fuel_flight_info\n",
    "```"
   ]
  },
  {
   "cell_type": "code",
   "execution_count": 161,
   "id": "5c20049c-2b5b-4399-bc40-580116999e02",
   "metadata": {},
   "outputs": [],
   "source": [
    "def compute_co2(flight_time, fuel_consumption, aircrafts):\n",
    "    with_type = flight_time.join(aircrafts.select(\"icao\", \"icaotype\"), on=\"icao\", how=\"left\")\n",
    "    \n",
    "    return with_type\\\n",
    "      .join(fuel_consumption.select([\"icaotype\", \"galph\"]) , on=\"icaotype\")\\\n",
    "      .withColumn(\"fuel_used_kg\", col(\"air_s\")/3600 * col(\"galph\") * 3.04)\\\n",
    "      .withColumn(\"co2_tons\", col(\"fuel_used_kg\") * 3.15 / 907.185)\\\n",
    "      .drop(\"icaotype\")\n",
    "\n",
    "def attribute_co2(co2_generated, aircraft_ownership):\n",
    "    return co2_generated\\\n",
    "      .join(aircrafts.select(\"icao\", \"ownop\") , on=\"icao\")\n",
    "\n",
    "def tick_to_attribution(aircraft_ticks, fuel_consumption, aircraft_ownership, s_between_ticks = 5):\n",
    "    ft = compute_flight_time(aircraft_ticks, s_between_ticks)\n",
    "    co2 = compute_co2(ft, fuel_consumption, aircraft_ownership)\n",
    "    return attribute_co2(co2, aircraft_ownership)"
   ]
  },
  {
   "cell_type": "code",
   "execution_count": 154,
   "id": "e3e21849-2fbe-43b7-a4a6-8d9594ac8488",
   "metadata": {},
   "outputs": [
    {
     "name": "stderr",
     "output_type": "stream",
     "text": [
      "[Stage 566:>                                                        (0 + 1) / 1]\r"
     ]
    },
    {
     "name": "stdout",
     "output_type": "stream",
     "text": [
      "+------+-----+------------------+-----+------------------+------------------+\n",
      "|  icao|air_s|             air_h|galph|      fuel_used_kg|          co2_tons|\n",
      "+------+-----+------------------+-----+------------------+------------------+\n",
      "|48412b|44465| 12.35138888888889|  447|16784.055333333337| 58.27893351411235|\n",
      "|4d22d1|39645|           11.0125|  500|           16739.0| 58.12248879776452|\n",
      "|a704c7|41285|11.468055555555555|  455|15862.614444444444| 55.07943308145527|\n",
      "|440834|33180| 9.216666666666667|  500|14009.333333333332|48.644322822797996|\n",
      "|ac15a1|35900| 9.972222222222221|  455|13793.577777777777| 47.89515920126545|\n",
      "|a3769f|35465|  9.85138888888889|  447|13386.855333333337| 46.48290514062734|\n",
      "|06a1cd|31175| 8.659722222222221|  503|13241.754444444443|45.979074279226396|\n",
      "|a86407|34405| 9.556944444444444|  455|13219.165555555554|  45.9006393403771|\n",
      "|a3db5a|30820| 8.561111111111112|  479|12466.347555555558| 43.28664473067788|\n",
      "|a788db|33020| 9.172222222222222|  447|12463.949333333334| 43.27831743249723|\n",
      "|c0624c|32455| 9.015277777777778|  447|12250.680666666665| 42.53778898460623|\n",
      "|440652|31580| 8.772222222222222|  447|11920.397333333334|41.390952892739634|\n",
      "|424b9b|27925| 7.756944444444445|  503|11861.298888888889| 41.18574656767914|\n",
      "|a0765e|28155| 7.820833333333334|  479|11388.384666666667|39.543656145108216|\n",
      "|800b60|26610| 7.391666666666667|  500|11235.333333333334|39.012219117379594|\n",
      "|a01cab|27670| 7.686111111111111|  479|11192.207555555555| 38.86247435749048|\n",
      "|a13044|27350| 7.597222222222222|  479|11062.771111111111| 38.41303482751589|\n",
      "|43ea87|25900| 7.194444444444445|  500|10935.555555555555|37.971306844800125|\n",
      "|acb964|25595|7.1097222222222225|  503|10871.618444444444| 37.74929931601603|\n",
      "|a13687|24730|6.8694444444444445|  503| 10504.20488888889|36.473536709711915|\n",
      "+------+-----+------------------+-----+------------------+------------------+\n",
      "only showing top 20 rows\n",
      "\n"
     ]
    },
    {
     "name": "stderr",
     "output_type": "stream",
     "text": [
      "                                                                                \r"
     ]
    }
   ],
   "source": [
    "co2_generated = compute_co2(flight_time, fuel_consumption, aircrafts)\n",
    "co2_generated.orderBy(col(\"co2_tons\").desc()).show()"
   ]
  },
  {
   "cell_type": "code",
   "execution_count": 155,
   "id": "44607e3f-4d98-4d82-9351-29bf65a74a8f",
   "metadata": {},
   "outputs": [
    {
     "name": "stderr",
     "output_type": "stream",
     "text": [
      "                                                                                \r"
     ]
    },
    {
     "name": "stdout",
     "output_type": "stream",
     "text": [
      "+------+-----+------------------+-----+------------------+------------------+------+-----------------------------------+\n",
      "|icao  |air_s|air_h             |galph|fuel_used_kg      |co2_tons          |reg   |ownop                              |\n",
      "+------+-----+------------------+-----+------------------+------------------+------+-----------------------------------+\n",
      "|48412b|44465|12.35138888888889 |447  |16784.055333333337|58.27893351411235 |P4-BFY|null                               |\n",
      "|4d22d1|39645|11.0125           |500  |16739.0           |58.12248879776452 |9H-ANS|null                               |\n",
      "|a704c7|41285|11.468055555555555|455  |15862.614444444444|55.07943308145527 |N551SW|SN 9086 LLC                        |\n",
      "|440834|33180|9.216666666666667 |500  |14009.333333333332|48.644322822797996|OE-IGL|null                               |\n",
      "|ac15a1|35900|9.972222222222221 |455  |13793.577777777777|47.89515920126545 |N878SC|TVPX ARS INC TRUSTEE               |\n",
      "|a3769f|35465|9.85138888888889  |447  |13386.855333333337|46.48290514062734 |N322K |DELAWARE TRUST CO TRUSTEE          |\n",
      "|06a1cd|31175|8.659722222222221 |503  |13241.754444444443|45.979074279226396|A7-CGH|null                               |\n",
      "|a86407|34405|9.556944444444444 |455  |13219.165555555554|45.9006393403771  |N64MT |WINDTOP INC, REH HOLDINGS LLC      |\n",
      "|a3db5a|30820|8.561111111111112 |479  |12466.347555555558|43.28664473067788 |N348DJ|STRIKER AIR HOLDINGS LLC           |\n",
      "|a788db|33020|9.172222222222222 |447  |12463.949333333334|43.27831743249723 |N585DW|COLLEEN CORP                       |\n",
      "|c0624c|32455|9.015277777777778 |447  |12250.680666666665|42.53778898460623 |C-GLFV|Skyservice Business Aviation Inc.  |\n",
      "|440652|31580|8.772222222222222 |447  |11920.397333333334|41.390952892739634|OE-ISN|null                               |\n",
      "|424b9b|27925|7.756944444444445 |503  |11861.298888888889|41.18574656767914 |M-DVJJ|null                               |\n",
      "|a0765e|28155|7.820833333333334 |479  |11388.384666666667|39.543656145108216|N129NS|VENTI CAPITAL LLC                  |\n",
      "|800b60|26610|7.391666666666667 |500  |11235.333333333334|39.012219117379594|VT-SDK|null                               |\n",
      "|a01cab|27670|7.686111111111111 |479  |11192.207555555555|38.86247435749048 |N106TD|BOPPER AIRWAYS LLC                 |\n",
      "|a13044|27350|7.597222222222222 |479  |11062.771111111111|38.41303482751589 |N176JE|TVPX AIRCRAFT SOLUTIONS INC TRUSTEE|\n",
      "|43ea87|25900|7.194444444444445 |500  |10935.555555555555|37.971306844800125|M-MAXX|null                               |\n",
      "|acb964|25595|7.1097222222222225|503  |10871.618444444444|37.74929931601603 |N919PE|TVPX AIRCRAFT SOLUTIONS INC TRUSTEE|\n",
      "|a13687|24730|6.8694444444444445|503  |10504.20488888889 |36.473536709711915|N1777M|TVPX AIRCRAFT SOLUTIONS INC TRUSTEE|\n",
      "+------+-----+------------------+-----+------------------+------------------+------+-----------------------------------+\n",
      "only showing top 20 rows\n",
      "\n"
     ]
    }
   ],
   "source": [
    "co2_ownership = co2_generated\\\n",
    "  .join(aircrafts.select(\"icao\", \"reg\", \"ownop\") , on=\"icao\")\\\n",
    "  .drop(\"r\")\n",
    "co2_ownership.orderBy(col(\"co2_tons\").desc()).show(truncate=False)"
   ]
  },
  {
   "cell_type": "markdown",
   "id": "4431cca1-4817-4c95-bfad-902ad784b8a0",
   "metadata": {},
   "source": [
    "### Comparisions of emissions with \"nobody\" citizens\n",
    "\n",
    "\n",
    "From Our world in data CO2 data explorer\n",
    "* Graph of per capita emissions https://ourworldindata.org/explorers/co2?facet=none&country=CHN~USA~IND~GBR~OWID_WRL&Gas=CO%E2%82%82&Accounting=Production-based&Fuel=Total&Count=Per+capita\n",
    "* Raw dataset: https://github.com/owid/co2-data"
   ]
  },
  {
   "cell_type": "code",
   "execution_count": 163,
   "id": "de740c29-ad91-4755-a6fc-0390f9c1acd8",
   "metadata": {},
   "outputs": [],
   "source": [
    "def get_per_capita_emissions(aircraft_co2, country_co2_emissions):\n",
    "    co2_per_capita = country_co2_emissions.select(\"iso_code\", \"country\", \"year\", \"co2_per_capita\", \"energy_per_capita\", \"nitrous_oxide_per_capita\")\\\n",
    "      .where(\"year == 2019\")\n",
    "    countries = [\"European Union (28)\", \"Africa\", \"Argentina\", \"United Kingdom\", \"United States\", \"Australia\", \"China\", \"India\"]\n",
    "    co2_capita_selection = {}\n",
    "    for c in countries:\n",
    "        co2 = co2_per_capita.where(f\"country like '{c}'\").head().asDict().get(\"co2_per_capita\")\n",
    "        co2_capita_selection[f\"times_{c}_yr\"] = col(\"co2_tons\")/co2\n",
    "    co2_with_capita = aircraft_co2.select(\"ownop\", \"icao\", \"air_h\", \"co2_tons\")\\\n",
    "      .withColumns(co2_capita_selection).orderBy(col(\"co2_tons\").desc())\n",
    "    return co2_with_capita"
   ]
  },
  {
   "cell_type": "markdown",
   "id": "20ad8796-6f12-4413-93d1-fd3f77ad8c31",
   "metadata": {
    "tags": []
   },
   "source": [
    "### Example"
   ]
  },
  {
   "cell_type": "code",
   "execution_count": 10,
   "id": "d7ea3aad-e953-43ea-9bb7-a29ffe2ca2c8",
   "metadata": {},
   "outputs": [
    {
     "data": {
      "text/html": [
       "<div>\n",
       "<style scoped>\n",
       "    .dataframe tbody tr th:only-of-type {\n",
       "        vertical-align: middle;\n",
       "    }\n",
       "\n",
       "    .dataframe tbody tr th {\n",
       "        vertical-align: top;\n",
       "    }\n",
       "\n",
       "    .dataframe thead th {\n",
       "        text-align: right;\n",
       "    }\n",
       "</style>\n",
       "<table border=\"1\" class=\"dataframe\">\n",
       "  <thead>\n",
       "    <tr style=\"text-align: right;\">\n",
       "      <th></th>\n",
       "      <th>iso_code</th>\n",
       "      <th>country</th>\n",
       "      <th>year</th>\n",
       "      <th>co2_per_capita</th>\n",
       "      <th>energy_per_capita</th>\n",
       "      <th>nitrous_oxide_per_capita</th>\n",
       "    </tr>\n",
       "  </thead>\n",
       "  <tbody>\n",
       "    <tr>\n",
       "      <th>0</th>\n",
       "      <td>AFG</td>\n",
       "      <td>Afghanistan</td>\n",
       "      <td>2019</td>\n",
       "      <td>0.319</td>\n",
       "      <td>945.645</td>\n",
       "      <td>None</td>\n",
       "    </tr>\n",
       "    <tr>\n",
       "      <th>1</th>\n",
       "      <td>None</td>\n",
       "      <td>Africa</td>\n",
       "      <td>2019</td>\n",
       "      <td>1.077</td>\n",
       "      <td>4220.019</td>\n",
       "      <td>None</td>\n",
       "    </tr>\n",
       "    <tr>\n",
       "      <th>2</th>\n",
       "      <td>ALB</td>\n",
       "      <td>Albania</td>\n",
       "      <td>2019</td>\n",
       "      <td>1.688</td>\n",
       "      <td>11266.257</td>\n",
       "      <td>None</td>\n",
       "    </tr>\n",
       "    <tr>\n",
       "      <th>3</th>\n",
       "      <td>DZA</td>\n",
       "      <td>Algeria</td>\n",
       "      <td>2019</td>\n",
       "      <td>3.871</td>\n",
       "      <td>16146.19</td>\n",
       "      <td>None</td>\n",
       "    </tr>\n",
       "    <tr>\n",
       "      <th>4</th>\n",
       "      <td>AND</td>\n",
       "      <td>Andorra</td>\n",
       "      <td>2019</td>\n",
       "      <td>6.505</td>\n",
       "      <td>None</td>\n",
       "      <td>None</td>\n",
       "    </tr>\n",
       "    <tr>\n",
       "      <th>...</th>\n",
       "      <td>...</td>\n",
       "      <td>...</td>\n",
       "      <td>...</td>\n",
       "      <td>...</td>\n",
       "      <td>...</td>\n",
       "      <td>...</td>\n",
       "    </tr>\n",
       "    <tr>\n",
       "      <th>95</th>\n",
       "      <td>GUY</td>\n",
       "      <td>Guyana</td>\n",
       "      <td>2019</td>\n",
       "      <td>3.177</td>\n",
       "      <td>14245.798</td>\n",
       "      <td>None</td>\n",
       "    </tr>\n",
       "    <tr>\n",
       "      <th>96</th>\n",
       "      <td>HTI</td>\n",
       "      <td>Haiti</td>\n",
       "      <td>2019</td>\n",
       "      <td>0.292</td>\n",
       "      <td>1163.586</td>\n",
       "      <td>None</td>\n",
       "    </tr>\n",
       "    <tr>\n",
       "      <th>97</th>\n",
       "      <td>None</td>\n",
       "      <td>High-income countries</td>\n",
       "      <td>2019</td>\n",
       "      <td>10.757</td>\n",
       "      <td>None</td>\n",
       "      <td>None</td>\n",
       "    </tr>\n",
       "    <tr>\n",
       "      <th>98</th>\n",
       "      <td>HND</td>\n",
       "      <td>Honduras</td>\n",
       "      <td>2019</td>\n",
       "      <td>1.107</td>\n",
       "      <td>5802.885</td>\n",
       "      <td>None</td>\n",
       "    </tr>\n",
       "    <tr>\n",
       "      <th>99</th>\n",
       "      <td>HKG</td>\n",
       "      <td>Hong Kong</td>\n",
       "      <td>2019</td>\n",
       "      <td>5.62</td>\n",
       "      <td>46350.124</td>\n",
       "      <td>None</td>\n",
       "    </tr>\n",
       "  </tbody>\n",
       "</table>\n",
       "<p>100 rows × 6 columns</p>\n",
       "</div>"
      ],
      "text/plain": [
       "   iso_code                country  year co2_per_capita energy_per_capita  \\\n",
       "0       AFG            Afghanistan  2019          0.319           945.645   \n",
       "1      None                 Africa  2019          1.077          4220.019   \n",
       "2       ALB                Albania  2019          1.688         11266.257   \n",
       "3       DZA                Algeria  2019          3.871          16146.19   \n",
       "4       AND                Andorra  2019          6.505              None   \n",
       "..      ...                    ...   ...            ...               ...   \n",
       "95      GUY                 Guyana  2019          3.177         14245.798   \n",
       "96      HTI                  Haiti  2019          0.292          1163.586   \n",
       "97     None  High-income countries  2019         10.757              None   \n",
       "98      HND               Honduras  2019          1.107          5802.885   \n",
       "99      HKG              Hong Kong  2019           5.62         46350.124   \n",
       "\n",
       "   nitrous_oxide_per_capita  \n",
       "0                      None  \n",
       "1                      None  \n",
       "2                      None  \n",
       "3                      None  \n",
       "4                      None  \n",
       "..                      ...  \n",
       "95                     None  \n",
       "96                     None  \n",
       "97                     None  \n",
       "98                     None  \n",
       "99                     None  \n",
       "\n",
       "[100 rows x 6 columns]"
      ]
     },
     "execution_count": 10,
     "metadata": {},
     "output_type": "execute_result"
    }
   ],
   "source": [
    "co2_per_capita = country_co2_emissions.select(\"iso_code\", \"country\", \"year\", \"co2_per_capita\", \"energy_per_capita\", \"nitrous_oxide_per_capita\")\\\n",
    "  .where(\"year == 2019\")\n",
    "toPd(co2_per_capita)"
   ]
  },
  {
   "cell_type": "code",
   "execution_count": 13,
   "id": "b350947e-95fa-448d-b574-3e6e21ee56ff",
   "metadata": {},
   "outputs": [],
   "source": [
    "# Compared to a European resident\n",
    "# Europe options: 'Europe', Europe (excl. EU-27), Europe (excl. EU-28), European Union (27), European Union (28)\n",
    "co2_per_capita_eu = co2_per_capita.where(\"country like 'European Union (28)'\")\\\n",
    "  .select(\"co2_per_capita\")\\\n",
    "  .head()[0]\n",
    "co2_per_capita_eu\n",
    "\n",
    "countries = [\"European Union (28)\", \"Africa\", \"Argentina\", \"United Kingdom\", \"United States\", \"Australia\", \"China\", \"India\"]\n",
    "co2_capita_selection = {}\n",
    "for c in countries:\n",
    "    co2 = co2_per_capita.where(f\"country like '{c}'\").head().asDict().get(\"co2_per_capita\")\n",
    "    co2_capita_selection[f\"times_{c}_yr\"] = col(\"co2_tons\")/co2\n",
    "#co2_capita_selection"
   ]
  },
  {
   "cell_type": "code",
   "execution_count": 127,
   "id": "8894d84f-f82d-4252-9b1e-33579e4797d7",
   "metadata": {},
   "outputs": [],
   "source": [
    "co2_with_capita = co2_ownership.select(\"ownop\", \"reg\", \"air_h\", \"co2_tons\")\\\n",
    "  .withColumns(co2_capita_selection).orderBy(col(\"co2_tons\").desc())\n"
   ]
  },
  {
   "cell_type": "code",
   "execution_count": 76,
   "id": "cb3b68f1-aed6-4f9b-9eee-cf76a5635ba0",
   "metadata": {},
   "outputs": [],
   "source": [
    "import plotly.express as px\n",
    "df = co2_with_capita.toPandas()\n",
    "fig = px.bar(df.iloc[0:100], y=\"ownop\", x=\"times_European Union (28)_yr\", orientation='h',  width=1200, height=1000)\n",
    "# fig.show()"
   ]
  },
  {
   "cell_type": "code",
   "execution_count": 129,
   "id": "8cb38fb5-4307-456d-9e73-818ad3d48235",
   "metadata": {},
   "outputs": [
    {
     "name": "stderr",
     "output_type": "stream",
     "text": [
      "                                                                                \r"
     ]
    }
   ],
   "source": [
    "import plotly.express as px\n",
    "df = co2_with_capita.toPandas()\n",
    "df2 = df.groupby(\"ownop\").sum().sort_values(by=\"co2_tons\", ascending=False).reset_index()\n",
    "fig = px.bar(df2.iloc[0:50], y=\"ownop\", x=\"times_European Union (28)_yr\", orientation='h',  width=1200, height=800)\n",
    "#fig.show()"
   ]
  },
  {
   "cell_type": "code",
   "execution_count": 16,
   "id": "f3a9e40b-dc56-4e57-8267-c1b5dddf9ce3",
   "metadata": {},
   "outputs": [
    {
     "data": {
      "text/html": [
       "<div>\n",
       "<style scoped>\n",
       "    .dataframe tbody tr th:only-of-type {\n",
       "        vertical-align: middle;\n",
       "    }\n",
       "\n",
       "    .dataframe tbody tr th {\n",
       "        vertical-align: top;\n",
       "    }\n",
       "\n",
       "    .dataframe thead th {\n",
       "        text-align: right;\n",
       "    }\n",
       "</style>\n",
       "<table border=\"1\" class=\"dataframe\">\n",
       "  <thead>\n",
       "    <tr style=\"text-align: right;\">\n",
       "      <th></th>\n",
       "      <th>ownop</th>\n",
       "      <th>reg</th>\n",
       "      <th>air_h</th>\n",
       "      <th>co2_tons</th>\n",
       "      <th>times_European Union (28)_yr</th>\n",
       "      <th>times_Africa_yr</th>\n",
       "      <th>times_Argentina_yr</th>\n",
       "      <th>times_United Kingdom_yr</th>\n",
       "      <th>times_United States_yr</th>\n",
       "      <th>times_Australia_yr</th>\n",
       "      <th>times_China_yr</th>\n",
       "      <th>times_India_yr</th>\n",
       "    </tr>\n",
       "  </thead>\n",
       "  <tbody>\n",
       "    <tr>\n",
       "      <th>0</th>\n",
       "      <td>None</td>\n",
       "      <td>G-FOMO</td>\n",
       "      <td>11.476389</td>\n",
       "      <td>60.570832</td>\n",
       "      <td>9.468631</td>\n",
       "      <td>56.240327</td>\n",
       "      <td>16.186754</td>\n",
       "      <td>11.085438</td>\n",
       "      <td>3.792314</td>\n",
       "      <td>3.682789</td>\n",
       "      <td>8.279228</td>\n",
       "      <td>31.514481</td>\n",
       "    </tr>\n",
       "    <tr>\n",
       "      <th>1</th>\n",
       "      <td>SN 9086 LLC</td>\n",
       "      <td>N551SW</td>\n",
       "      <td>11.468056</td>\n",
       "      <td>60.526850</td>\n",
       "      <td>9.461755</td>\n",
       "      <td>56.199489</td>\n",
       "      <td>16.175000</td>\n",
       "      <td>11.077388</td>\n",
       "      <td>3.789560</td>\n",
       "      <td>3.680115</td>\n",
       "      <td>8.273216</td>\n",
       "      <td>31.491597</td>\n",
       "    </tr>\n",
       "    <tr>\n",
       "      <th>2</th>\n",
       "      <td>None</td>\n",
       "      <td>P4-BFY</td>\n",
       "      <td>12.351389</td>\n",
       "      <td>58.278934</td>\n",
       "      <td>9.110354</td>\n",
       "      <td>54.112287</td>\n",
       "      <td>15.574274</td>\n",
       "      <td>10.665983</td>\n",
       "      <td>3.648819</td>\n",
       "      <td>3.543439</td>\n",
       "      <td>7.965956</td>\n",
       "      <td>30.322026</td>\n",
       "    </tr>\n",
       "    <tr>\n",
       "      <th>3</th>\n",
       "      <td>None</td>\n",
       "      <td>9H-ANS</td>\n",
       "      <td>11.012500</td>\n",
       "      <td>58.122489</td>\n",
       "      <td>9.085898</td>\n",
       "      <td>53.967028</td>\n",
       "      <td>15.532466</td>\n",
       "      <td>10.637352</td>\n",
       "      <td>3.639024</td>\n",
       "      <td>3.533926</td>\n",
       "      <td>7.944572</td>\n",
       "      <td>30.240629</td>\n",
       "    </tr>\n",
       "    <tr>\n",
       "      <th>4</th>\n",
       "      <td>TVPX ARS INC TRUSTEE</td>\n",
       "      <td>N878SC</td>\n",
       "      <td>9.972222</td>\n",
       "      <td>52.632043</td>\n",
       "      <td>8.227613</td>\n",
       "      <td>48.869121</td>\n",
       "      <td>14.065217</td>\n",
       "      <td>9.632512</td>\n",
       "      <td>3.295269</td>\n",
       "      <td>3.200100</td>\n",
       "      <td>7.194101</td>\n",
       "      <td>27.383997</td>\n",
       "    </tr>\n",
       "    <tr>\n",
       "      <th>...</th>\n",
       "      <td>...</td>\n",
       "      <td>...</td>\n",
       "      <td>...</td>\n",
       "      <td>...</td>\n",
       "      <td>...</td>\n",
       "      <td>...</td>\n",
       "      <td>...</td>\n",
       "      <td>...</td>\n",
       "      <td>...</td>\n",
       "      <td>...</td>\n",
       "      <td>...</td>\n",
       "      <td>...</td>\n",
       "    </tr>\n",
       "    <tr>\n",
       "      <th>684</th>\n",
       "      <td>None</td>\n",
       "      <td>EJ-ADMI</td>\n",
       "      <td>0.062500</td>\n",
       "      <td>0.331846</td>\n",
       "      <td>0.051875</td>\n",
       "      <td>0.308120</td>\n",
       "      <td>0.088681</td>\n",
       "      <td>0.060733</td>\n",
       "      <td>0.020777</td>\n",
       "      <td>0.020177</td>\n",
       "      <td>0.045359</td>\n",
       "      <td>0.172656</td>\n",
       "    </tr>\n",
       "    <tr>\n",
       "      <th>685</th>\n",
       "      <td>None</td>\n",
       "      <td>165094</td>\n",
       "      <td>0.065278</td>\n",
       "      <td>0.330057</td>\n",
       "      <td>0.051596</td>\n",
       "      <td>0.306460</td>\n",
       "      <td>0.088203</td>\n",
       "      <td>0.060406</td>\n",
       "      <td>0.020665</td>\n",
       "      <td>0.020068</td>\n",
       "      <td>0.045114</td>\n",
       "      <td>0.171726</td>\n",
       "    </tr>\n",
       "    <tr>\n",
       "      <th>686</th>\n",
       "      <td>None</td>\n",
       "      <td>9H-SOI</td>\n",
       "      <td>0.062500</td>\n",
       "      <td>0.329867</td>\n",
       "      <td>0.051566</td>\n",
       "      <td>0.306283</td>\n",
       "      <td>0.088152</td>\n",
       "      <td>0.060371</td>\n",
       "      <td>0.020653</td>\n",
       "      <td>0.020056</td>\n",
       "      <td>0.045088</td>\n",
       "      <td>0.171627</td>\n",
       "    </tr>\n",
       "    <tr>\n",
       "      <th>687</th>\n",
       "      <td>None</td>\n",
       "      <td>G-GLBX</td>\n",
       "      <td>0.062500</td>\n",
       "      <td>0.329867</td>\n",
       "      <td>0.051566</td>\n",
       "      <td>0.306283</td>\n",
       "      <td>0.088152</td>\n",
       "      <td>0.060371</td>\n",
       "      <td>0.020653</td>\n",
       "      <td>0.020056</td>\n",
       "      <td>0.045088</td>\n",
       "      <td>0.171627</td>\n",
       "    </tr>\n",
       "    <tr>\n",
       "      <th>688</th>\n",
       "      <td>None</td>\n",
       "      <td>N235KK</td>\n",
       "      <td>0.056944</td>\n",
       "      <td>0.287922</td>\n",
       "      <td>0.045009</td>\n",
       "      <td>0.267337</td>\n",
       "      <td>0.076943</td>\n",
       "      <td>0.052694</td>\n",
       "      <td>0.018027</td>\n",
       "      <td>0.017506</td>\n",
       "      <td>0.039355</td>\n",
       "      <td>0.149803</td>\n",
       "    </tr>\n",
       "  </tbody>\n",
       "</table>\n",
       "<p>689 rows × 12 columns</p>\n",
       "</div>"
      ],
      "text/plain": [
       "                    ownop      reg      air_h   co2_tons  \\\n",
       "0                    None   G-FOMO  11.476389  60.570832   \n",
       "1             SN 9086 LLC   N551SW  11.468056  60.526850   \n",
       "2                    None   P4-BFY  12.351389  58.278934   \n",
       "3                    None   9H-ANS  11.012500  58.122489   \n",
       "4    TVPX ARS INC TRUSTEE   N878SC   9.972222  52.632043   \n",
       "..                    ...      ...        ...        ...   \n",
       "684                  None  EJ-ADMI   0.062500   0.331846   \n",
       "685                  None   165094   0.065278   0.330057   \n",
       "686                  None   9H-SOI   0.062500   0.329867   \n",
       "687                  None   G-GLBX   0.062500   0.329867   \n",
       "688                  None   N235KK   0.056944   0.287922   \n",
       "\n",
       "     times_European Union (28)_yr  times_Africa_yr  times_Argentina_yr  \\\n",
       "0                        9.468631        56.240327           16.186754   \n",
       "1                        9.461755        56.199489           16.175000   \n",
       "2                        9.110354        54.112287           15.574274   \n",
       "3                        9.085898        53.967028           15.532466   \n",
       "4                        8.227613        48.869121           14.065217   \n",
       "..                            ...              ...                 ...   \n",
       "684                      0.051875         0.308120            0.088681   \n",
       "685                      0.051596         0.306460            0.088203   \n",
       "686                      0.051566         0.306283            0.088152   \n",
       "687                      0.051566         0.306283            0.088152   \n",
       "688                      0.045009         0.267337            0.076943   \n",
       "\n",
       "     times_United Kingdom_yr  times_United States_yr  times_Australia_yr  \\\n",
       "0                  11.085438                3.792314            3.682789   \n",
       "1                  11.077388                3.789560            3.680115   \n",
       "2                  10.665983                3.648819            3.543439   \n",
       "3                  10.637352                3.639024            3.533926   \n",
       "4                   9.632512                3.295269            3.200100   \n",
       "..                       ...                     ...                 ...   \n",
       "684                 0.060733                0.020777            0.020177   \n",
       "685                 0.060406                0.020665            0.020068   \n",
       "686                 0.060371                0.020653            0.020056   \n",
       "687                 0.060371                0.020653            0.020056   \n",
       "688                 0.052694                0.018027            0.017506   \n",
       "\n",
       "     times_China_yr  times_India_yr  \n",
       "0          8.279228       31.514481  \n",
       "1          8.273216       31.491597  \n",
       "2          7.965956       30.322026  \n",
       "3          7.944572       30.240629  \n",
       "4          7.194101       27.383997  \n",
       "..              ...             ...  \n",
       "684        0.045359        0.172656  \n",
       "685        0.045114        0.171726  \n",
       "686        0.045088        0.171627  \n",
       "687        0.045088        0.171627  \n",
       "688        0.039355        0.149803  \n",
       "\n",
       "[689 rows x 12 columns]"
      ]
     },
     "execution_count": 16,
     "metadata": {},
     "output_type": "execute_result"
    }
   ],
   "source": [
    "\n",
    "df"
   ]
  },
  {
   "cell_type": "code",
   "execution_count": 68,
   "id": "c9ad0795-4851-418b-b7a8-3d0f7fac012c",
   "metadata": {},
   "outputs": [],
   "source": [
    "r = co2_per_capita.where(\"country like 'European Union (28)'\").head()"
   ]
  },
  {
   "cell_type": "code",
   "execution_count": 81,
   "id": "397ecb06-ee7b-4c68-878c-4f41f26ce2ea",
   "metadata": {},
   "outputs": [
    {
     "data": {
      "text/html": [
       "<div>\n",
       "<style scoped>\n",
       "    .dataframe tbody tr th:only-of-type {\n",
       "        vertical-align: middle;\n",
       "    }\n",
       "\n",
       "    .dataframe tbody tr th {\n",
       "        vertical-align: top;\n",
       "    }\n",
       "\n",
       "    .dataframe thead th {\n",
       "        text-align: right;\n",
       "    }\n",
       "</style>\n",
       "<table border=\"1\" class=\"dataframe\">\n",
       "  <thead>\n",
       "    <tr style=\"text-align: right;\">\n",
       "      <th></th>\n",
       "      <th>air_h</th>\n",
       "      <th>co2_tons</th>\n",
       "      <th>times_European Union (28)_yr</th>\n",
       "      <th>times_Africa_yr</th>\n",
       "      <th>times_Argentina_yr</th>\n",
       "      <th>times_United Kingdom_yr</th>\n",
       "      <th>times_United States_yr</th>\n",
       "      <th>times_Australia_yr</th>\n",
       "      <th>times_China_yr</th>\n",
       "      <th>times_India_yr</th>\n",
       "    </tr>\n",
       "    <tr>\n",
       "      <th>ownop</th>\n",
       "      <th></th>\n",
       "      <th></th>\n",
       "      <th></th>\n",
       "      <th></th>\n",
       "      <th></th>\n",
       "      <th></th>\n",
       "      <th></th>\n",
       "      <th></th>\n",
       "      <th></th>\n",
       "      <th></th>\n",
       "    </tr>\n",
       "  </thead>\n",
       "  <tbody>\n",
       "    <tr>\n",
       "      <th>TVPX AIRCRAFT SOLUTIONS INC TRUSTEE</th>\n",
       "      <td>150.883333</td>\n",
       "      <td>770.907634</td>\n",
       "      <td>120.510807</td>\n",
       "      <td>715.791675</td>\n",
       "      <td>206.014867</td>\n",
       "      <td>141.088513</td>\n",
       "      <td>48.266193</td>\n",
       "      <td>46.872234</td>\n",
       "      <td>105.372831</td>\n",
       "      <td>401.096584</td>\n",
       "    </tr>\n",
       "    <tr>\n",
       "      <th>BANK OF UTAH TRUSTEE</th>\n",
       "      <td>62.188889</td>\n",
       "      <td>311.267222</td>\n",
       "      <td>48.658312</td>\n",
       "      <td>289.013205</td>\n",
       "      <td>83.182048</td>\n",
       "      <td>56.966915</td>\n",
       "      <td>19.488306</td>\n",
       "      <td>18.925471</td>\n",
       "      <td>42.546094</td>\n",
       "      <td>161.949647</td>\n",
       "    </tr>\n",
       "    <tr>\n",
       "      <th>WILMINGTON TRUST CO TRUSTEE</th>\n",
       "      <td>41.184722</td>\n",
       "      <td>211.856420</td>\n",
       "      <td>33.118090</td>\n",
       "      <td>196.709768</td>\n",
       "      <td>56.615826</td>\n",
       "      <td>38.773137</td>\n",
       "      <td>13.264239</td>\n",
       "      <td>12.881159</td>\n",
       "      <td>28.957958</td>\n",
       "      <td>110.227066</td>\n",
       "    </tr>\n",
       "    <tr>\n",
       "      <th>FLEXJET LLC</th>\n",
       "      <td>27.480556</td>\n",
       "      <td>143.920240</td>\n",
       "      <td>22.498083</td>\n",
       "      <td>133.630678</td>\n",
       "      <td>38.460780</td>\n",
       "      <td>26.339722</td>\n",
       "      <td>9.010784</td>\n",
       "      <td>8.750547</td>\n",
       "      <td>19.671985</td>\n",
       "      <td>74.880458</td>\n",
       "    </tr>\n",
       "    <tr>\n",
       "      <th>TVPX ARS INC TRUSTEE</th>\n",
       "      <td>24.531944</td>\n",
       "      <td>128.538973</td>\n",
       "      <td>20.093633</td>\n",
       "      <td>119.349092</td>\n",
       "      <td>34.350340</td>\n",
       "      <td>23.524702</td>\n",
       "      <td>8.047769</td>\n",
       "      <td>7.815345</td>\n",
       "      <td>17.569570</td>\n",
       "      <td>66.877717</td>\n",
       "    </tr>\n",
       "    <tr>\n",
       "      <th>NJI SALES INC</th>\n",
       "      <td>24.109722</td>\n",
       "      <td>121.903450</td>\n",
       "      <td>19.056347</td>\n",
       "      <td>113.187976</td>\n",
       "      <td>32.577084</td>\n",
       "      <td>22.310295</td>\n",
       "      <td>7.632322</td>\n",
       "      <td>7.411896</td>\n",
       "      <td>16.662582</td>\n",
       "      <td>63.425312</td>\n",
       "    </tr>\n",
       "    <tr>\n",
       "      <th>GULFSTREAM AEROSPACE CORP</th>\n",
       "      <td>14.012500</td>\n",
       "      <td>70.310413</td>\n",
       "      <td>10.991154</td>\n",
       "      <td>65.283578</td>\n",
       "      <td>18.789528</td>\n",
       "      <td>12.867938</td>\n",
       "      <td>4.402105</td>\n",
       "      <td>4.274969</td>\n",
       "      <td>9.610499</td>\n",
       "      <td>36.581901</td>\n",
       "    </tr>\n",
       "    <tr>\n",
       "      <th>SN 9086 LLC</th>\n",
       "      <td>11.468056</td>\n",
       "      <td>60.526850</td>\n",
       "      <td>9.461755</td>\n",
       "      <td>56.199489</td>\n",
       "      <td>16.175000</td>\n",
       "      <td>11.077388</td>\n",
       "      <td>3.789560</td>\n",
       "      <td>3.680115</td>\n",
       "      <td>8.273216</td>\n",
       "      <td>31.491597</td>\n",
       "    </tr>\n",
       "    <tr>\n",
       "      <th>DELAWARE TRUST CO TRUSTEE</th>\n",
       "      <td>12.550000</td>\n",
       "      <td>59.962778</td>\n",
       "      <td>9.373578</td>\n",
       "      <td>55.675745</td>\n",
       "      <td>16.024259</td>\n",
       "      <td>10.974154</td>\n",
       "      <td>3.754244</td>\n",
       "      <td>3.645819</td>\n",
       "      <td>8.196115</td>\n",
       "      <td>31.198115</td>\n",
       "    </tr>\n",
       "    <tr>\n",
       "      <th>TRANS-EXEC AIR SERVICE INC</th>\n",
       "      <td>11.030556</td>\n",
       "      <td>54.493751</td>\n",
       "      <td>8.518642</td>\n",
       "      <td>50.597726</td>\n",
       "      <td>14.562734</td>\n",
       "      <td>9.973234</td>\n",
       "      <td>3.411830</td>\n",
       "      <td>3.313294</td>\n",
       "      <td>7.448572</td>\n",
       "      <td>28.352628</td>\n",
       "    </tr>\n",
       "  </tbody>\n",
       "</table>\n",
       "</div>"
      ],
      "text/plain": [
       "                                          air_h    co2_tons  \\\n",
       "ownop                                                         \n",
       "TVPX AIRCRAFT SOLUTIONS INC TRUSTEE  150.883333  770.907634   \n",
       "BANK OF UTAH TRUSTEE                  62.188889  311.267222   \n",
       "WILMINGTON TRUST CO TRUSTEE           41.184722  211.856420   \n",
       "FLEXJET LLC                           27.480556  143.920240   \n",
       "TVPX ARS INC TRUSTEE                  24.531944  128.538973   \n",
       "NJI SALES INC                         24.109722  121.903450   \n",
       "GULFSTREAM AEROSPACE CORP             14.012500   70.310413   \n",
       "SN 9086 LLC                           11.468056   60.526850   \n",
       "DELAWARE TRUST CO TRUSTEE             12.550000   59.962778   \n",
       "TRANS-EXEC AIR SERVICE INC            11.030556   54.493751   \n",
       "\n",
       "                                     times_European Union (28)_yr  \\\n",
       "ownop                                                               \n",
       "TVPX AIRCRAFT SOLUTIONS INC TRUSTEE                    120.510807   \n",
       "BANK OF UTAH TRUSTEE                                    48.658312   \n",
       "WILMINGTON TRUST CO TRUSTEE                             33.118090   \n",
       "FLEXJET LLC                                             22.498083   \n",
       "TVPX ARS INC TRUSTEE                                    20.093633   \n",
       "NJI SALES INC                                           19.056347   \n",
       "GULFSTREAM AEROSPACE CORP                               10.991154   \n",
       "SN 9086 LLC                                              9.461755   \n",
       "DELAWARE TRUST CO TRUSTEE                                9.373578   \n",
       "TRANS-EXEC AIR SERVICE INC                               8.518642   \n",
       "\n",
       "                                     times_Africa_yr  times_Argentina_yr  \\\n",
       "ownop                                                                      \n",
       "TVPX AIRCRAFT SOLUTIONS INC TRUSTEE       715.791675          206.014867   \n",
       "BANK OF UTAH TRUSTEE                      289.013205           83.182048   \n",
       "WILMINGTON TRUST CO TRUSTEE               196.709768           56.615826   \n",
       "FLEXJET LLC                               133.630678           38.460780   \n",
       "TVPX ARS INC TRUSTEE                      119.349092           34.350340   \n",
       "NJI SALES INC                             113.187976           32.577084   \n",
       "GULFSTREAM AEROSPACE CORP                  65.283578           18.789528   \n",
       "SN 9086 LLC                                56.199489           16.175000   \n",
       "DELAWARE TRUST CO TRUSTEE                  55.675745           16.024259   \n",
       "TRANS-EXEC AIR SERVICE INC                 50.597726           14.562734   \n",
       "\n",
       "                                     times_United Kingdom_yr  \\\n",
       "ownop                                                          \n",
       "TVPX AIRCRAFT SOLUTIONS INC TRUSTEE               141.088513   \n",
       "BANK OF UTAH TRUSTEE                               56.966915   \n",
       "WILMINGTON TRUST CO TRUSTEE                        38.773137   \n",
       "FLEXJET LLC                                        26.339722   \n",
       "TVPX ARS INC TRUSTEE                               23.524702   \n",
       "NJI SALES INC                                      22.310295   \n",
       "GULFSTREAM AEROSPACE CORP                          12.867938   \n",
       "SN 9086 LLC                                        11.077388   \n",
       "DELAWARE TRUST CO TRUSTEE                          10.974154   \n",
       "TRANS-EXEC AIR SERVICE INC                          9.973234   \n",
       "\n",
       "                                     times_United States_yr  \\\n",
       "ownop                                                         \n",
       "TVPX AIRCRAFT SOLUTIONS INC TRUSTEE               48.266193   \n",
       "BANK OF UTAH TRUSTEE                              19.488306   \n",
       "WILMINGTON TRUST CO TRUSTEE                       13.264239   \n",
       "FLEXJET LLC                                        9.010784   \n",
       "TVPX ARS INC TRUSTEE                               8.047769   \n",
       "NJI SALES INC                                      7.632322   \n",
       "GULFSTREAM AEROSPACE CORP                          4.402105   \n",
       "SN 9086 LLC                                        3.789560   \n",
       "DELAWARE TRUST CO TRUSTEE                          3.754244   \n",
       "TRANS-EXEC AIR SERVICE INC                         3.411830   \n",
       "\n",
       "                                     times_Australia_yr  times_China_yr  \\\n",
       "ownop                                                                     \n",
       "TVPX AIRCRAFT SOLUTIONS INC TRUSTEE           46.872234      105.372831   \n",
       "BANK OF UTAH TRUSTEE                          18.925471       42.546094   \n",
       "WILMINGTON TRUST CO TRUSTEE                   12.881159       28.957958   \n",
       "FLEXJET LLC                                    8.750547       19.671985   \n",
       "TVPX ARS INC TRUSTEE                           7.815345       17.569570   \n",
       "NJI SALES INC                                  7.411896       16.662582   \n",
       "GULFSTREAM AEROSPACE CORP                      4.274969        9.610499   \n",
       "SN 9086 LLC                                    3.680115        8.273216   \n",
       "DELAWARE TRUST CO TRUSTEE                      3.645819        8.196115   \n",
       "TRANS-EXEC AIR SERVICE INC                     3.313294        7.448572   \n",
       "\n",
       "                                     times_India_yr  \n",
       "ownop                                                \n",
       "TVPX AIRCRAFT SOLUTIONS INC TRUSTEE      401.096584  \n",
       "BANK OF UTAH TRUSTEE                     161.949647  \n",
       "WILMINGTON TRUST CO TRUSTEE              110.227066  \n",
       "FLEXJET LLC                               74.880458  \n",
       "TVPX ARS INC TRUSTEE                      66.877717  \n",
       "NJI SALES INC                             63.425312  \n",
       "GULFSTREAM AEROSPACE CORP                 36.581901  \n",
       "SN 9086 LLC                               31.491597  \n",
       "DELAWARE TRUST CO TRUSTEE                 31.198115  \n",
       "TRANS-EXEC AIR SERVICE INC                28.352628  "
      ]
     },
     "execution_count": 81,
     "metadata": {},
     "output_type": "execute_result"
    }
   ],
   "source": [
    "import pandas as pd\n",
    "pd.set_option('display.max_rows', None)\n",
    "df.groupby(\"ownop\").sum().sort_values(\"co2_tons\", ascending=False)[0:10]"
   ]
  },
  {
   "cell_type": "code",
   "execution_count": 104,
   "id": "f0580053-fd35-4e99-9e4c-082de2cc7f1e",
   "metadata": {},
   "outputs": [],
   "source": [
    "pd.reset_option(\"display.max_rows\")"
   ]
  },
  {
   "cell_type": "markdown",
   "id": "e4f79451-af2e-4a3b-94b8-721df68de506",
   "metadata": {
    "tags": []
   },
   "source": [
    "## Improve ownership\n",
    "We have a mixed ownership of individuals, companies of a family/individual and flight airlines so let's try to isolate the companies from the individuals for now"
   ]
  },
  {
   "cell_type": "code",
   "execution_count": 195,
   "id": "37cb3b9c-1f92-4f20-aecc-14a5730c3ba5",
   "metadata": {},
   "outputs": [],
   "source": [
    "def get_individually_owned(trips, aircrafts_db): \n",
    "    individuals = aircrafts_db.groupby(\"ownop\").count().where(\"count <= 2\").drop(\"count\")\n",
    "    common_airline_words = [\n",
    "        \"air\", \"charter\", \"trust\", \"llc\", \"bank\", \"corp\", \"inc\", \"leasing\", \"properties\", \"holding\", \"group\", \"police\", \"service\", \"govern\",\n",
    "        \"pending\", \"jet\", \"aviation\", \"swoop\", \"limited\", \"state\", \"minist\", \"governmen\", \"ltd\", \"fund\", \"department\", \"sidney\", \"foundation\"\n",
    "    ]\n",
    "    end_filter = [\"co\", \"builders\", \"farms\", \"lp\", \"city\"]\n",
    "    for word in common_airline_words:\n",
    "        individuals = individuals.where(f\"LOWER(ownop) not like '%{word}%'\")\n",
    "    for word in end_filter:\n",
    "        individuals = individuals.where(f\"LOWER(ownop) not like '%{word}'\")\n",
    "\n",
    "    # Filtering by owners\n",
    "    filtered_aircrafts = individuals.join(aircrafts_db.select(\"ownop\", \"icao\"), on=\"ownop\").select(\"icao\")\n",
    "    return trips.join(filtered_aircrafts, on=\"icao\")"
   ]
  },
  {
   "cell_type": "code",
   "execution_count": 196,
   "id": "c92f7f66-dd2e-4f00-a079-85097d4e98b7",
   "metadata": {},
   "outputs": [
    {
     "data": {
      "text/plain": [
       "DataFrame[icao: string, ownop: string, air_h: double, co2_tons: double, times_European Union (28)_yr: double, times_Africa_yr: double, times_Argentina_yr: double, times_United Kingdom_yr: double, times_United States_yr: double, times_Australia_yr: double, times_China_yr: double, times_India_yr: double, ownop: string]"
      ]
     },
     "execution_count": 196,
     "metadata": {},
     "output_type": "execute_result"
    }
   ],
   "source": [
    "ac"
   ]
  },
  {
   "cell_type": "code",
   "execution_count": 197,
   "id": "431e50ec-461b-4f5e-b361-68aba44884f3",
   "metadata": {},
   "outputs": [
    {
     "name": "stdout",
     "output_type": "stream",
     "text": [
      "22/09/11 14:25:40 WARN CacheManager: Asked to cache already cached data.\n"
     ]
    },
    {
     "name": "stderr",
     "output_type": "stream",
     "text": [
      "                                                                                \r"
     ]
    },
    {
     "data": {
      "application/vnd.plotly.v1+json": {
       "config": {
        "plotlyServerURL": "https://plot.ly"
       },
       "data": [
        {
         "alignmentgroup": "True",
         "hovertemplate": "air_h=%{x}<br>ownop=%{y}<extra></extra>",
         "legendgroup": "",
         "marker": {
          "color": "#636efa",
          "pattern": {
           "shape": ""
          }
         },
         "name": "",
         "offsetgroup": "",
         "orientation": "h",
         "showlegend": false,
         "textposition": "auto",
         "type": "bar",
         "x": [
          9.401388888888889,
          7.179166666666666,
          4.934722222222222,
          4.740277777777778,
          4.713888888888889,
          5.123611111111111,
          0.9597222222222223,
          2.370833333333333,
          4.336111111111111,
          4.030555555555556,
          3.2472222222222222,
          3.8180555555555555,
          3.2805555555555554,
          2.5708333333333333,
          2.6527777777777777,
          2.863888888888889,
          3.0430555555555556,
          3.6,
          2.1944444444444446,
          2.048611111111111,
          1.6513888888888888,
          2.7708333333333335,
          1.448611111111111,
          1.5486111111111112,
          1.5361111111111112,
          1.9416666666666667,
          1.3194444444444444,
          2.063888888888889,
          0.8986111111111111,
          1.3388888888888888,
          1.6166666666666667,
          4.038888888888889,
          4.213888888888889,
          0.7083333333333334,
          0.9305555555555556,
          2.0430555555555556,
          0.3416666666666667,
          2.2041666666666666,
          1.4875,
          0.9833333333333333,
          0.5222222222222223
         ],
         "xaxis": "x",
         "y": [
          "Bill Gates",
          "SNYDER RANDY",
          "Leon Black",
          "Alexander Machkevitch",
          "Laurene Powell Jobs",
          "Diego Della Valle - Tods",
          "FEDERAL EXPRESS COR",
          "Mark Cuban - Mavericks",
          "Blake Shelton",
          "Tiger Woods",
          "Michael Kors",
          "RICHARD F SCHADEN PC",
          "Gerita Wessels",
          "Alex Rodriquez - A-Rod",
          "Marc Cuban",
          "Bert Verwelius",
          "GOEBEL LANE",
          "BEASLEY ROGER K, BAGAN JAMES F",
          "Steve Wynn",
          "LEWIS JONATHAN D, LEWIS TOBY D",
          "Kimbal Musk",
          "EWING S FINLEY III",
          "Isak Andic",
          "Barry Diller - Expedia/Fox",
          "Jerry Jones - Dallas Cowboys",
          "Kenny Chesney",
          "REAUD WAYNE A",
          "TURNER JIM L",
          "Amancio Ortega",
          "ANDERSON MICHAEL S, ANDERSON STEVEN C",
          "WAGNER RICHARD S",
          "CONLON LENARD",
          "SCHUNNEMAN HARRY JAMES",
          "Jared Isaacman",
          "MOSS JEROME S, MOSS TINA A",
          "BROUN ADAM, WILSON BRYAN, THAMES JAMES, HANSON MARK",
          "Ricardo Salinas Pliego",
          "HAUSHALTER NIKKI",
          "CLARK JEFF RAY",
          "CALUGAR DANIEL G",
          "LIKOVER LARRY L"
         ],
         "yaxis": "y"
        }
       ],
       "layout": {
        "barmode": "relative",
        "height": 1000,
        "legend": {
         "tracegroupgap": 0
        },
        "margin": {
         "t": 60
        },
        "template": {
         "data": {
          "bar": [
           {
            "error_x": {
             "color": "#2a3f5f"
            },
            "error_y": {
             "color": "#2a3f5f"
            },
            "marker": {
             "line": {
              "color": "#E5ECF6",
              "width": 0.5
             },
             "pattern": {
              "fillmode": "overlay",
              "size": 10,
              "solidity": 0.2
             }
            },
            "type": "bar"
           }
          ],
          "barpolar": [
           {
            "marker": {
             "line": {
              "color": "#E5ECF6",
              "width": 0.5
             },
             "pattern": {
              "fillmode": "overlay",
              "size": 10,
              "solidity": 0.2
             }
            },
            "type": "barpolar"
           }
          ],
          "carpet": [
           {
            "aaxis": {
             "endlinecolor": "#2a3f5f",
             "gridcolor": "white",
             "linecolor": "white",
             "minorgridcolor": "white",
             "startlinecolor": "#2a3f5f"
            },
            "baxis": {
             "endlinecolor": "#2a3f5f",
             "gridcolor": "white",
             "linecolor": "white",
             "minorgridcolor": "white",
             "startlinecolor": "#2a3f5f"
            },
            "type": "carpet"
           }
          ],
          "choropleth": [
           {
            "colorbar": {
             "outlinewidth": 0,
             "ticks": ""
            },
            "type": "choropleth"
           }
          ],
          "contour": [
           {
            "colorbar": {
             "outlinewidth": 0,
             "ticks": ""
            },
            "colorscale": [
             [
              0,
              "#0d0887"
             ],
             [
              0.1111111111111111,
              "#46039f"
             ],
             [
              0.2222222222222222,
              "#7201a8"
             ],
             [
              0.3333333333333333,
              "#9c179e"
             ],
             [
              0.4444444444444444,
              "#bd3786"
             ],
             [
              0.5555555555555556,
              "#d8576b"
             ],
             [
              0.6666666666666666,
              "#ed7953"
             ],
             [
              0.7777777777777778,
              "#fb9f3a"
             ],
             [
              0.8888888888888888,
              "#fdca26"
             ],
             [
              1,
              "#f0f921"
             ]
            ],
            "type": "contour"
           }
          ],
          "contourcarpet": [
           {
            "colorbar": {
             "outlinewidth": 0,
             "ticks": ""
            },
            "type": "contourcarpet"
           }
          ],
          "heatmap": [
           {
            "colorbar": {
             "outlinewidth": 0,
             "ticks": ""
            },
            "colorscale": [
             [
              0,
              "#0d0887"
             ],
             [
              0.1111111111111111,
              "#46039f"
             ],
             [
              0.2222222222222222,
              "#7201a8"
             ],
             [
              0.3333333333333333,
              "#9c179e"
             ],
             [
              0.4444444444444444,
              "#bd3786"
             ],
             [
              0.5555555555555556,
              "#d8576b"
             ],
             [
              0.6666666666666666,
              "#ed7953"
             ],
             [
              0.7777777777777778,
              "#fb9f3a"
             ],
             [
              0.8888888888888888,
              "#fdca26"
             ],
             [
              1,
              "#f0f921"
             ]
            ],
            "type": "heatmap"
           }
          ],
          "heatmapgl": [
           {
            "colorbar": {
             "outlinewidth": 0,
             "ticks": ""
            },
            "colorscale": [
             [
              0,
              "#0d0887"
             ],
             [
              0.1111111111111111,
              "#46039f"
             ],
             [
              0.2222222222222222,
              "#7201a8"
             ],
             [
              0.3333333333333333,
              "#9c179e"
             ],
             [
              0.4444444444444444,
              "#bd3786"
             ],
             [
              0.5555555555555556,
              "#d8576b"
             ],
             [
              0.6666666666666666,
              "#ed7953"
             ],
             [
              0.7777777777777778,
              "#fb9f3a"
             ],
             [
              0.8888888888888888,
              "#fdca26"
             ],
             [
              1,
              "#f0f921"
             ]
            ],
            "type": "heatmapgl"
           }
          ],
          "histogram": [
           {
            "marker": {
             "pattern": {
              "fillmode": "overlay",
              "size": 10,
              "solidity": 0.2
             }
            },
            "type": "histogram"
           }
          ],
          "histogram2d": [
           {
            "colorbar": {
             "outlinewidth": 0,
             "ticks": ""
            },
            "colorscale": [
             [
              0,
              "#0d0887"
             ],
             [
              0.1111111111111111,
              "#46039f"
             ],
             [
              0.2222222222222222,
              "#7201a8"
             ],
             [
              0.3333333333333333,
              "#9c179e"
             ],
             [
              0.4444444444444444,
              "#bd3786"
             ],
             [
              0.5555555555555556,
              "#d8576b"
             ],
             [
              0.6666666666666666,
              "#ed7953"
             ],
             [
              0.7777777777777778,
              "#fb9f3a"
             ],
             [
              0.8888888888888888,
              "#fdca26"
             ],
             [
              1,
              "#f0f921"
             ]
            ],
            "type": "histogram2d"
           }
          ],
          "histogram2dcontour": [
           {
            "colorbar": {
             "outlinewidth": 0,
             "ticks": ""
            },
            "colorscale": [
             [
              0,
              "#0d0887"
             ],
             [
              0.1111111111111111,
              "#46039f"
             ],
             [
              0.2222222222222222,
              "#7201a8"
             ],
             [
              0.3333333333333333,
              "#9c179e"
             ],
             [
              0.4444444444444444,
              "#bd3786"
             ],
             [
              0.5555555555555556,
              "#d8576b"
             ],
             [
              0.6666666666666666,
              "#ed7953"
             ],
             [
              0.7777777777777778,
              "#fb9f3a"
             ],
             [
              0.8888888888888888,
              "#fdca26"
             ],
             [
              1,
              "#f0f921"
             ]
            ],
            "type": "histogram2dcontour"
           }
          ],
          "mesh3d": [
           {
            "colorbar": {
             "outlinewidth": 0,
             "ticks": ""
            },
            "type": "mesh3d"
           }
          ],
          "parcoords": [
           {
            "line": {
             "colorbar": {
              "outlinewidth": 0,
              "ticks": ""
             }
            },
            "type": "parcoords"
           }
          ],
          "pie": [
           {
            "automargin": true,
            "type": "pie"
           }
          ],
          "scatter": [
           {
            "fillpattern": {
             "fillmode": "overlay",
             "size": 10,
             "solidity": 0.2
            },
            "type": "scatter"
           }
          ],
          "scatter3d": [
           {
            "line": {
             "colorbar": {
              "outlinewidth": 0,
              "ticks": ""
             }
            },
            "marker": {
             "colorbar": {
              "outlinewidth": 0,
              "ticks": ""
             }
            },
            "type": "scatter3d"
           }
          ],
          "scattercarpet": [
           {
            "marker": {
             "colorbar": {
              "outlinewidth": 0,
              "ticks": ""
             }
            },
            "type": "scattercarpet"
           }
          ],
          "scattergeo": [
           {
            "marker": {
             "colorbar": {
              "outlinewidth": 0,
              "ticks": ""
             }
            },
            "type": "scattergeo"
           }
          ],
          "scattergl": [
           {
            "marker": {
             "colorbar": {
              "outlinewidth": 0,
              "ticks": ""
             }
            },
            "type": "scattergl"
           }
          ],
          "scattermapbox": [
           {
            "marker": {
             "colorbar": {
              "outlinewidth": 0,
              "ticks": ""
             }
            },
            "type": "scattermapbox"
           }
          ],
          "scatterpolar": [
           {
            "marker": {
             "colorbar": {
              "outlinewidth": 0,
              "ticks": ""
             }
            },
            "type": "scatterpolar"
           }
          ],
          "scatterpolargl": [
           {
            "marker": {
             "colorbar": {
              "outlinewidth": 0,
              "ticks": ""
             }
            },
            "type": "scatterpolargl"
           }
          ],
          "scatterternary": [
           {
            "marker": {
             "colorbar": {
              "outlinewidth": 0,
              "ticks": ""
             }
            },
            "type": "scatterternary"
           }
          ],
          "surface": [
           {
            "colorbar": {
             "outlinewidth": 0,
             "ticks": ""
            },
            "colorscale": [
             [
              0,
              "#0d0887"
             ],
             [
              0.1111111111111111,
              "#46039f"
             ],
             [
              0.2222222222222222,
              "#7201a8"
             ],
             [
              0.3333333333333333,
              "#9c179e"
             ],
             [
              0.4444444444444444,
              "#bd3786"
             ],
             [
              0.5555555555555556,
              "#d8576b"
             ],
             [
              0.6666666666666666,
              "#ed7953"
             ],
             [
              0.7777777777777778,
              "#fb9f3a"
             ],
             [
              0.8888888888888888,
              "#fdca26"
             ],
             [
              1,
              "#f0f921"
             ]
            ],
            "type": "surface"
           }
          ],
          "table": [
           {
            "cells": {
             "fill": {
              "color": "#EBF0F8"
             },
             "line": {
              "color": "white"
             }
            },
            "header": {
             "fill": {
              "color": "#C8D4E3"
             },
             "line": {
              "color": "white"
             }
            },
            "type": "table"
           }
          ]
         },
         "layout": {
          "annotationdefaults": {
           "arrowcolor": "#2a3f5f",
           "arrowhead": 0,
           "arrowwidth": 1
          },
          "autotypenumbers": "strict",
          "coloraxis": {
           "colorbar": {
            "outlinewidth": 0,
            "ticks": ""
           }
          },
          "colorscale": {
           "diverging": [
            [
             0,
             "#8e0152"
            ],
            [
             0.1,
             "#c51b7d"
            ],
            [
             0.2,
             "#de77ae"
            ],
            [
             0.3,
             "#f1b6da"
            ],
            [
             0.4,
             "#fde0ef"
            ],
            [
             0.5,
             "#f7f7f7"
            ],
            [
             0.6,
             "#e6f5d0"
            ],
            [
             0.7,
             "#b8e186"
            ],
            [
             0.8,
             "#7fbc41"
            ],
            [
             0.9,
             "#4d9221"
            ],
            [
             1,
             "#276419"
            ]
           ],
           "sequential": [
            [
             0,
             "#0d0887"
            ],
            [
             0.1111111111111111,
             "#46039f"
            ],
            [
             0.2222222222222222,
             "#7201a8"
            ],
            [
             0.3333333333333333,
             "#9c179e"
            ],
            [
             0.4444444444444444,
             "#bd3786"
            ],
            [
             0.5555555555555556,
             "#d8576b"
            ],
            [
             0.6666666666666666,
             "#ed7953"
            ],
            [
             0.7777777777777778,
             "#fb9f3a"
            ],
            [
             0.8888888888888888,
             "#fdca26"
            ],
            [
             1,
             "#f0f921"
            ]
           ],
           "sequentialminus": [
            [
             0,
             "#0d0887"
            ],
            [
             0.1111111111111111,
             "#46039f"
            ],
            [
             0.2222222222222222,
             "#7201a8"
            ],
            [
             0.3333333333333333,
             "#9c179e"
            ],
            [
             0.4444444444444444,
             "#bd3786"
            ],
            [
             0.5555555555555556,
             "#d8576b"
            ],
            [
             0.6666666666666666,
             "#ed7953"
            ],
            [
             0.7777777777777778,
             "#fb9f3a"
            ],
            [
             0.8888888888888888,
             "#fdca26"
            ],
            [
             1,
             "#f0f921"
            ]
           ]
          },
          "colorway": [
           "#636efa",
           "#EF553B",
           "#00cc96",
           "#ab63fa",
           "#FFA15A",
           "#19d3f3",
           "#FF6692",
           "#B6E880",
           "#FF97FF",
           "#FECB52"
          ],
          "font": {
           "color": "#2a3f5f"
          },
          "geo": {
           "bgcolor": "white",
           "lakecolor": "white",
           "landcolor": "#E5ECF6",
           "showlakes": true,
           "showland": true,
           "subunitcolor": "white"
          },
          "hoverlabel": {
           "align": "left"
          },
          "hovermode": "closest",
          "mapbox": {
           "style": "light"
          },
          "paper_bgcolor": "white",
          "plot_bgcolor": "#E5ECF6",
          "polar": {
           "angularaxis": {
            "gridcolor": "white",
            "linecolor": "white",
            "ticks": ""
           },
           "bgcolor": "#E5ECF6",
           "radialaxis": {
            "gridcolor": "white",
            "linecolor": "white",
            "ticks": ""
           }
          },
          "scene": {
           "xaxis": {
            "backgroundcolor": "#E5ECF6",
            "gridcolor": "white",
            "gridwidth": 2,
            "linecolor": "white",
            "showbackground": true,
            "ticks": "",
            "zerolinecolor": "white"
           },
           "yaxis": {
            "backgroundcolor": "#E5ECF6",
            "gridcolor": "white",
            "gridwidth": 2,
            "linecolor": "white",
            "showbackground": true,
            "ticks": "",
            "zerolinecolor": "white"
           },
           "zaxis": {
            "backgroundcolor": "#E5ECF6",
            "gridcolor": "white",
            "gridwidth": 2,
            "linecolor": "white",
            "showbackground": true,
            "ticks": "",
            "zerolinecolor": "white"
           }
          },
          "shapedefaults": {
           "line": {
            "color": "#2a3f5f"
           }
          },
          "ternary": {
           "aaxis": {
            "gridcolor": "white",
            "linecolor": "white",
            "ticks": ""
           },
           "baxis": {
            "gridcolor": "white",
            "linecolor": "white",
            "ticks": ""
           },
           "bgcolor": "#E5ECF6",
           "caxis": {
            "gridcolor": "white",
            "linecolor": "white",
            "ticks": ""
           }
          },
          "title": {
           "x": 0.05
          },
          "xaxis": {
           "automargin": true,
           "gridcolor": "white",
           "linecolor": "white",
           "ticks": "",
           "title": {
            "standoff": 15
           },
           "zerolinecolor": "white",
           "zerolinewidth": 2
          },
          "yaxis": {
           "automargin": true,
           "gridcolor": "white",
           "linecolor": "white",
           "ticks": "",
           "title": {
            "standoff": 15
           },
           "zerolinecolor": "white",
           "zerolinewidth": 2
          }
         }
        },
        "width": 1200,
        "xaxis": {
         "anchor": "y",
         "autorange": true,
         "domain": [
          0,
          1
         ],
         "range": [
          0,
          9.896198830409356
         ],
         "title": {
          "text": "air_h"
         },
         "type": "linear"
        },
        "yaxis": {
         "anchor": "x",
         "autorange": true,
         "domain": [
          0,
          1
         ],
         "range": [
          -0.5,
          40.5
         ],
         "title": {
          "text": "ownop"
         },
         "type": "category"
        }
       }
      },
      "image/png": "[encoded data removed]",
      "text/html": [
       "<div>                            <div id=\"40daf4a5-33b2-44e6-89cb-86dde66d2874\" class=\"plotly-graph-div\" style=\"height:1000px; width:1200px;\"></div>            <script type=\"text/javascript\">                require([\"plotly\"], function(Plotly) {                    window.PLOTLYENV=window.PLOTLYENV || {};                                    if (document.getElementById(\"40daf4a5-33b2-44e6-89cb-86dde66d2874\")) {                    Plotly.newPlot(                        \"40daf4a5-33b2-44e6-89cb-86dde66d2874\",                        [{\"alignmentgroup\":\"True\",\"hovertemplate\":\"air_h=%{x}<br>ownop=%{y}<extra></extra>\",\"legendgroup\":\"\",\"marker\":{\"color\":\"#636efa\",\"pattern\":{\"shape\":\"\"}},\"name\":\"\",\"offsetgroup\":\"\",\"orientation\":\"h\",\"showlegend\":false,\"textposition\":\"auto\",\"x\":[9.401388888888889,7.179166666666666,4.934722222222222,4.740277777777778,4.713888888888889,5.123611111111111,0.9597222222222223,2.370833333333333,4.336111111111111,4.030555555555556,3.2472222222222222,3.8180555555555555,3.2805555555555554,2.5708333333333333,2.6527777777777777,2.863888888888889,3.0430555555555556,3.6,2.1944444444444446,2.048611111111111,1.6513888888888888,2.7708333333333335,1.448611111111111,1.5486111111111112,1.5361111111111112,1.9416666666666667,1.3194444444444444,2.063888888888889,0.8986111111111111,1.3388888888888888,1.6166666666666667,4.038888888888889,4.213888888888889,0.7083333333333334,0.9305555555555556,2.0430555555555556,0.3416666666666667,2.2041666666666666,1.4875,0.9833333333333333,0.5222222222222223],\"xaxis\":\"x\",\"y\":[\"Bill Gates\",\"SNYDER RANDY\",\"Leon Black\",\"Alexander Machkevitch\",\"Laurene Powell Jobs\",\"Diego Della Valle - Tods\",\"FEDERAL EXPRESS COR\",\"Mark Cuban - Mavericks\",\"Blake Shelton\",\"Tiger Woods\",\"Michael Kors\",\"RICHARD F SCHADEN PC\",\"Gerita Wessels\",\"Alex Rodriquez - A-Rod\",\"Marc Cuban\",\"Bert Verwelius\",\"GOEBEL LANE\",\"BEASLEY ROGER K, BAGAN JAMES F\",\"Steve Wynn\",\"LEWIS JONATHAN D, LEWIS TOBY D\",\"Kimbal Musk\",\"EWING S FINLEY III\",\"Isak Andic\",\"Barry Diller - Expedia/Fox\",\"Jerry Jones - Dallas Cowboys\",\"Kenny Chesney\",\"REAUD WAYNE A\",\"TURNER JIM L\",\"Amancio Ortega\",\"ANDERSON MICHAEL S, ANDERSON STEVEN C\",\"WAGNER RICHARD S\",\"CONLON LENARD\",\"SCHUNNEMAN HARRY JAMES\",\"Jared Isaacman\",\"MOSS JEROME S, MOSS TINA A\",\"BROUN ADAM, WILSON BRYAN, THAMES JAMES, HANSON MARK\",\"Ricardo Salinas Pliego\",\"HAUSHALTER NIKKI\",\"CLARK JEFF RAY\",\"CALUGAR DANIEL G\",\"LIKOVER LARRY L\"],\"yaxis\":\"y\",\"type\":\"bar\"}],                        {\"template\":{\"data\":{\"histogram2dcontour\":[{\"type\":\"histogram2dcontour\",\"colorbar\":{\"outlinewidth\":0,\"ticks\":\"\"},\"colorscale\":[[0.0,\"#0d0887\"],[0.1111111111111111,\"#46039f\"],[0.2222222222222222,\"#7201a8\"],[0.3333333333333333,\"#9c179e\"],[0.4444444444444444,\"#bd3786\"],[0.5555555555555556,\"#d8576b\"],[0.6666666666666666,\"#ed7953\"],[0.7777777777777778,\"#fb9f3a\"],[0.8888888888888888,\"#fdca26\"],[1.0,\"#f0f921\"]]}],\"choropleth\":[{\"type\":\"choropleth\",\"colorbar\":{\"outlinewidth\":0,\"ticks\":\"\"}}],\"histogram2d\":[{\"type\":\"histogram2d\",\"colorbar\":{\"outlinewidth\":0,\"ticks\":\"\"},\"colorscale\":[[0.0,\"#0d0887\"],[0.1111111111111111,\"#46039f\"],[0.2222222222222222,\"#7201a8\"],[0.3333333333333333,\"#9c179e\"],[0.4444444444444444,\"#bd3786\"],[0.5555555555555556,\"#d8576b\"],[0.6666666666666666,\"#ed7953\"],[0.7777777777777778,\"#fb9f3a\"],[0.8888888888888888,\"#fdca26\"],[1.0,\"#f0f921\"]]}],\"heatmap\":[{\"type\":\"heatmap\",\"colorbar\":{\"outlinewidth\":0,\"ticks\":\"\"},\"colorscale\":[[0.0,\"#0d0887\"],[0.1111111111111111,\"#46039f\"],[0.2222222222222222,\"#7201a8\"],[0.3333333333333333,\"#9c179e\"],[0.4444444444444444,\"#bd3786\"],[0.5555555555555556,\"#d8576b\"],[0.6666666666666666,\"#ed7953\"],[0.7777777777777778,\"#fb9f3a\"],[0.8888888888888888,\"#fdca26\"],[1.0,\"#f0f921\"]]}],\"heatmapgl\":[{\"type\":\"heatmapgl\",\"colorbar\":{\"outlinewidth\":0,\"ticks\":\"\"},\"colorscale\":[[0.0,\"#0d0887\"],[0.1111111111111111,\"#46039f\"],[0.2222222222222222,\"#7201a8\"],[0.3333333333333333,\"#9c179e\"],[0.4444444444444444,\"#bd3786\"],[0.5555555555555556,\"#d8576b\"],[0.6666666666666666,\"#ed7953\"],[0.7777777777777778,\"#fb9f3a\"],[0.8888888888888888,\"#fdca26\"],[1.0,\"#f0f921\"]]}],\"contourcarpet\":[{\"type\":\"contourcarpet\",\"colorbar\":{\"outlinewidth\":0,\"ticks\":\"\"}}],\"contour\":[{\"type\":\"contour\",\"colorbar\":{\"outlinewidth\":0,\"ticks\":\"\"},\"colorscale\":[[0.0,\"#0d0887\"],[0.1111111111111111,\"#46039f\"],[0.2222222222222222,\"#7201a8\"],[0.3333333333333333,\"#9c179e\"],[0.4444444444444444,\"#bd3786\"],[0.5555555555555556,\"#d8576b\"],[0.6666666666666666,\"#ed7953\"],[0.7777777777777778,\"#fb9f3a\"],[0.8888888888888888,\"#fdca26\"],[1.0,\"#f0f921\"]]}],\"surface\":[{\"type\":\"surface\",\"colorbar\":{\"outlinewidth\":0,\"ticks\":\"\"},\"colorscale\":[[0.0,\"#0d0887\"],[0.1111111111111111,\"#46039f\"],[0.2222222222222222,\"#7201a8\"],[0.3333333333333333,\"#9c179e\"],[0.4444444444444444,\"#bd3786\"],[0.5555555555555556,\"#d8576b\"],[0.6666666666666666,\"#ed7953\"],[0.7777777777777778,\"#fb9f3a\"],[0.8888888888888888,\"#fdca26\"],[1.0,\"#f0f921\"]]}],\"mesh3d\":[{\"type\":\"mesh3d\",\"colorbar\":{\"outlinewidth\":0,\"ticks\":\"\"}}],\"scatter\":[{\"fillpattern\":{\"fillmode\":\"overlay\",\"size\":10,\"solidity\":0.2},\"type\":\"scatter\"}],\"parcoords\":[{\"type\":\"parcoords\",\"line\":{\"colorbar\":{\"outlinewidth\":0,\"ticks\":\"\"}}}],\"scatterpolargl\":[{\"type\":\"scatterpolargl\",\"marker\":{\"colorbar\":{\"outlinewidth\":0,\"ticks\":\"\"}}}],\"bar\":[{\"error_x\":{\"color\":\"#2a3f5f\"},\"error_y\":{\"color\":\"#2a3f5f\"},\"marker\":{\"line\":{\"color\":\"#E5ECF6\",\"width\":0.5},\"pattern\":{\"fillmode\":\"overlay\",\"size\":10,\"solidity\":0.2}},\"type\":\"bar\"}],\"scattergeo\":[{\"type\":\"scattergeo\",\"marker\":{\"colorbar\":{\"outlinewidth\":0,\"ticks\":\"\"}}}],\"scatterpolar\":[{\"type\":\"scatterpolar\",\"marker\":{\"colorbar\":{\"outlinewidth\":0,\"ticks\":\"\"}}}],\"histogram\":[{\"marker\":{\"pattern\":{\"fillmode\":\"overlay\",\"size\":10,\"solidity\":0.2}},\"type\":\"histogram\"}],\"scattergl\":[{\"type\":\"scattergl\",\"marker\":{\"colorbar\":{\"outlinewidth\":0,\"ticks\":\"\"}}}],\"scatter3d\":[{\"type\":\"scatter3d\",\"line\":{\"colorbar\":{\"outlinewidth\":0,\"ticks\":\"\"}},\"marker\":{\"colorbar\":{\"outlinewidth\":0,\"ticks\":\"\"}}}],\"scattermapbox\":[{\"type\":\"scattermapbox\",\"marker\":{\"colorbar\":{\"outlinewidth\":0,\"ticks\":\"\"}}}],\"scatterternary\":[{\"type\":\"scatterternary\",\"marker\":{\"colorbar\":{\"outlinewidth\":0,\"ticks\":\"\"}}}],\"scattercarpet\":[{\"type\":\"scattercarpet\",\"marker\":{\"colorbar\":{\"outlinewidth\":0,\"ticks\":\"\"}}}],\"carpet\":[{\"aaxis\":{\"endlinecolor\":\"#2a3f5f\",\"gridcolor\":\"white\",\"linecolor\":\"white\",\"minorgridcolor\":\"white\",\"startlinecolor\":\"#2a3f5f\"},\"baxis\":{\"endlinecolor\":\"#2a3f5f\",\"gridcolor\":\"white\",\"linecolor\":\"white\",\"minorgridcolor\":\"white\",\"startlinecolor\":\"#2a3f5f\"},\"type\":\"carpet\"}],\"table\":[{\"cells\":{\"fill\":{\"color\":\"#EBF0F8\"},\"line\":{\"color\":\"white\"}},\"header\":{\"fill\":{\"color\":\"#C8D4E3\"},\"line\":{\"color\":\"white\"}},\"type\":\"table\"}],\"barpolar\":[{\"marker\":{\"line\":{\"color\":\"#E5ECF6\",\"width\":0.5},\"pattern\":{\"fillmode\":\"overlay\",\"size\":10,\"solidity\":0.2}},\"type\":\"barpolar\"}],\"pie\":[{\"automargin\":true,\"type\":\"pie\"}]},\"layout\":{\"autotypenumbers\":\"strict\",\"colorway\":[\"#636efa\",\"#EF553B\",\"#00cc96\",\"#ab63fa\",\"#FFA15A\",\"#19d3f3\",\"#FF6692\",\"#B6E880\",\"#FF97FF\",\"#FECB52\"],\"font\":{\"color\":\"#2a3f5f\"},\"hovermode\":\"closest\",\"hoverlabel\":{\"align\":\"left\"},\"paper_bgcolor\":\"white\",\"plot_bgcolor\":\"#E5ECF6\",\"polar\":{\"bgcolor\":\"#E5ECF6\",\"angularaxis\":{\"gridcolor\":\"white\",\"linecolor\":\"white\",\"ticks\":\"\"},\"radialaxis\":{\"gridcolor\":\"white\",\"linecolor\":\"white\",\"ticks\":\"\"}},\"ternary\":{\"bgcolor\":\"#E5ECF6\",\"aaxis\":{\"gridcolor\":\"white\",\"linecolor\":\"white\",\"ticks\":\"\"},\"baxis\":{\"gridcolor\":\"white\",\"linecolor\":\"white\",\"ticks\":\"\"},\"caxis\":{\"gridcolor\":\"white\",\"linecolor\":\"white\",\"ticks\":\"\"}},\"coloraxis\":{\"colorbar\":{\"outlinewidth\":0,\"ticks\":\"\"}},\"colorscale\":{\"sequential\":[[0.0,\"#0d0887\"],[0.1111111111111111,\"#46039f\"],[0.2222222222222222,\"#7201a8\"],[0.3333333333333333,\"#9c179e\"],[0.4444444444444444,\"#bd3786\"],[0.5555555555555556,\"#d8576b\"],[0.6666666666666666,\"#ed7953\"],[0.7777777777777778,\"#fb9f3a\"],[0.8888888888888888,\"#fdca26\"],[1.0,\"#f0f921\"]],\"sequentialminus\":[[0.0,\"#0d0887\"],[0.1111111111111111,\"#46039f\"],[0.2222222222222222,\"#7201a8\"],[0.3333333333333333,\"#9c179e\"],[0.4444444444444444,\"#bd3786\"],[0.5555555555555556,\"#d8576b\"],[0.6666666666666666,\"#ed7953\"],[0.7777777777777778,\"#fb9f3a\"],[0.8888888888888888,\"#fdca26\"],[1.0,\"#f0f921\"]],\"diverging\":[[0,\"#8e0152\"],[0.1,\"#c51b7d\"],[0.2,\"#de77ae\"],[0.3,\"#f1b6da\"],[0.4,\"#fde0ef\"],[0.5,\"#f7f7f7\"],[0.6,\"#e6f5d0\"],[0.7,\"#b8e186\"],[0.8,\"#7fbc41\"],[0.9,\"#4d9221\"],[1,\"#276419\"]]},\"xaxis\":{\"gridcolor\":\"white\",\"linecolor\":\"white\",\"ticks\":\"\",\"title\":{\"standoff\":15},\"zerolinecolor\":\"white\",\"automargin\":true,\"zerolinewidth\":2},\"yaxis\":{\"gridcolor\":\"white\",\"linecolor\":\"white\",\"ticks\":\"\",\"title\":{\"standoff\":15},\"zerolinecolor\":\"white\",\"automargin\":true,\"zerolinewidth\":2},\"scene\":{\"xaxis\":{\"backgroundcolor\":\"#E5ECF6\",\"gridcolor\":\"white\",\"linecolor\":\"white\",\"showbackground\":true,\"ticks\":\"\",\"zerolinecolor\":\"white\",\"gridwidth\":2},\"yaxis\":{\"backgroundcolor\":\"#E5ECF6\",\"gridcolor\":\"white\",\"linecolor\":\"white\",\"showbackground\":true,\"ticks\":\"\",\"zerolinecolor\":\"white\",\"gridwidth\":2},\"zaxis\":{\"backgroundcolor\":\"#E5ECF6\",\"gridcolor\":\"white\",\"linecolor\":\"white\",\"showbackground\":true,\"ticks\":\"\",\"zerolinecolor\":\"white\",\"gridwidth\":2}},\"shapedefaults\":{\"line\":{\"color\":\"#2a3f5f\"}},\"annotationdefaults\":{\"arrowcolor\":\"#2a3f5f\",\"arrowhead\":0,\"arrowwidth\":1},\"geo\":{\"bgcolor\":\"white\",\"landcolor\":\"#E5ECF6\",\"subunitcolor\":\"white\",\"showland\":true,\"showlakes\":true,\"lakecolor\":\"white\"},\"title\":{\"x\":0.05},\"mapbox\":{\"style\":\"light\"}}},\"xaxis\":{\"anchor\":\"y\",\"domain\":[0.0,1.0],\"title\":{\"text\":\"air_h\"}},\"yaxis\":{\"anchor\":\"x\",\"domain\":[0.0,1.0],\"title\":{\"text\":\"ownop\"}},\"legend\":{\"tracegroupgap\":0},\"margin\":{\"t\":60},\"barmode\":\"relative\",\"height\":1000,\"width\":1200},                        {\"responsive\": true}                    ).then(function(){\n",
       "                            \n",
       "var gd = document.getElementById('40daf4a5-33b2-44e6-89cb-86dde66d2874');\n",
       "var x = new MutationObserver(function (mutations, observer) {{\n",
       "        var display = window.getComputedStyle(gd).display;\n",
       "        if (!display || display === 'none') {{\n",
       "            console.log([gd, 'removed!']);\n",
       "            Plotly.purge(gd);\n",
       "            observer.disconnect();\n",
       "        }}\n",
       "}});\n",
       "\n",
       "// Listen for the removal of the full notebook cells\n",
       "var notebookContainer = gd.closest('#notebook-container');\n",
       "if (notebookContainer) {{\n",
       "    x.observe(notebookContainer, {childList: true});\n",
       "}}\n",
       "\n",
       "// Listen for the clearing of the current output cell\n",
       "var outputEl = gd.closest('.output');\n",
       "if (outputEl) {{\n",
       "    x.observe(outputEl, {childList: true});\n",
       "}}\n",
       "\n",
       "                        })                };                });            </script>        </div>"
      ]
     },
     "metadata": {},
     "output_type": "display_data"
    }
   ],
   "source": [
    "attribution = tick_to_attribution(hist, fuel_consumption, aircrafts)\n",
    "attribution_compared =  get_per_capita_emissions(attribution, country_co2_emissions)\n",
    "attribution_compared.cache()\n",
    "\n",
    "\n",
    "ac = get_individually_owned(attribution_compared, aircrafts)\n",
    "\n",
    "plot_polluter_rank(ac.toPandas(), x=\"air_h\")"
   ]
  },
  {
   "cell_type": "code",
   "execution_count": 165,
   "id": "86e2a45a-266b-48ef-a8b0-cf0e0a1af18c",
   "metadata": {},
   "outputs": [],
   "source": [
    "df.to_csv(\"export/attribution_co2.csv\", index=False)"
   ]
  },
  {
   "cell_type": "code",
   "execution_count": null,
   "id": "40aad40b-cc46-41e4-af2b-83cb7015ef94",
   "metadata": {},
   "outputs": [],
   "source": []
  },
  {
   "cell_type": "code",
   "execution_count": 43,
   "id": "7d4afc8e-10dc-4cf7-b810-c500d90d7f43",
   "metadata": {},
   "outputs": [
    {
     "name": "stderr",
     "output_type": "stream",
     "text": [
      "                                                                                \r"
     ]
    }
   ],
   "source": [
    "selected_history = ac.select(\"ownop\", \"reg\").\\\n",
    "  join(hist, on=[ac.reg == hist.r]).\\\n",
    "  select(\"ownop\", \"reg\", \"lat\", \"lon\", \"ts\").toPandas()\n",
    "selected_history.to_csv(\"export/trips_history.csv\", index=False)"
   ]
  },
  {
   "cell_type": "code",
   "execution_count": 198,
   "id": "78a5d3ac-efaa-44f7-a1d8-6c23f9f146f9",
   "metadata": {},
   "outputs": [
    {
     "ename": "NameError",
     "evalue": "name 'selected_history' is not defined",
     "output_type": "error",
     "traceback": [
      "\u001b[0;31m---------------------------------------------------------------------------\u001b[0m",
      "\u001b[0;31mNameError\u001b[0m                                 Traceback (most recent call last)",
      "Input \u001b[0;32mIn [198]\u001b[0m, in \u001b[0;36m<cell line: 2>\u001b[0;34m()\u001b[0m\n\u001b[1;32m      1\u001b[0m \u001b[38;5;28;01mimport\u001b[39;00m \u001b[38;5;21;01mplotly\u001b[39;00m\u001b[38;5;21;01m.\u001b[39;00m\u001b[38;5;21;01mexpress\u001b[39;00m \u001b[38;5;28;01mas\u001b[39;00m \u001b[38;5;21;01mpx\u001b[39;00m\n\u001b[0;32m----> 2\u001b[0m fig \u001b[38;5;241m=\u001b[39m px\u001b[38;5;241m.\u001b[39mline_geo(\u001b[43mselected_history\u001b[49m, lat\u001b[38;5;241m=\u001b[39m\u001b[38;5;124m\"\u001b[39m\u001b[38;5;124mlat\u001b[39m\u001b[38;5;124m\"\u001b[39m, lon\u001b[38;5;241m=\u001b[39m\u001b[38;5;124m\"\u001b[39m\u001b[38;5;124mlon\u001b[39m\u001b[38;5;124m\"\u001b[39m, title\u001b[38;5;241m=\u001b[39m\u001b[38;5;124m\"\u001b[39m\u001b[38;5;124mFlight data for trip(s)\u001b[39m\u001b[38;5;124m\"\u001b[39m,  width\u001b[38;5;241m=\u001b[39m\u001b[38;5;241m1500\u001b[39m, height\u001b[38;5;241m=\u001b[39m\u001b[38;5;241m800\u001b[39m)\u001b[38;5;66;03m#, color=\"gs_quartile\")\u001b[39;00m\n\u001b[1;32m      3\u001b[0m fig\u001b[38;5;241m.\u001b[39mshow()\n",
      "\u001b[0;31mNameError\u001b[0m: name 'selected_history' is not defined"
     ]
    }
   ],
   "source": [
    "import plotly.express as px\n",
    "fig = px.line_geo(selected_history, lat=\"lat\", lon=\"lon\", title=\"Flight data for trip(s)\",  width=1500, height=800)#, color=\"gs_quartile\")\n",
    "fig.show()"
   ]
  },
  {
   "cell_type": "code",
   "execution_count": null,
   "id": "914958d5-5405-43a8-85f4-76a46bab6e93",
   "metadata": {},
   "outputs": [],
   "source": []
  },
  {
   "cell_type": "code",
   "execution_count": null,
   "id": "e932e0aa-de0a-4e44-bf65-44c1e4a7c0ac",
   "metadata": {},
   "outputs": [],
   "source": []
  },
  {
   "cell_type": "code",
   "execution_count": null,
   "id": "66b2ad74-2a8d-475a-9167-a259a98e66c9",
   "metadata": {},
   "outputs": [],
   "source": []
  },
  {
   "cell_type": "code",
   "execution_count": null,
   "id": "62cde2e8-6796-46ef-b254-c1d8fb2d64ee",
   "metadata": {},
   "outputs": [],
   "source": []
  },
  {
   "cell_type": "code",
   "execution_count": 30,
   "id": "0a706f83-98a1-49ff-abbd-d7f3a33a5ada",
   "metadata": {},
   "outputs": [
    {
     "data": {
      "text/plain": [
       "Index(['ownop', 'reg', 'air_h', 'co2_tons', 'times_European Union (28)_yr',\n",
       "       'times_Africa_yr', 'times_Argentina_yr', 'times_United Kingdom_yr',\n",
       "       'times_United States_yr', 'times_Australia_yr', 'times_China_yr',\n",
       "       'times_India_yr'],\n",
       "      dtype='object')"
      ]
     },
     "execution_count": 30,
     "metadata": {},
     "output_type": "execute_result"
    }
   ],
   "source": [
    "import pandas as pd\n",
    "pd.read_csv(\"export/attribution_co2.csv\", header=0)"
   ]
  },
  {
   "cell_type": "markdown",
   "id": "c6c99e43-6feb-4ca7-8554-ec1fb3be5f19",
   "metadata": {
    "tags": []
   },
   "source": [
    "## openSky data\n",
    "\n",
    "adsbexchange són bastant carbasses. Provem una altra font. \n",
    "\n",
    "Tenim dades cada 1 segon, tot i que pel que diuen la xarxa té menor cobertura. https://opensky-network.org/datasets/states/ \n",
    "\n",
    "**PROBLEMA** La cobertura es pot veure que falta si mirem vols sobre països de l'est mitjà, \n",
    "per exemple plotejant `icao24 like '06a3%'`\n",
    "\n",
    "```bash\n",
    "y='2022'\n",
    "m='06'\n",
    "days=('06' '13' '20' '27')\n",
    "hours=('00' '01' '02' '03' '04' '05' '06' '07' '08' '09' '10' '11' '12' '13' '14' '15' '16' '17' '18' '19' '20' '21' '22' '23')\n",
    "for d in \"${days[@]}\"; do \n",
    "  dt=\"$y-$m-$d\"\n",
    "  folder=\"y=$y/m=$m/d=$d\"\n",
    "  mkdir -p \"$folder\"\n",
    "  for h in \"${hours[@]}\"; do \n",
    "    fname=states_$dt-$h.avro.tar\n",
    "    wget \"https://opensky-network.org/datasets/states/$dt/$h/$fname\" -P \"$folder\" && tar -xf \"$folder/$fname\" -C \"$folder\" && rm \"$folder/$fname\"\n",
    "  done\n",
    "  rm \"$folder/README.txt\" \"$folder/LICENSE.txt\"\n",
    "done\n",
    "```"
   ]
  },
  {
   "cell_type": "code",
   "execution_count": 8,
   "id": "fbe82d6e-3525-4815-bc65-41efb5cf3634",
   "metadata": {},
   "outputs": [
    {
     "data": {
      "text/html": [
       "<div>\n",
       "<style scoped>\n",
       "    .dataframe tbody tr th:only-of-type {\n",
       "        vertical-align: middle;\n",
       "    }\n",
       "\n",
       "    .dataframe tbody tr th {\n",
       "        vertical-align: top;\n",
       "    }\n",
       "\n",
       "    .dataframe thead th {\n",
       "        text-align: right;\n",
       "    }\n",
       "</style>\n",
       "<table border=\"1\" class=\"dataframe\">\n",
       "  <thead>\n",
       "    <tr style=\"text-align: right;\">\n",
       "      <th></th>\n",
       "      <th>alert</th>\n",
       "      <th>baroaltitude</th>\n",
       "      <th>callsign</th>\n",
       "      <th>geoaltitude</th>\n",
       "      <th>heading</th>\n",
       "      <th>icao24</th>\n",
       "      <th>lastcontact</th>\n",
       "      <th>lastposupdate</th>\n",
       "      <th>lat</th>\n",
       "      <th>lon</th>\n",
       "      <th>onground</th>\n",
       "      <th>spi</th>\n",
       "      <th>squawk</th>\n",
       "      <th>time</th>\n",
       "      <th>velocity</th>\n",
       "      <th>vertrate</th>\n",
       "      <th>y</th>\n",
       "      <th>m</th>\n",
       "      <th>d</th>\n",
       "    </tr>\n",
       "  </thead>\n",
       "  <tbody>\n",
       "    <tr>\n",
       "      <th>0</th>\n",
       "      <td>False</td>\n",
       "      <td>9144.00</td>\n",
       "      <td>TVF56BF</td>\n",
       "      <td>8976.36</td>\n",
       "      <td>325.792525</td>\n",
       "      <td>39ceab</td>\n",
       "      <td>1.653930e+09</td>\n",
       "      <td>1.653930e+09</td>\n",
       "      <td>54.164337</td>\n",
       "      <td>-2.285784</td>\n",
       "      <td>False</td>\n",
       "      <td>False</td>\n",
       "      <td>0663</td>\n",
       "      <td>1653930000</td>\n",
       "      <td>237.002961</td>\n",
       "      <td>0.00000</td>\n",
       "      <td>2022</td>\n",
       "      <td>5</td>\n",
       "      <td>30</td>\n",
       "    </tr>\n",
       "    <tr>\n",
       "      <th>1</th>\n",
       "      <td>False</td>\n",
       "      <td>10447.02</td>\n",
       "      <td>TOM192</td>\n",
       "      <td>10347.96</td>\n",
       "      <td>276.591082</td>\n",
       "      <td>4ac8da</td>\n",
       "      <td>1.653930e+09</td>\n",
       "      <td>1.653930e+09</td>\n",
       "      <td>53.733444</td>\n",
       "      <td>-6.257656</td>\n",
       "      <td>False</td>\n",
       "      <td>False</td>\n",
       "      <td>7627</td>\n",
       "      <td>1653930000</td>\n",
       "      <td>246.504581</td>\n",
       "      <td>3.57632</td>\n",
       "      <td>2022</td>\n",
       "      <td>5</td>\n",
       "      <td>30</td>\n",
       "    </tr>\n",
       "    <tr>\n",
       "      <th>2</th>\n",
       "      <td>False</td>\n",
       "      <td>10668.00</td>\n",
       "      <td>EXS71DS</td>\n",
       "      <td>10576.56</td>\n",
       "      <td>122.864061</td>\n",
       "      <td>407267</td>\n",
       "      <td>1.653930e+09</td>\n",
       "      <td>1.653930e+09</td>\n",
       "      <td>52.861862</td>\n",
       "      <td>2.924042</td>\n",
       "      <td>False</td>\n",
       "      <td>False</td>\n",
       "      <td>7507</td>\n",
       "      <td>1653930000</td>\n",
       "      <td>247.434729</td>\n",
       "      <td>0.00000</td>\n",
       "      <td>2022</td>\n",
       "      <td>5</td>\n",
       "      <td>30</td>\n",
       "    </tr>\n",
       "    <tr>\n",
       "      <th>3</th>\n",
       "      <td>False</td>\n",
       "      <td>11582.40</td>\n",
       "      <td>BCS995</td>\n",
       "      <td>11551.92</td>\n",
       "      <td>281.867732</td>\n",
       "      <td>440bc6</td>\n",
       "      <td>1.653930e+09</td>\n",
       "      <td>1.653930e+09</td>\n",
       "      <td>51.038198</td>\n",
       "      <td>12.608871</td>\n",
       "      <td>False</td>\n",
       "      <td>False</td>\n",
       "      <td>1000</td>\n",
       "      <td>1653930000</td>\n",
       "      <td>217.631702</td>\n",
       "      <td>0.00000</td>\n",
       "      <td>2022</td>\n",
       "      <td>5</td>\n",
       "      <td>30</td>\n",
       "    </tr>\n",
       "    <tr>\n",
       "      <th>4</th>\n",
       "      <td>False</td>\n",
       "      <td>11887.20</td>\n",
       "      <td>KAL288</td>\n",
       "      <td>12336.78</td>\n",
       "      <td>84.382419</td>\n",
       "      <td>71c285</td>\n",
       "      <td>1.653930e+09</td>\n",
       "      <td>1.653930e+09</td>\n",
       "      <td>43.105682</td>\n",
       "      <td>-78.518457</td>\n",
       "      <td>False</td>\n",
       "      <td>False</td>\n",
       "      <td>6277</td>\n",
       "      <td>1653930010</td>\n",
       "      <td>252.260174</td>\n",
       "      <td>0.00000</td>\n",
       "      <td>2022</td>\n",
       "      <td>5</td>\n",
       "      <td>30</td>\n",
       "    </tr>\n",
       "    <tr>\n",
       "      <th>...</th>\n",
       "      <td>...</td>\n",
       "      <td>...</td>\n",
       "      <td>...</td>\n",
       "      <td>...</td>\n",
       "      <td>...</td>\n",
       "      <td>...</td>\n",
       "      <td>...</td>\n",
       "      <td>...</td>\n",
       "      <td>...</td>\n",
       "      <td>...</td>\n",
       "      <td>...</td>\n",
       "      <td>...</td>\n",
       "      <td>...</td>\n",
       "      <td>...</td>\n",
       "      <td>...</td>\n",
       "      <td>...</td>\n",
       "      <td>...</td>\n",
       "      <td>...</td>\n",
       "      <td>...</td>\n",
       "    </tr>\n",
       "    <tr>\n",
       "      <th>95</th>\n",
       "      <td>False</td>\n",
       "      <td>10972.80</td>\n",
       "      <td>UAL761</td>\n",
       "      <td>10980.42</td>\n",
       "      <td>282.036343</td>\n",
       "      <td>a2cb32</td>\n",
       "      <td>1.653930e+09</td>\n",
       "      <td>1.653930e+09</td>\n",
       "      <td>54.666619</td>\n",
       "      <td>-11.952709</td>\n",
       "      <td>False</td>\n",
       "      <td>False</td>\n",
       "      <td>6652</td>\n",
       "      <td>1653930010</td>\n",
       "      <td>246.697757</td>\n",
       "      <td>0.00000</td>\n",
       "      <td>2022</td>\n",
       "      <td>5</td>\n",
       "      <td>30</td>\n",
       "    </tr>\n",
       "    <tr>\n",
       "      <th>96</th>\n",
       "      <td>False</td>\n",
       "      <td>1363.98</td>\n",
       "      <td>NOZ641</td>\n",
       "      <td>1417.32</td>\n",
       "      <td>178.007906</td>\n",
       "      <td>47a518</td>\n",
       "      <td>1.653930e+09</td>\n",
       "      <td>1.653930e+09</td>\n",
       "      <td>60.421692</td>\n",
       "      <td>11.207854</td>\n",
       "      <td>False</td>\n",
       "      <td>False</td>\n",
       "      <td>3661</td>\n",
       "      <td>1653930010</td>\n",
       "      <td>118.393673</td>\n",
       "      <td>-2.27584</td>\n",
       "      <td>2022</td>\n",
       "      <td>5</td>\n",
       "      <td>30</td>\n",
       "    </tr>\n",
       "    <tr>\n",
       "      <th>97</th>\n",
       "      <td>False</td>\n",
       "      <td>12504.42</td>\n",
       "      <td>N711RW</td>\n",
       "      <td>12870.18</td>\n",
       "      <td>140.257809</td>\n",
       "      <td>a98150</td>\n",
       "      <td>1.653930e+09</td>\n",
       "      <td>1.653930e+09</td>\n",
       "      <td>36.155727</td>\n",
       "      <td>-101.637736</td>\n",
       "      <td>False</td>\n",
       "      <td>False</td>\n",
       "      <td>None</td>\n",
       "      <td>1653930010</td>\n",
       "      <td>238.178127</td>\n",
       "      <td>0.65024</td>\n",
       "      <td>2022</td>\n",
       "      <td>5</td>\n",
       "      <td>30</td>\n",
       "    </tr>\n",
       "    <tr>\n",
       "      <th>98</th>\n",
       "      <td>False</td>\n",
       "      <td>NaN</td>\n",
       "      <td>None</td>\n",
       "      <td>NaN</td>\n",
       "      <td>127.061735</td>\n",
       "      <td>0d0821</td>\n",
       "      <td>1.653930e+09</td>\n",
       "      <td>NaN</td>\n",
       "      <td>NaN</td>\n",
       "      <td>NaN</td>\n",
       "      <td>False</td>\n",
       "      <td>False</td>\n",
       "      <td>None</td>\n",
       "      <td>1653930010</td>\n",
       "      <td>92.188882</td>\n",
       "      <td>-4.55168</td>\n",
       "      <td>2022</td>\n",
       "      <td>5</td>\n",
       "      <td>30</td>\n",
       "    </tr>\n",
       "    <tr>\n",
       "      <th>99</th>\n",
       "      <td>False</td>\n",
       "      <td>518.16</td>\n",
       "      <td>EWG9PN</td>\n",
       "      <td>541.02</td>\n",
       "      <td>238.746581</td>\n",
       "      <td>3c5ee9</td>\n",
       "      <td>1.653930e+09</td>\n",
       "      <td>1.653930e+09</td>\n",
       "      <td>39.597519</td>\n",
       "      <td>2.850833</td>\n",
       "      <td>False</td>\n",
       "      <td>False</td>\n",
       "      <td>1000</td>\n",
       "      <td>1653930010</td>\n",
       "      <td>87.257043</td>\n",
       "      <td>-3.90144</td>\n",
       "      <td>2022</td>\n",
       "      <td>5</td>\n",
       "      <td>30</td>\n",
       "    </tr>\n",
       "  </tbody>\n",
       "</table>\n",
       "<p>100 rows × 19 columns</p>\n",
       "</div>"
      ],
      "text/plain": [
       "    alert  baroaltitude  callsign  geoaltitude     heading  icao24  \\\n",
       "0   False       9144.00  TVF56BF       8976.36  325.792525  39ceab   \n",
       "1   False      10447.02  TOM192       10347.96  276.591082  4ac8da   \n",
       "2   False      10668.00  EXS71DS      10576.56  122.864061  407267   \n",
       "3   False      11582.40  BCS995       11551.92  281.867732  440bc6   \n",
       "4   False      11887.20  KAL288       12336.78   84.382419  71c285   \n",
       "..    ...           ...       ...          ...         ...     ...   \n",
       "95  False      10972.80  UAL761       10980.42  282.036343  a2cb32   \n",
       "96  False       1363.98  NOZ641        1417.32  178.007906  47a518   \n",
       "97  False      12504.42  N711RW       12870.18  140.257809  a98150   \n",
       "98  False           NaN      None          NaN  127.061735  0d0821   \n",
       "99  False        518.16  EWG9PN         541.02  238.746581  3c5ee9   \n",
       "\n",
       "     lastcontact  lastposupdate        lat         lon  onground    spi  \\\n",
       "0   1.653930e+09   1.653930e+09  54.164337   -2.285784     False  False   \n",
       "1   1.653930e+09   1.653930e+09  53.733444   -6.257656     False  False   \n",
       "2   1.653930e+09   1.653930e+09  52.861862    2.924042     False  False   \n",
       "3   1.653930e+09   1.653930e+09  51.038198   12.608871     False  False   \n",
       "4   1.653930e+09   1.653930e+09  43.105682  -78.518457     False  False   \n",
       "..           ...            ...        ...         ...       ...    ...   \n",
       "95  1.653930e+09   1.653930e+09  54.666619  -11.952709     False  False   \n",
       "96  1.653930e+09   1.653930e+09  60.421692   11.207854     False  False   \n",
       "97  1.653930e+09   1.653930e+09  36.155727 -101.637736     False  False   \n",
       "98  1.653930e+09            NaN        NaN         NaN     False  False   \n",
       "99  1.653930e+09   1.653930e+09  39.597519    2.850833     False  False   \n",
       "\n",
       "   squawk        time    velocity  vertrate     y  m   d  \n",
       "0    0663  1653930000  237.002961   0.00000  2022  5  30  \n",
       "1    7627  1653930000  246.504581   3.57632  2022  5  30  \n",
       "2    7507  1653930000  247.434729   0.00000  2022  5  30  \n",
       "3    1000  1653930000  217.631702   0.00000  2022  5  30  \n",
       "4    6277  1653930010  252.260174   0.00000  2022  5  30  \n",
       "..    ...         ...         ...       ...   ... ..  ..  \n",
       "95   6652  1653930010  246.697757   0.00000  2022  5  30  \n",
       "96   3661  1653930010  118.393673  -2.27584  2022  5  30  \n",
       "97   None  1653930010  238.178127   0.65024  2022  5  30  \n",
       "98   None  1653930010   92.188882  -4.55168  2022  5  30  \n",
       "99   1000  1653930010   87.257043  -3.90144  2022  5  30  \n",
       "\n",
       "[100 rows x 19 columns]"
      ]
     },
     "execution_count": 8,
     "metadata": {},
     "output_type": "execute_result"
    }
   ],
   "source": [
    "toPd(opensky)"
   ]
  },
  {
   "cell_type": "code",
   "execution_count": 169,
   "id": "103e75c3-e660-4b8c-8cbb-ecd6a575b59f",
   "metadata": {},
   "outputs": [
    {
     "name": "stdout",
     "output_type": "stream",
     "text": [
      "+----------+------+--------+-------------------+-------------------+------------------+--------+\n",
      "|      time|  icao|callsign|                lat|                lon|     altitude_baro|onground|\n",
      "+----------+------+--------+-------------------+-------------------+------------------+--------+\n",
      "|1649714400|4bcdea|SXS18V  |  40.00685352390095|  33.02521445534446|           10668.0|   false|\n",
      "|1649714400|4cafb4|RYR6EQ  |  52.15992736816406|  9.214248657226562|11582.400000000001|   false|\n",
      "|1649714400|89408c|GFA006  |  50.71033025192002|  5.320892333984375|11269.980000000001|   false|\n",
      "|1649714400|407cb2|RUK97AN |  52.47601318359375| 6.4980316162109375|11582.400000000001|   false|\n",
      "|1649714400|4d22af|RYR2PT  |   49.2674560546875|   8.93364539513221|            8420.1|   false|\n",
      "|1649714410|abe621|N866LF  | 48.035904189287606|-122.89271428034857| 678.1800000000001|   false|\n",
      "|1649714410|adb723|JBU1374 |  40.89395296775688|-102.95350508256394|          10066.02|   false|\n",
      "|1649714410|a05b2c|N122AM  |  44.13075256347656| -88.33269695902976|           1874.52|   false|\n",
      "|1649714410|a1e570|N221HJ  |  41.19156142412606| -81.70232599431819|           13716.0|   false|\n",
      "|1649714410|c803d1|ZKEBS   |-43.467681884765625|    172.37900135129|            411.48|   false|\n",
      "|1649714410|ac65a5|N89815  | 33.155481370828916| -117.4394194933833|            1219.2|   false|\n",
      "|1649714410|a8050d|ENY3924 | 34.848907470703125|  -97.3905477718431|           9921.24|   false|\n",
      "|1649714410|a183d3|SKW3359 | 30.769492973715572| -98.53115844726562|           5242.56|   false|\n",
      "|1649714410|ac972c|FDX6313 |  48.88883429058527| 11.482736687911183|11597.640000000001|   false|\n",
      "|1649714410|abc058|SWA2694 |  36.63381802833686|-112.30160327667883|          10675.62|   false|\n",
      "|1649714410|abbca1|SWA1561 | 29.815292358398438| -94.58325312687799|           11277.6|   false|\n",
      "|1649714410|ac8932|PDT6151 |  35.15153503417969|  -80.8286020707111|           2689.86|   false|\n",
      "|1649714410|abd4e7|SWA2296 |  32.32859802246094|-109.80390014648438|           10363.2|   false|\n",
      "|1649714410|a54d04|OXF3670 |  33.09013366699219|-111.96084594726562|             800.1|   false|\n",
      "|1649714410|ad0851|AAL1105 |  37.87857831534693| -79.37795224397081|           10668.0|   false|\n",
      "+----------+------+--------+-------------------+-------------------+------------------+--------+\n",
      "only showing top 20 rows\n",
      "\n"
     ]
    }
   ],
   "source": [
    "os_sample = opensky.where(\"y = 2022 and m = '04'\").\\\n",
    "  select( \"time\", \"icao\", \"callsign\", \"lat\", \"lon\", \"altitude_baro\", \"onground\")\n",
    "os_sample.show()"
   ]
  },
  {
   "cell_type": "code",
   "execution_count": null,
   "id": "fb253abd-1859-4382-a1ed-b086166ba751",
   "metadata": {},
   "outputs": [],
   "source": [
    "os."
   ]
  },
  {
   "cell_type": "code",
   "execution_count": 172,
   "id": "f70edc70-e71c-4d02-b873-907b97dc1baf",
   "metadata": {},
   "outputs": [],
   "source": [
    "from pyspark.sql.window import Window\n",
    "\n",
    "def resample(ticks, unix_s_col, plane_identifier=\"icao\", sampling_s=60):\n",
    "    resampled_col = f\"{unix_s_col}_resampled\"\n",
    "    buckets = (col(unix_s_col) / sampling_s).cast(\"bigint\") * sampling_s\n",
    "    resampled_window = Window.partitionBy(plane_identifier, resampled_col).orderBy(unix_s_col)\n",
    "\n",
    "    ts_resampled = ticks.withColumn(resampled_col, buckets)\n",
    "    # Needed to avoid too many files open exceptions\n",
    "    ts_resampled.cache()\n",
    "\n",
    "    resampled = ts_resampled.\\\n",
    "      withColumn(\"_window_rank\", row_number().over(resampled_window)).\\\n",
    "      where(\"_window_rank = 1\").drop(\"_window_rank\")\n",
    "    return resampled"
   ]
  },
  {
   "cell_type": "code",
   "execution_count": 173,
   "id": "bce26471-7089-4867-9ee4-abf5d45851d3",
   "metadata": {},
   "outputs": [
    {
     "name": "stdout",
     "output_type": "stream",
     "text": [
      "22/09/11 14:04:20 WARN CacheManager: Asked to cache already cached data.\n"
     ]
    },
    {
     "data": {
      "text/plain": [
       "DataFrame[time: int, icao: string, callsign: string, lat: double, lon: double, altitude_baro: double, onground: boolean, time_resampled: bigint]"
      ]
     },
     "execution_count": 173,
     "metadata": {},
     "output_type": "execute_result"
    }
   ],
   "source": [
    "resampled = resample(os_sample, \"time\")\n",
    "resampled.cache()"
   ]
  },
  {
   "cell_type": "code",
   "execution_count": 177,
   "id": "e34fd1fd-120f-4b1a-94b2-903ef4cc59d7",
   "metadata": {},
   "outputs": [],
   "source": [
    "fig_sample = resampled.where(\"icao in ('344547', 'e09491', '342294' 'e4835d', 'ac6ffb', '4cc3ef')\").\\\n",
    "  orderBy(\"time_resampled\")"
   ]
  },
  {
   "cell_type": "code",
   "execution_count": 184,
   "id": "f25d6132-fa3e-4888-b72e-3b52b0887940",
   "metadata": {},
   "outputs": [
    {
     "data": {
      "application/vnd.plotly.v1+json": {
       "config": {
        "plotlyServerURL": "https://plot.ly"
       },
       "data": [
        {
         "hovertemplate": "icao=e09491<br>lat=%{lat}<br>lon=%{lon}<extra></extra>",
         "lat": [
          8.689315795898438,
          8.821746826171875,
          8.929779052734375,
          9.07070353879767,
          9.202285766601562,
          9.298576742915783,
          9.394753666247352,
          9.394753666247352,
          9.394753666247352,
          9.394753666247352,
          9.394753666247352,
          25.534149169921875,
          25.561660766601562,
          25.672395350569385,
          25.759323120117188,
          25.837888556011652,
          25.90050131587659,
          25.98117634401483,
          25.98117634401483,
          25.98117634401483,
          26.046890258789062,
          26.057568566273833,
          26.066757202148438,
          26.067855834960938,
          26.06655314817267,
          26.06650659593485,
          26.066134178032307,
          26.066024780273438,
          26.065933227539062,
          26.065933227539062,
          26.065933227539062,
          26.065933227539062,
          26.065933227539062
         ],
         "legendgroup": "e09491",
         "line": {
          "color": "#636efa"
         },
         "lon": [
          -79.56461760957365,
          -79.5676900572696,
          -79.58547301211598,
          -79.6086383688039,
          -79.62899935447564,
          -79.63747748013202,
          -79.64557516163794,
          -79.64557516163794,
          -79.64557516163794,
          -79.64557516163794,
          -79.64557516163794,
          -80.99711100260413,
          -80.98429361979163,
          -80.9527587890625,
          -80.93861897786456,
          -80.93923715444711,
          -80.92085618239179,
          -80.87125924917365,
          -80.87125924917365,
          -80.87125924917365,
          -80.63524354178952,
          -80.56739220252405,
          -80.48983016104069,
          -80.42365308077831,
          -80.35009530874396,
          -80.28602600097656,
          -80.23542550893927,
          -80.20045442401238,
          -80.1773416771079,
          -80.1773416771079,
          -80.1773416771079,
          -80.1773416771079,
          -80.1773416771079
         ],
         "mode": "lines",
         "name": "e09491",
         "showlegend": true,
         "subplot": "mapbox",
         "type": "scattermapbox"
        },
        {
         "hovertemplate": "icao=4cc3ef<br>lat=%{lat}<br>lon=%{lon}<extra></extra>",
         "lat": [
          null,
          null,
          50.9140428446107,
          50.91404342651367,
          50.914124311026875,
          50.914398193359375,
          50.91427560579979,
          50.91427230834961,
          50.91427230834961,
          50.91472949011851,
          50.916894169177034,
          50.919822692871094,
          50.91954764673265,
          50.89530944824219,
          50.86055432335805,
          50.83965236857786,
          50.806549072265625,
          50.732025146484375,
          50.71279752052436,
          50.73607363943326,
          50.77014987751589,
          50.810929637844275,
          50.85338527873411,
          50.89709783004502,
          50.94163513183594,
          50.995697021484375,
          51.03470624503443,
          51.07259976661811,
          51.11073303222656,
          51.15490412307997,
          51.202423095703125,
          51.24931206137447,
          51.28651428222656,
          51.311187744140625,
          51.335154387910485,
          51.35819774563029,
          51.38063592425847,
          51.40296936035156,
          51.4249071024232,
          51.44627380371094,
          51.463871325476696,
          51.480955996755824,
          51.49415588378906,
          51.50129699707031,
          51.508561473781775,
          51.51594543457031,
          51.52391052246094,
          51.53146517478813,
          51.538787841796875,
          51.54693603515625,
          51.554718017578125,
          51.56231689453125,
          51.5719190694518,
          51.588258904925844,
          51.605712890625,
          51.62280066538665,
          51.63937326204979,
          51.65606689453125,
          51.67259216308594,
          51.688934326171875,
          51.70472717285156,
          51.719970703125,
          51.73503811076536,
          51.749702065677965,
          51.764007568359375,
          51.77815246582031,
          51.79178528866525,
          51.805238885394594,
          51.818133855270126,
          51.83079528808594,
          51.84297180175781,
          51.85514831542969,
          51.8667343915519,
          51.87818624205508,
          51.88912601794227,
          51.899871826171875,
          51.91026073391154,
          51.920379638671875,
          51.93017578125,
          51.93955993652344,
          51.94862365722656,
          51.95732504634534,
          51.96556091308594,
          51.97361755371094,
          51.981206344345864,
          51.9896788516287,
          51.99526512016684,
          52.00190734863281,
          52.008113537804554,
          52.013946533203125,
          52.019286074880824,
          52.02442932128906,
          52.02920170153602,
          52.03371726860434,
          52.037750244140625,
          52.041398387844275,
          52.04470359672934,
          52.04754328323622,
          52.05015563964844,
          52.05235290527344,
          52.05418395996094,
          52.05560302734375,
          52.05665588378906,
          52.057319253177965,
          52.057645118842686,
          52.05757141113281,
          52.05717959646451,
          52.05634165618379,
          52.05528259277344,
          52.05377197265625,
          52.05198669433594,
          52.04978942871094,
          52.04726396980932,
          52.044377731064614,
          52.041165626655186,
          52.0375345521054,
          52.0336241641287,
          52.02923583984375,
          52.024658203125,
          52.019439697265625,
          52.013979119769594,
          52.00813293457031,
          52.002410888671875,
          52.04270185050318,
          52.10371398925781,
          52.148003012447035,
          52.1837551310911,
          52.231292724609375,
          52.27276300979872,
          52.27918721861758,
          52.27918721861758,
          52.27918721861758,
          52.27918721861758,
          52.27918721861758,
          null,
          47.97659663830773,
          47.86165916313559,
          47.788944567664196,
          47.71614074707031,
          47.64165328720868,
          47.56764221191406,
          47.514495849609375,
          47.41864013671875,
          47.34320068359375,
          47.267606056342686,
          47.19242419226695,
          47.11547334315413,
          47.03974914550781,
          46.962066650390625,
          46.89646911621094,
          46.80857849121094,
          46.73141738115731,
          46.65385437011719,
          46.575932906845864,
          46.4975389383607,
          46.4206346414857,
          46.341682046146715,
          46.26659328654661,
          46.191925048828125,
          46.107147216796875,
          46.02960205078125,
          45.950958251953125,
          45.87739562988281,
          45.79399496822034,
          45.79399496822034,
          44.727483199814614,
          44.662628173828125,
          44.57660739704714,
          44.49178921974311,
          44.408041743908896,
          44.32209777832031,
          44.22346212096133,
          44.12141418457031,
          44.01795959472656,
          43.91432189941406,
          43.81159973144531,
          43.70915222167969,
          43.60798645019531,
          43.507628360037074,
          43.4066162109375,
          43.30632019042969,
          43.205841064453125,
          43.10569633871822,
          43.00616455078125,
          42.90705871582031,
          42.80310679290254,
          42.677741616459215,
          42.55102642511917,
          42.423797607421875,
          42.30280989307468,
          42.183962029925844,
          42.0645555399232,
          41.94556802006091,
          41.83131408691406,
          41.72291564941406,
          41.61611783302436,
          41.5169677734375,
          41.417999267578125,
          41.3245611675715,
          41.23924255371094,
          41.165130615234375,
          41.09817763506356,
          41.07078552246094,
          41.04624938964844,
          41.021484375,
          40.99748514466366,
          40.97383117675781,
          40.949955309851696,
          40.9193704896054,
          40.854583740234375,
          40.78972250728284,
          40.7281494140625,
          40.67469192763506,
          40.63023376464844,
          40.579742431640625,
          40.54434566174523,
          40.50205993652344,
          40.46031188964844,
          40.420004634533896,
          40.3875732421875,
          40.370612710209215,
          40.38697814941406,
          40.42781066894531,
          40.45042419433594,
          40.487548828125,
          40.53461624404131,
          40.57604773569915,
          40.60942569021451,
          40.61496540651483,
          40.61496540651483,
          40.61496540651483,
          40.61496540651483,
          40.61496540651483,
          null,
          null,
          50.8910460391287,
          50.85150146484375,
          50.83497619628906,
          50.79656982421875,
          50.73546846034163,
          50.73490905761719,
          50.73500293796345,
          50.73527526855469,
          50.73495638572563,
          50.734351206634,
          50.73504638671875,
          50.75431823730469,
          50.777551683328916,
          50.80119323730469,
          50.824522891287074,
          50.84632873535156,
          50.851959228515625,
          50.85757498013771,
          50.862695726297666,
          50.868514756024894,
          50.87535095214844,
          50.88387699450477,
          50.91096496582031,
          50.93908794855667,
          50.96599514201536,
          50.99253845214844,
          51.01963806152344,
          51.046600341796875,
          51.074089438228285,
          51.10148620605469,
          51.15252685546875,
          51.16973876953125,
          51.17953025688559,
          51.18791198730469,
          51.192626953125,
          51.192626953125,
          51.192626953125,
          51.192626953125,
          51.192626953125
         ],
         "legendgroup": "4cc3ef",
         "line": {
          "color": "#EF553B"
         },
         "lon": [
          null,
          null,
          5.7779693603515625,
          5.777954926361909,
          5.777778625488281,
          5.776915679106842,
          5.776348114013672,
          5.776340381519215,
          5.776340381519215,
          5.776805877685547,
          5.778350830078125,
          5.781054110140414,
          5.7779693603515625,
          5.75401512352196,
          5.7299041748046875,
          5.8231353759765625,
          5.939743454391892,
          5.933582202808277,
          5.818634033203125,
          5.6707000732421875,
          5.516204833984375,
          5.36102294921875,
          5.1993560791015625,
          5.029296875,
          4.853878536739865,
          4.639125514674831,
          4.482574462890625,
          4.2937469482421875,
          4.096044591955237,
          3.907012939453125,
          3.7240683065878377,
          3.5406494140625,
          3.351498165646115,
          3.1541154191300675,
          2.9557037353515625,
          2.757568359375,
          2.560882568359375,
          2.3637678816511825,
          2.1668243408203125,
          1.9716747387035474,
          1.77337646484375,
          1.5758514404296875,
          1.3792295713682432,
          1.1805106498099662,
          0.980224609375,
          0.7822562552787162,
          0.5827207823057432,
          0.381622314453125,
          0.18097748627533783,
          -0.020859177048123456,
          -0.22336392789270576,
          -0.42215708139781327,
          -0.6280517578125,
          -0.8282470703125,
          -1.027073215793905,
          -1.2248992919921875,
          -1.4229583740234375,
          -1.6215968776393765,
          -1.8217262061866677,
          -2.024527884818383,
          -2.22443451752531,
          -2.4238215266047405,
          -2.622833251953125,
          -2.82135009765625,
          -3.020646378800677,
          -3.221369562922291,
          -3.4192657470703125,
          -3.619384765625,
          -3.8202667236328125,
          -4.02069916596281,
          -4.2203831028293735,
          -4.421403214738177,
          -4.621734619140625,
          -4.8244476318359375,
          -5.0257110595703125,
          -5.2292633056640625,
          -5.43328857421875,
          -5.638275146484375,
          -5.844573974609375,
          -6.049652099609375,
          -6.25640869140625,
          -6.460353306361583,
          -6.6646575927734375,
          -6.8715667724609375,
          -7.078334263392833,
          -7.319091796875,
          -7.489301409040138,
          -7.69622802734375,
          -7.903329031808028,
          -8.109970092773438,
          -8.316493443080333,
          -8.524551391601562,
          -8.734130859375,
          -8.943184988839278,
          -9.152603149414062,
          -9.362234933035666,
          -9.57073974609375,
          -9.779872349330333,
          -9.988479614257812,
          -10.200271606445312,
          -10.409469604492188,
          -10.619964599609375,
          -10.828094482421875,
          -11.036551339285666,
          -11.24395751953125,
          -11.451492309570312,
          -11.65884835379461,
          -11.865705217633888,
          -12.0709228515625,
          -12.277374267578125,
          -12.481307983398438,
          -12.684860229492188,
          -12.886335100446388,
          -13.091230119977638,
          -13.293770926339278,
          -13.498587472098166,
          -13.702069963727638,
          -13.9080810546875,
          -14.11376953125,
          -14.32098388671875,
          -14.526986258370528,
          -14.733734130859375,
          -14.940567016601562,
          -15.114283970424083,
          -15.308074951171875,
          -15.50076729910711,
          -15.664542061941916,
          -15.8843994140625,
          -16.07786342075893,
          -16.107997349330358,
          -16.107997349330358,
          -16.107997349330358,
          -16.107997349330358,
          -16.107997349330358,
          null,
          -61.97352482722355,
          -62.2283935546875,
          -62.388188288762024,
          -62.54736328125,
          -62.70932711087744,
          -62.86912536621094,
          -62.9835205078125,
          -63.18827819824219,
          -63.348472595214844,
          -63.5083712064303,
          -63.66633488581732,
          -63.826693021334165,
          -63.98368835449219,
          -64.1440200805664,
          -64.27860260009766,
          -64.45805991568216,
          -64.61450958251953,
          -64.77117026724466,
          -64.92727661132812,
          -65.0833511352539,
          -65.2360610961914,
          -65.39179229736328,
          -65.53914642333984,
          -65.68484422637192,
          -65.84957215844128,
          -65.99916039443593,
          -66.15008842654345,
          -66.29029808974843,
          -66.44881439208984,
          -66.44881439208984,
          -68.40000803877666,
          -68.51433890206474,
          -68.66548863852893,
          -68.81367008860514,
          -68.95910495665015,
          -69.10184587751115,
          -69.23155249618901,
          -69.35745594113371,
          -69.48341547056685,
          -69.60924725199851,
          -69.73329056140989,
          -69.85688675281614,
          -69.97818348019621,
          -70.09813581194197,
          -70.2180303529251,
          -70.3367082462754,
          -70.45538613962572,
          -70.57342529296875,
          -70.69012309229652,
          -70.8057989076126,
          -70.91374596884083,
          -70.9786419535792,
          -71.0388751362645,
          -71.10270413485443,
          -71.1841246139171,
          -71.27029064089749,
          -71.3574786518895,
          -71.44396404887351,
          -71.52661410245031,
          -71.60489169034093,
          -71.68138370957485,
          -71.75233320756394,
          -71.82330738414419,
          -71.88947504216975,
          -71.9669189453125,
          -72.048828125,
          -72.13342146439987,
          -72.23553466796875,
          -72.3360595703125,
          -72.434814453125,
          -72.53011530095881,
          -72.625,
          -72.71931734952062,
          -72.808706110174,
          -72.8709716796875,
          -72.93223987926137,
          -72.99176025390625,
          -73.05708451704544,
          -73.1337890625,
          -73.223388671875,
          -73.28536293723369,
          -73.3602294921875,
          -73.43487548828125,
          -73.5063379461115,
          -73.57769775390625,
          -73.65278070623225,
          -73.720458984375,
          -73.77313232421875,
          -73.8319091796875,
          -73.8572998046875,
          -73.84129610928625,
          -73.80883650346237,
          -73.78280639648438,
          -73.77849925648081,
          -73.77849925648081,
          -73.77849925648081,
          -73.77849925648081,
          -73.77849925648081,
          null,
          null,
          5.7501983642578125,
          5.748373495565878,
          5.852298221072635,
          5.954367147909628,
          5.8985137939453125,
          5.761141390413852,
          5.6208038330078125,
          5.477204193940034,
          5.3292083740234375,
          5.1799774169921875,
          5.032183672930743,
          4.88616943359375,
          4.7409820556640625,
          4.595180202174831,
          4.449310302734375,
          4.303374419341217,
          4.154984757706925,
          4.008941650390625,
          3.875274658203125,
          3.74359130859375,
          3.613685401710304,
          3.4899139404296875,
          3.3758462441934123,
          3.2657623291015625,
          3.158721923828125,
          3.0544961465371623,
          2.9503487251900338,
          2.8462013038429053,
          2.7413177490234375,
          2.6335267762880066,
          2.6048732448268583,
          2.6748739706503377,
          2.7397918701171875,
          2.795203956397804,
          2.8266783018369934,
          2.8266783018369934,
          2.8266783018369934,
          2.8266783018369934,
          2.8266783018369934
         ],
         "mode": "lines",
         "name": "4cc3ef",
         "showlegend": true,
         "subplot": "mapbox",
         "type": "scattermapbox"
        },
        {
         "hovertemplate": "icao=ac6ffb<br>lat=%{lat}<br>lon=%{lon}<extra></extra>",
         "lat": [
          42.24101257324219,
          42.24769592285156,
          42.24920654296875,
          42.17848205566406,
          42.108123779296875,
          42.030339645127114,
          41.95344543457031,
          41.871037887314614,
          41.77932997881356,
          41.6855272196107,
          41.587720967955505,
          41.488657805879235,
          41.39002990722656,
          41.296257406978285,
          41.19798563294491,
          41.09197998046875,
          40.9818901449947,
          40.867511296676376,
          40.755506612486755,
          40.64300537109375,
          40.52539890095339,
          40.40940856933594,
          40.29263771186441,
          40.17732781878972,
          40.06173861228813,
          39.94624251026218,
          39.8302001953125,
          39.71292269431938,
          39.59575071173199,
          39.47959899902344,
          39.36323547363281,
          39.22687077926377,
          39.13032143802966,
          39.01277160644531,
          38.89783956236759,
          38.780481370828916,
          38.66321628376589,
          38.54650982355667,
          38.429337840969275,
          38.31183999271716,
          38.19635009765625,
          38.07661153502384,
          37.95780944824219,
          37.83649509235964,
          37.717600676972985,
          37.59516829151218,
          37.47399281647245,
          37.354705810546875,
          37.23559880660752,
          37.138275146484375,
          36.9938530356197,
          36.86271538168697,
          36.739770921610166,
          36.61594196901483,
          36.49287414550781,
          36.37010192871094,
          36.25016784667969,
          36.13086765095339,
          36.0186767578125,
          35.91360835705773,
          35.81510382183527,
          35.71064060017214,
          35.60563659667969,
          35.50264520160222,
          35.39460754394531,
          35.28204345703125,
          35.166119074417374,
          35.048016047073624,
          34.9315423480535,
          34.82079457428495,
          34.711212158203125,
          34.602836996822035,
          34.50636291503906,
          34.42244707527807,
          34.33644104003906,
          34.234954833984375,
          34.134429931640625,
          34.045606710143005,
          33.956634521484375,
          33.91749495166843,
          33.913584563691735,
          33.90920865333686,
          33.90487929521981,
          33.90087890625,
          33.898040771484375,
          33.89626713122352,
          33.87839107190148,
          33.87839107190148,
          33.87839107190148,
          33.87839107190148,
          33.87839107190148,
          null,
          null,
          null,
          33.64521789550781,
          33.64646782309322,
          33.64646782309322,
          33.64646782309322,
          33.64646782309322,
          33.64646782309322,
          42.244171142578125,
          42.26953125,
          42.32720947265625,
          42.36858820511123,
          42.416862875728285,
          42.45094299316406,
          42.46723239704714,
          42.46723239704714,
          42.46723239704714,
          42.46723239704714,
          42.46723239704714,
          42.715301513671875,
          42.65800346762447,
          42.55210876464844,
          42.46402029263771,
          42.36822509765625,
          42.2706888489804,
          42.171951552568856,
          42.07795715332031,
          41.993408203125,
          41.91847229003906,
          41.87285342458951,
          41.834381103515625,
          41.79450988769531,
          41.747222900390625,
          41.710968017578125,
          41.61643981933594,
          41.50213623046875,
          41.387173927436436,
          41.26758122848252,
          41.14649885791843,
          41.02574235301907,
          40.90493929588188,
          40.785812119306144,
          40.67147982322563,
          40.55442810058594,
          40.43471514168432,
          40.313120696504235,
          40.19013977050781,
          40.06685935844809,
          39.94372868942002,
          39.82236700542902,
          39.700469970703125,
          39.5790384583554,
          39.45652770996094,
          39.33503723144531,
          39.20797057070975,
          39.082122802734375,
          38.95705400887182,
          38.83424920550847,
          38.711863372285485,
          38.58934020996094,
          38.4655089297537,
          38.34326275324417,
          38.21772766113281,
          38.0937893107786,
          37.97071838378906,
          37.84543312202066,
          37.72361755371094,
          37.59865970934852,
          37.46612548828125,
          37.34056091308594,
          37.21380615234375,
          37.08686440677966,
          36.96405029296875,
          36.83500671386719,
          36.71136474609375,
          36.58963995464777,
          36.4654541015625,
          36.34034729003906,
          36.21326511189089,
          36.08603784593485,
          35.96012878417969,
          35.83423679157839,
          35.70726013183594,
          35.5797357074285,
          35.45622253417969,
          35.33290100097656,
          35.2122802734375,
          35.09632873535156,
          34.98279636189089,
          34.87371826171875,
          34.767352605270126,
          34.666567010394594,
          null,
          null,
          null,
          null,
          null,
          null,
          33.80424499511719,
          33.80424499511719,
          33.729144597457626,
          33.676483154296875,
          33.629150390625,
          33.64933776855469,
          33.67896128509004,
          33.66201627052436,
          33.647561800681935,
          33.64541244506836,
          33.6463508605957,
          33.647561800681935,
          33.647561800681935,
          33.647561800681935,
          33.647561800681935,
          33.647561800681935
         ],
         "legendgroup": "ac6ffb",
         "line": {
          "color": "#00cc96"
         },
         "lon": [
          -85.55172313343394,
          -85.5531588467685,
          -85.50827719948506,
          -85.49117348410869,
          -85.43493097478694,
          -85.37028467932413,
          -85.29704007235443,
          -85.22822890170784,
          -85.18894639126086,
          -85.1495361328125,
          -85.10840127634447,
          -85.06701092387351,
          -85.02587751908737,
          -84.98730052601206,
          -84.94672601873225,
          -84.90289306640625,
          -84.85746210271662,
          -84.81052051890981,
          -84.76457769220525,
          -84.71893310546875,
          -84.67113148082387,
          -84.6239013671875,
          -84.57699862393468,
          -84.53068126331675,
          -84.48430148038,
          -84.43767200816762,
          -84.39207657523775,
          -84.34539794921875,
          -84.299560546875,
          -84.25391155740488,
          -84.20817499575406,
          -84.15484619140625,
          -84.11724853515625,
          -84.071801227072,
          -84.02734375,
          -83.9820556640625,
          -83.93719482421875,
          -83.89251708984375,
          -83.84783935546875,
          -83.80317356275475,
          -83.75953187333778,
          -83.71432760487431,
          -83.66936216963097,
          -83.62380981445312,
          -83.57932712720788,
          -83.53406823199725,
          -83.48910787831181,
          -83.44478526013961,
          -83.40103812839675,
          -83.36525125706447,
          -83.31237129543138,
          -83.26460465140963,
          -83.22009147481714,
          -83.17509427983708,
          -83.1306266784668,
          -83.08645248413086,
          -83.04359436035156,
          -83.00089085355717,
          -82.96051025390625,
          -82.92316842586433,
          -82.8881641144448,
          -82.85175729305183,
          -82.81465530395508,
          -82.77835927111033,
          -82.74044036865234,
          -82.7010726928711,
          -82.66056060791016,
          -82.61947631835938,
          -82.57902145385742,
          -82.54068374633789,
          -82.5028400031888,
          -82.46561050415039,
          -82.43249387157204,
          -82.40386962890625,
          -82.37453538544324,
          -82.3399508729273,
          -82.30581478196746,
          -82.27569580078125,
          -82.24510971380738,
          -82.1612548828125,
          -82.06472396850586,
          -81.95634841918945,
          -81.85312271118164,
          -81.75823600924747,
          -81.69170146085776,
          -81.65124893188477,
          -81.5093994140625,
          -81.5093994140625,
          -81.5093994140625,
          -81.5093994140625,
          -81.5093994140625,
          null,
          null,
          null,
          -81.69493850396606,
          -81.69233322143555,
          -81.69233322143555,
          -81.69233322143555,
          -81.69233322143555,
          -81.69233322143555,
          -85.55222251198506,
          -85.54654208096593,
          -85.49448186700994,
          -85.41014205577761,
          -85.31100960664969,
          -85.24110967462713,
          -85.20810859147893,
          -85.20810859147893,
          -85.20810859147893,
          -85.20810859147893,
          -85.20810859147893,
          -84.71020785245031,
          -84.68830197356465,
          -84.64803522283381,
          -84.61465525072676,
          -84.57855918190694,
          -84.54177501589749,
          -84.50479196947674,
          -84.42687294699931,
          -84.31532426313919,
          -84.1740625554865,
          -84.0069580078125,
          -83.83467240767044,
          -83.65789240056819,
          -83.45277266068894,
          -83.30601778897375,
          -83.1899122758345,
          -83.15657875754619,
          -83.13309780386987,
          -83.1083887273615,
          -83.08304526589131,
          -83.05826360529119,
          -83.03335710005325,
          -83.00838817249644,
          -82.98516706986862,
          -82.9617919921875,
          -82.937538840554,
          -82.91288202459162,
          -82.88330078125,
          -82.84440474076706,
          -82.80589017001068,
          -82.769287109375,
          -82.73242452870244,
          -82.69561767578125,
          -82.65928185504413,
          -82.62524812117869,
          -82.60272216796875,
          -82.58058630901832,
          -82.55841064453125,
          -82.53680419921875,
          -82.51483154296875,
          -82.49383014181387,
          -82.47222900390625,
          -82.45101928710938,
          -82.42913428773272,
          -82.40785018257475,
          -82.38641617145942,
          -82.36503932787025,
          -82.3443408722573,
          -82.32294497282606,
          -82.30037523352581,
          -82.27935791015625,
          -82.2579696330618,
          -82.23648734714675,
          -82.21583589594411,
          -82.19461441040039,
          -82.17395782470703,
          -82.15389170545211,
          -82.13315963745117,
          -82.11227416992188,
          -82.09142157372008,
          -82.07079298952789,
          -82.05036163330078,
          -82.02982801072142,
          -82.00922012329102,
          -81.98857084233708,
          -81.9686508178711,
          -81.94890975952148,
          -81.92958909638071,
          -81.91097960180167,
          -81.89294815063477,
          -81.87415298150512,
          -81.85449600219727,
          -81.8382453918457,
          null,
          null,
          null,
          null,
          null,
          null,
          -81.70308015784438,
          -81.70308015784438,
          -81.6914176940918,
          -81.6832935566805,
          -81.66091918945312,
          -81.60386688855232,
          -81.62813186645508,
          -81.66240692138672,
          -81.6926622390747,
          -81.69526080695948,
          -81.69258429079639,
          -81.69003009796143,
          -81.69003009796143,
          -81.69003009796143,
          -81.69003009796143,
          -81.69003009796143
         ],
         "mode": "lines",
         "name": "ac6ffb",
         "showlegend": true,
         "subplot": "mapbox",
         "type": "scattermapbox"
        },
        {
         "hovertemplate": "icao=344547<br>lat=%{lat}<br>lon=%{lon}<extra></extra>",
         "lat": [
          43.16523665088718,
          43.16523665088718,
          43.28394485732256,
          43.34031961731991,
          43.49156783798993,
          43.61572265625,
          43.71665954589844,
          43.849090576171875,
          43.87162030753443,
          43.87162030753443,
          43.87162030753443,
          43.87162030753443,
          43.87162030753443,
          46.44712286480402,
          46.471527099609375,
          46.50970458984375,
          46.74064636230469,
          46.87382067664195,
          46.99493408203125,
          47.13313293457031,
          47.26762390136719,
          47.40010070800781,
          47.53244173728813,
          47.66423112255031,
          47.79620671676377,
          47.927764892578125,
          48.060333251953125,
          48.191802978515625,
          48.32244873046875,
          48.45295715332031,
          48.58287048339844,
          48.71177673339844,
          48.8404541015625,
          48.9689506918697,
          49.09735107421875,
          49.22405695511123,
          49.34881695246292,
          49.478759765625,
          49.60159560381356,
          49.72007104905985,
          49.84043884277344,
          49.96093232752913,
          50.08108365333686,
          50.19671630859375,
          50.3272705078125,
          50.420914989406775,
          50.531011031845864,
          50.63310241699219,
          50.676393670550844,
          50.668121337890625,
          50.662009029065146,
          50.6629400738215,
          50.66477966308594,
          50.66657114837129,
          50.66717632746292,
          50.670760849774894,
          50.711540610103285,
          50.755997997219275,
          50.80357360839844,
          50.88999938964844,
          50.97916942531779,
          51.06752557269597,
          51.156998973781775,
          51.24046325683594,
          51.33077847755561,
          51.41555010262182,
          51.50642007084216,
          51.590972900390625,
          51.667630470405186,
          51.728055275092686,
          51.77632141113281,
          51.81028747558594,
          51.82411193847656,
          51.83675475039724,
          51.848346257613876,
          51.85863430217161,
          51.86846923828125,
          51.875667572021484,
          51.877569424903996,
          51.876502990722656,
          51.876502990722656,
          51.876502990722656,
          51.876502990722656,
          51.876502990722656
         ],
         "legendgroup": "344547",
         "line": {
          "color": "#ab63fa"
         },
         "lon": [
          -8.141130719866055,
          -8.141130719866055,
          -8.058144705636153,
          -8.017926897321445,
          -7.90963309151789,
          -7.820285530977458,
          -7.7473414221474854,
          -7.651274925054452,
          -7.634844098772305,
          -7.634844098772305,
          -7.634844098772305,
          -7.634844098772305,
          -7.634844098772305,
          -5.885856628417969,
          -5.869579780392485,
          -5.844056664443542,
          -5.688841284775153,
          -5.598660982572115,
          -5.516166687011719,
          -5.421478271484375,
          -5.3290557861328125,
          -5.237251281738281,
          -5.145122821514462,
          -5.052865835336547,
          -4.960045447716368,
          -4.8668060302734375,
          -4.7724609375,
          -4.67827430138226,
          -4.584256685697142,
          -4.48967566856976,
          -4.395024226262024,
          -4.300584059495236,
          -4.205721341646665,
          -4.110549123663702,
          -4.014657827524047,
          -3.9198062294408373,
          -3.8256996556332297,
          -3.72711181640625,
          -3.6160608240076044,
          -3.4981062605574493,
          -3.3776453921669827,
          -3.2563328098606235,
          -3.1346666490709367,
          -3.016758968955628,
          -2.8829715126439623,
          -2.7864445866765095,
          -2.672201620565886,
          -2.557429263466304,
          -2.378692626953125,
          -2.1894595497533373,
          -2.0151746595228133,
          -1.845851588893595,
          -1.6775111148232327,
          -1.5115851324957816,
          -1.3461963550464588,
          -1.1859295819256772,
          -1.04888916015625,
          -0.91827392578125,
          -0.7894567541173956,
          -0.7785446579391646,
          -0.79803466796875,
          -0.8174896240234375,
          -0.8382415771484375,
          -0.8591605521536962,
          -0.8834075927734375,
          -0.9063720703125,
          -0.9253692626953125,
          -0.9238165778082816,
          -0.9221649169921875,
          -0.8763885498046875,
          -0.8070497255067721,
          -0.7383109427786962,
          -0.6598477750210918,
          -0.5870819091796875,
          -0.520172119140625,
          -0.4608154296875,
          -0.40374755859375,
          -0.3625117121516155,
          -0.359649658203125,
          -0.36898844950906096,
          -0.36898844950906096,
          -0.36898844950906096,
          -0.36898844950906096,
          -0.36898844950906096
         ],
         "mode": "lines",
         "name": "344547",
         "showlegend": true,
         "subplot": "mapbox",
         "type": "scattermapbox"
        }
       ],
       "layout": {
        "autosize": true,
        "legend": {
         "title": {
          "text": "icao"
         },
         "tracegroupgap": 0
        },
        "mapbox": {
         "bearing": 0,
         "center": {
          "lat": -51.53529777678755,
          "lon": -117.76571772930674
         },
         "domain": {
          "x": [
           0,
           1
          ],
          "y": [
           0,
           1
          ]
         },
         "pitch": 0,
         "style": "open-street-map",
         "zoom": 2.0434612908939314
        },
        "margin": {
         "b": 0,
         "l": 0,
         "r": 0,
         "t": 0
        },
        "template": {
         "data": {
          "bar": [
           {
            "error_x": {
             "color": "#2a3f5f"
            },
            "error_y": {
             "color": "#2a3f5f"
            },
            "marker": {
             "line": {
              "color": "#E5ECF6",
              "width": 0.5
             },
             "pattern": {
              "fillmode": "overlay",
              "size": 10,
              "solidity": 0.2
             }
            },
            "type": "bar"
           }
          ],
          "barpolar": [
           {
            "marker": {
             "line": {
              "color": "#E5ECF6",
              "width": 0.5
             },
             "pattern": {
              "fillmode": "overlay",
              "size": 10,
              "solidity": 0.2
             }
            },
            "type": "barpolar"
           }
          ],
          "carpet": [
           {
            "aaxis": {
             "endlinecolor": "#2a3f5f",
             "gridcolor": "white",
             "linecolor": "white",
             "minorgridcolor": "white",
             "startlinecolor": "#2a3f5f"
            },
            "baxis": {
             "endlinecolor": "#2a3f5f",
             "gridcolor": "white",
             "linecolor": "white",
             "minorgridcolor": "white",
             "startlinecolor": "#2a3f5f"
            },
            "type": "carpet"
           }
          ],
          "choropleth": [
           {
            "colorbar": {
             "outlinewidth": 0,
             "ticks": ""
            },
            "type": "choropleth"
           }
          ],
          "contour": [
           {
            "colorbar": {
             "outlinewidth": 0,
             "ticks": ""
            },
            "colorscale": [
             [
              0,
              "#0d0887"
             ],
             [
              0.1111111111111111,
              "#46039f"
             ],
             [
              0.2222222222222222,
              "#7201a8"
             ],
             [
              0.3333333333333333,
              "#9c179e"
             ],
             [
              0.4444444444444444,
              "#bd3786"
             ],
             [
              0.5555555555555556,
              "#d8576b"
             ],
             [
              0.6666666666666666,
              "#ed7953"
             ],
             [
              0.7777777777777778,
              "#fb9f3a"
             ],
             [
              0.8888888888888888,
              "#fdca26"
             ],
             [
              1,
              "#f0f921"
             ]
            ],
            "type": "contour"
           }
          ],
          "contourcarpet": [
           {
            "colorbar": {
             "outlinewidth": 0,
             "ticks": ""
            },
            "type": "contourcarpet"
           }
          ],
          "heatmap": [
           {
            "colorbar": {
             "outlinewidth": 0,
             "ticks": ""
            },
            "colorscale": [
             [
              0,
              "#0d0887"
             ],
             [
              0.1111111111111111,
              "#46039f"
             ],
             [
              0.2222222222222222,
              "#7201a8"
             ],
             [
              0.3333333333333333,
              "#9c179e"
             ],
             [
              0.4444444444444444,
              "#bd3786"
             ],
             [
              0.5555555555555556,
              "#d8576b"
             ],
             [
              0.6666666666666666,
              "#ed7953"
             ],
             [
              0.7777777777777778,
              "#fb9f3a"
             ],
             [
              0.8888888888888888,
              "#fdca26"
             ],
             [
              1,
              "#f0f921"
             ]
            ],
            "type": "heatmap"
           }
          ],
          "heatmapgl": [
           {
            "colorbar": {
             "outlinewidth": 0,
             "ticks": ""
            },
            "colorscale": [
             [
              0,
              "#0d0887"
             ],
             [
              0.1111111111111111,
              "#46039f"
             ],
             [
              0.2222222222222222,
              "#7201a8"
             ],
             [
              0.3333333333333333,
              "#9c179e"
             ],
             [
              0.4444444444444444,
              "#bd3786"
             ],
             [
              0.5555555555555556,
              "#d8576b"
             ],
             [
              0.6666666666666666,
              "#ed7953"
             ],
             [
              0.7777777777777778,
              "#fb9f3a"
             ],
             [
              0.8888888888888888,
              "#fdca26"
             ],
             [
              1,
              "#f0f921"
             ]
            ],
            "type": "heatmapgl"
           }
          ],
          "histogram": [
           {
            "marker": {
             "pattern": {
              "fillmode": "overlay",
              "size": 10,
              "solidity": 0.2
             }
            },
            "type": "histogram"
           }
          ],
          "histogram2d": [
           {
            "colorbar": {
             "outlinewidth": 0,
             "ticks": ""
            },
            "colorscale": [
             [
              0,
              "#0d0887"
             ],
             [
              0.1111111111111111,
              "#46039f"
             ],
             [
              0.2222222222222222,
              "#7201a8"
             ],
             [
              0.3333333333333333,
              "#9c179e"
             ],
             [
              0.4444444444444444,
              "#bd3786"
             ],
             [
              0.5555555555555556,
              "#d8576b"
             ],
             [
              0.6666666666666666,
              "#ed7953"
             ],
             [
              0.7777777777777778,
              "#fb9f3a"
             ],
             [
              0.8888888888888888,
              "#fdca26"
             ],
             [
              1,
              "#f0f921"
             ]
            ],
            "type": "histogram2d"
           }
          ],
          "histogram2dcontour": [
           {
            "colorbar": {
             "outlinewidth": 0,
             "ticks": ""
            },
            "colorscale": [
             [
              0,
              "#0d0887"
             ],
             [
              0.1111111111111111,
              "#46039f"
             ],
             [
              0.2222222222222222,
              "#7201a8"
             ],
             [
              0.3333333333333333,
              "#9c179e"
             ],
             [
              0.4444444444444444,
              "#bd3786"
             ],
             [
              0.5555555555555556,
              "#d8576b"
             ],
             [
              0.6666666666666666,
              "#ed7953"
             ],
             [
              0.7777777777777778,
              "#fb9f3a"
             ],
             [
              0.8888888888888888,
              "#fdca26"
             ],
             [
              1,
              "#f0f921"
             ]
            ],
            "type": "histogram2dcontour"
           }
          ],
          "mesh3d": [
           {
            "colorbar": {
             "outlinewidth": 0,
             "ticks": ""
            },
            "type": "mesh3d"
           }
          ],
          "parcoords": [
           {
            "line": {
             "colorbar": {
              "outlinewidth": 0,
              "ticks": ""
             }
            },
            "type": "parcoords"
           }
          ],
          "pie": [
           {
            "automargin": true,
            "type": "pie"
           }
          ],
          "scatter": [
           {
            "fillpattern": {
             "fillmode": "overlay",
             "size": 10,
             "solidity": 0.2
            },
            "type": "scatter"
           }
          ],
          "scatter3d": [
           {
            "line": {
             "colorbar": {
              "outlinewidth": 0,
              "ticks": ""
             }
            },
            "marker": {
             "colorbar": {
              "outlinewidth": 0,
              "ticks": ""
             }
            },
            "type": "scatter3d"
           }
          ],
          "scattercarpet": [
           {
            "marker": {
             "colorbar": {
              "outlinewidth": 0,
              "ticks": ""
             }
            },
            "type": "scattercarpet"
           }
          ],
          "scattergeo": [
           {
            "marker": {
             "colorbar": {
              "outlinewidth": 0,
              "ticks": ""
             }
            },
            "type": "scattergeo"
           }
          ],
          "scattergl": [
           {
            "marker": {
             "colorbar": {
              "outlinewidth": 0,
              "ticks": ""
             }
            },
            "type": "scattergl"
           }
          ],
          "scattermapbox": [
           {
            "marker": {
             "colorbar": {
              "outlinewidth": 0,
              "ticks": ""
             }
            },
            "type": "scattermapbox"
           }
          ],
          "scatterpolar": [
           {
            "marker": {
             "colorbar": {
              "outlinewidth": 0,
              "ticks": ""
             }
            },
            "type": "scatterpolar"
           }
          ],
          "scatterpolargl": [
           {
            "marker": {
             "colorbar": {
              "outlinewidth": 0,
              "ticks": ""
             }
            },
            "type": "scatterpolargl"
           }
          ],
          "scatterternary": [
           {
            "marker": {
             "colorbar": {
              "outlinewidth": 0,
              "ticks": ""
             }
            },
            "type": "scatterternary"
           }
          ],
          "surface": [
           {
            "colorbar": {
             "outlinewidth": 0,
             "ticks": ""
            },
            "colorscale": [
             [
              0,
              "#0d0887"
             ],
             [
              0.1111111111111111,
              "#46039f"
             ],
             [
              0.2222222222222222,
              "#7201a8"
             ],
             [
              0.3333333333333333,
              "#9c179e"
             ],
             [
              0.4444444444444444,
              "#bd3786"
             ],
             [
              0.5555555555555556,
              "#d8576b"
             ],
             [
              0.6666666666666666,
              "#ed7953"
             ],
             [
              0.7777777777777778,
              "#fb9f3a"
             ],
             [
              0.8888888888888888,
              "#fdca26"
             ],
             [
              1,
              "#f0f921"
             ]
            ],
            "type": "surface"
           }
          ],
          "table": [
           {
            "cells": {
             "fill": {
              "color": "#EBF0F8"
             },
             "line": {
              "color": "white"
             }
            },
            "header": {
             "fill": {
              "color": "#C8D4E3"
             },
             "line": {
              "color": "white"
             }
            },
            "type": "table"
           }
          ]
         },
         "layout": {
          "annotationdefaults": {
           "arrowcolor": "#2a3f5f",
           "arrowhead": 0,
           "arrowwidth": 1
          },
          "autotypenumbers": "strict",
          "coloraxis": {
           "colorbar": {
            "outlinewidth": 0,
            "ticks": ""
           }
          },
          "colorscale": {
           "diverging": [
            [
             0,
             "#8e0152"
            ],
            [
             0.1,
             "#c51b7d"
            ],
            [
             0.2,
             "#de77ae"
            ],
            [
             0.3,
             "#f1b6da"
            ],
            [
             0.4,
             "#fde0ef"
            ],
            [
             0.5,
             "#f7f7f7"
            ],
            [
             0.6,
             "#e6f5d0"
            ],
            [
             0.7,
             "#b8e186"
            ],
            [
             0.8,
             "#7fbc41"
            ],
            [
             0.9,
             "#4d9221"
            ],
            [
             1,
             "#276419"
            ]
           ],
           "sequential": [
            [
             0,
             "#0d0887"
            ],
            [
             0.1111111111111111,
             "#46039f"
            ],
            [
             0.2222222222222222,
             "#7201a8"
            ],
            [
             0.3333333333333333,
             "#9c179e"
            ],
            [
             0.4444444444444444,
             "#bd3786"
            ],
            [
             0.5555555555555556,
             "#d8576b"
            ],
            [
             0.6666666666666666,
             "#ed7953"
            ],
            [
             0.7777777777777778,
             "#fb9f3a"
            ],
            [
             0.8888888888888888,
             "#fdca26"
            ],
            [
             1,
             "#f0f921"
            ]
           ],
           "sequentialminus": [
            [
             0,
             "#0d0887"
            ],
            [
             0.1111111111111111,
             "#46039f"
            ],
            [
             0.2222222222222222,
             "#7201a8"
            ],
            [
             0.3333333333333333,
             "#9c179e"
            ],
            [
             0.4444444444444444,
             "#bd3786"
            ],
            [
             0.5555555555555556,
             "#d8576b"
            ],
            [
             0.6666666666666666,
             "#ed7953"
            ],
            [
             0.7777777777777778,
             "#fb9f3a"
            ],
            [
             0.8888888888888888,
             "#fdca26"
            ],
            [
             1,
             "#f0f921"
            ]
           ]
          },
          "colorway": [
           "#636efa",
           "#EF553B",
           "#00cc96",
           "#ab63fa",
           "#FFA15A",
           "#19d3f3",
           "#FF6692",
           "#B6E880",
           "#FF97FF",
           "#FECB52"
          ],
          "font": {
           "color": "#2a3f5f"
          },
          "geo": {
           "bgcolor": "white",
           "lakecolor": "white",
           "landcolor": "#E5ECF6",
           "showlakes": true,
           "showland": true,
           "subunitcolor": "white"
          },
          "hoverlabel": {
           "align": "left"
          },
          "hovermode": "closest",
          "mapbox": {
           "style": "light"
          },
          "paper_bgcolor": "white",
          "plot_bgcolor": "#E5ECF6",
          "polar": {
           "angularaxis": {
            "gridcolor": "white",
            "linecolor": "white",
            "ticks": ""
           },
           "bgcolor": "#E5ECF6",
           "radialaxis": {
            "gridcolor": "white",
            "linecolor": "white",
            "ticks": ""
           }
          },
          "scene": {
           "xaxis": {
            "backgroundcolor": "#E5ECF6",
            "gridcolor": "white",
            "gridwidth": 2,
            "linecolor": "white",
            "showbackground": true,
            "ticks": "",
            "zerolinecolor": "white"
           },
           "yaxis": {
            "backgroundcolor": "#E5ECF6",
            "gridcolor": "white",
            "gridwidth": 2,
            "linecolor": "white",
            "showbackground": true,
            "ticks": "",
            "zerolinecolor": "white"
           },
           "zaxis": {
            "backgroundcolor": "#E5ECF6",
            "gridcolor": "white",
            "gridwidth": 2,
            "linecolor": "white",
            "showbackground": true,
            "ticks": "",
            "zerolinecolor": "white"
           }
          },
          "shapedefaults": {
           "line": {
            "color": "#2a3f5f"
           }
          },
          "ternary": {
           "aaxis": {
            "gridcolor": "white",
            "linecolor": "white",
            "ticks": ""
           },
           "baxis": {
            "gridcolor": "white",
            "linecolor": "white",
            "ticks": ""
           },
           "bgcolor": "#E5ECF6",
           "caxis": {
            "gridcolor": "white",
            "linecolor": "white",
            "ticks": ""
           }
          },
          "title": {
           "x": 0.05
          },
          "xaxis": {
           "automargin": true,
           "gridcolor": "white",
           "linecolor": "white",
           "ticks": "",
           "title": {
            "standoff": 15
           },
           "zerolinecolor": "white",
           "zerolinewidth": 2
          },
          "yaxis": {
           "automargin": true,
           "gridcolor": "white",
           "linecolor": "white",
           "ticks": "",
           "title": {
            "standoff": 15
           },
           "zerolinecolor": "white",
           "zerolinewidth": 2
          }
         }
        }
       }
      },
      "image/png": "[encoded data removed]",
      "text/html": [
       "<div>                            <div id=\"1c75c3aa-28cd-4f8b-8241-05a65c89c520\" class=\"plotly-graph-div\" style=\"height:600px; width:100%;\"></div>            <script type=\"text/javascript\">                require([\"plotly\"], function(Plotly) {                    window.PLOTLYENV=window.PLOTLYENV || {};                                    if (document.getElementById(\"1c75c3aa-28cd-4f8b-8241-05a65c89c520\")) {                    Plotly.newPlot(                        \"1c75c3aa-28cd-4f8b-8241-05a65c89c520\",                        [{\"hovertemplate\":\"icao=e09491<br>lat=%{lat}<br>lon=%{lon}<extra></extra>\",\"lat\":[8.689315795898438,8.821746826171875,8.929779052734375,9.07070353879767,9.202285766601562,9.298576742915783,9.394753666247352,9.394753666247352,9.394753666247352,9.394753666247352,9.394753666247352,25.534149169921875,25.561660766601562,25.672395350569385,25.759323120117188,25.837888556011652,25.90050131587659,25.98117634401483,25.98117634401483,25.98117634401483,26.046890258789062,26.057568566273833,26.066757202148438,26.067855834960938,26.06655314817267,26.06650659593485,26.066134178032307,26.066024780273438,26.065933227539062,26.065933227539062,26.065933227539062,26.065933227539062,26.065933227539062],\"legendgroup\":\"e09491\",\"line\":{\"color\":\"#636efa\"},\"lon\":[-79.56461760957365,-79.5676900572696,-79.58547301211598,-79.6086383688039,-79.62899935447564,-79.63747748013202,-79.64557516163794,-79.64557516163794,-79.64557516163794,-79.64557516163794,-79.64557516163794,-80.99711100260413,-80.98429361979163,-80.9527587890625,-80.93861897786456,-80.93923715444711,-80.92085618239179,-80.87125924917365,-80.87125924917365,-80.87125924917365,-80.63524354178952,-80.56739220252405,-80.48983016104069,-80.42365308077831,-80.35009530874396,-80.28602600097656,-80.23542550893927,-80.20045442401238,-80.1773416771079,-80.1773416771079,-80.1773416771079,-80.1773416771079,-80.1773416771079],\"mode\":\"lines\",\"name\":\"e09491\",\"showlegend\":true,\"subplot\":\"mapbox\",\"type\":\"scattermapbox\"},{\"hovertemplate\":\"icao=4cc3ef<br>lat=%{lat}<br>lon=%{lon}<extra></extra>\",\"lat\":[null,null,50.9140428446107,50.91404342651367,50.914124311026875,50.914398193359375,50.91427560579979,50.91427230834961,50.91427230834961,50.91472949011851,50.916894169177034,50.919822692871094,50.91954764673265,50.89530944824219,50.86055432335805,50.83965236857786,50.806549072265625,50.732025146484375,50.71279752052436,50.73607363943326,50.77014987751589,50.810929637844275,50.85338527873411,50.89709783004502,50.94163513183594,50.995697021484375,51.03470624503443,51.07259976661811,51.11073303222656,51.15490412307997,51.202423095703125,51.24931206137447,51.28651428222656,51.311187744140625,51.335154387910485,51.35819774563029,51.38063592425847,51.40296936035156,51.4249071024232,51.44627380371094,51.463871325476696,51.480955996755824,51.49415588378906,51.50129699707031,51.508561473781775,51.51594543457031,51.52391052246094,51.53146517478813,51.538787841796875,51.54693603515625,51.554718017578125,51.56231689453125,51.5719190694518,51.588258904925844,51.605712890625,51.62280066538665,51.63937326204979,51.65606689453125,51.67259216308594,51.688934326171875,51.70472717285156,51.719970703125,51.73503811076536,51.749702065677965,51.764007568359375,51.77815246582031,51.79178528866525,51.805238885394594,51.818133855270126,51.83079528808594,51.84297180175781,51.85514831542969,51.8667343915519,51.87818624205508,51.88912601794227,51.899871826171875,51.91026073391154,51.920379638671875,51.93017578125,51.93955993652344,51.94862365722656,51.95732504634534,51.96556091308594,51.97361755371094,51.981206344345864,51.9896788516287,51.99526512016684,52.00190734863281,52.008113537804554,52.013946533203125,52.019286074880824,52.02442932128906,52.02920170153602,52.03371726860434,52.037750244140625,52.041398387844275,52.04470359672934,52.04754328323622,52.05015563964844,52.05235290527344,52.05418395996094,52.05560302734375,52.05665588378906,52.057319253177965,52.057645118842686,52.05757141113281,52.05717959646451,52.05634165618379,52.05528259277344,52.05377197265625,52.05198669433594,52.04978942871094,52.04726396980932,52.044377731064614,52.041165626655186,52.0375345521054,52.0336241641287,52.02923583984375,52.024658203125,52.019439697265625,52.013979119769594,52.00813293457031,52.002410888671875,52.04270185050318,52.10371398925781,52.148003012447035,52.1837551310911,52.231292724609375,52.27276300979872,52.27918721861758,52.27918721861758,52.27918721861758,52.27918721861758,52.27918721861758,null,47.97659663830773,47.86165916313559,47.788944567664196,47.71614074707031,47.64165328720868,47.56764221191406,47.514495849609375,47.41864013671875,47.34320068359375,47.267606056342686,47.19242419226695,47.11547334315413,47.03974914550781,46.962066650390625,46.89646911621094,46.80857849121094,46.73141738115731,46.65385437011719,46.575932906845864,46.4975389383607,46.4206346414857,46.341682046146715,46.26659328654661,46.191925048828125,46.107147216796875,46.02960205078125,45.950958251953125,45.87739562988281,45.79399496822034,45.79399496822034,44.727483199814614,44.662628173828125,44.57660739704714,44.49178921974311,44.408041743908896,44.32209777832031,44.22346212096133,44.12141418457031,44.01795959472656,43.91432189941406,43.81159973144531,43.70915222167969,43.60798645019531,43.507628360037074,43.4066162109375,43.30632019042969,43.205841064453125,43.10569633871822,43.00616455078125,42.90705871582031,42.80310679290254,42.677741616459215,42.55102642511917,42.423797607421875,42.30280989307468,42.183962029925844,42.0645555399232,41.94556802006091,41.83131408691406,41.72291564941406,41.61611783302436,41.5169677734375,41.417999267578125,41.3245611675715,41.23924255371094,41.165130615234375,41.09817763506356,41.07078552246094,41.04624938964844,41.021484375,40.99748514466366,40.97383117675781,40.949955309851696,40.9193704896054,40.854583740234375,40.78972250728284,40.7281494140625,40.67469192763506,40.63023376464844,40.579742431640625,40.54434566174523,40.50205993652344,40.46031188964844,40.420004634533896,40.3875732421875,40.370612710209215,40.38697814941406,40.42781066894531,40.45042419433594,40.487548828125,40.53461624404131,40.57604773569915,40.60942569021451,40.61496540651483,40.61496540651483,40.61496540651483,40.61496540651483,40.61496540651483,null,null,50.8910460391287,50.85150146484375,50.83497619628906,50.79656982421875,50.73546846034163,50.73490905761719,50.73500293796345,50.73527526855469,50.73495638572563,50.734351206634,50.73504638671875,50.75431823730469,50.777551683328916,50.80119323730469,50.824522891287074,50.84632873535156,50.851959228515625,50.85757498013771,50.862695726297666,50.868514756024894,50.87535095214844,50.88387699450477,50.91096496582031,50.93908794855667,50.96599514201536,50.99253845214844,51.01963806152344,51.046600341796875,51.074089438228285,51.10148620605469,51.15252685546875,51.16973876953125,51.17953025688559,51.18791198730469,51.192626953125,51.192626953125,51.192626953125,51.192626953125,51.192626953125],\"legendgroup\":\"4cc3ef\",\"line\":{\"color\":\"#EF553B\"},\"lon\":[null,null,5.7779693603515625,5.777954926361909,5.777778625488281,5.776915679106842,5.776348114013672,5.776340381519215,5.776340381519215,5.776805877685547,5.778350830078125,5.781054110140414,5.7779693603515625,5.75401512352196,5.7299041748046875,5.8231353759765625,5.939743454391892,5.933582202808277,5.818634033203125,5.6707000732421875,5.516204833984375,5.36102294921875,5.1993560791015625,5.029296875,4.853878536739865,4.639125514674831,4.482574462890625,4.2937469482421875,4.096044591955237,3.907012939453125,3.7240683065878377,3.5406494140625,3.351498165646115,3.1541154191300675,2.9557037353515625,2.757568359375,2.560882568359375,2.3637678816511825,2.1668243408203125,1.9716747387035474,1.77337646484375,1.5758514404296875,1.3792295713682432,1.1805106498099662,0.980224609375,0.7822562552787162,0.5827207823057432,0.381622314453125,0.18097748627533783,-0.020859177048123456,-0.22336392789270576,-0.42215708139781327,-0.6280517578125,-0.8282470703125,-1.027073215793905,-1.2248992919921875,-1.4229583740234375,-1.6215968776393765,-1.8217262061866677,-2.024527884818383,-2.22443451752531,-2.4238215266047405,-2.622833251953125,-2.82135009765625,-3.020646378800677,-3.221369562922291,-3.4192657470703125,-3.619384765625,-3.8202667236328125,-4.02069916596281,-4.2203831028293735,-4.421403214738177,-4.621734619140625,-4.8244476318359375,-5.0257110595703125,-5.2292633056640625,-5.43328857421875,-5.638275146484375,-5.844573974609375,-6.049652099609375,-6.25640869140625,-6.460353306361583,-6.6646575927734375,-6.8715667724609375,-7.078334263392833,-7.319091796875,-7.489301409040138,-7.69622802734375,-7.903329031808028,-8.109970092773438,-8.316493443080333,-8.524551391601562,-8.734130859375,-8.943184988839278,-9.152603149414062,-9.362234933035666,-9.57073974609375,-9.779872349330333,-9.988479614257812,-10.200271606445312,-10.409469604492188,-10.619964599609375,-10.828094482421875,-11.036551339285666,-11.24395751953125,-11.451492309570312,-11.65884835379461,-11.865705217633888,-12.0709228515625,-12.277374267578125,-12.481307983398438,-12.684860229492188,-12.886335100446388,-13.091230119977638,-13.293770926339278,-13.498587472098166,-13.702069963727638,-13.9080810546875,-14.11376953125,-14.32098388671875,-14.526986258370528,-14.733734130859375,-14.940567016601562,-15.114283970424083,-15.308074951171875,-15.50076729910711,-15.664542061941916,-15.8843994140625,-16.07786342075893,-16.107997349330358,-16.107997349330358,-16.107997349330358,-16.107997349330358,-16.107997349330358,null,-61.97352482722355,-62.2283935546875,-62.388188288762024,-62.54736328125,-62.70932711087744,-62.86912536621094,-62.9835205078125,-63.18827819824219,-63.348472595214844,-63.5083712064303,-63.66633488581732,-63.826693021334165,-63.98368835449219,-64.1440200805664,-64.27860260009766,-64.45805991568216,-64.61450958251953,-64.77117026724466,-64.92727661132812,-65.0833511352539,-65.2360610961914,-65.39179229736328,-65.53914642333984,-65.68484422637192,-65.84957215844128,-65.99916039443593,-66.15008842654345,-66.29029808974843,-66.44881439208984,-66.44881439208984,-68.40000803877666,-68.51433890206474,-68.66548863852893,-68.81367008860514,-68.95910495665015,-69.10184587751115,-69.23155249618901,-69.35745594113371,-69.48341547056685,-69.60924725199851,-69.73329056140989,-69.85688675281614,-69.97818348019621,-70.09813581194197,-70.2180303529251,-70.3367082462754,-70.45538613962572,-70.57342529296875,-70.69012309229652,-70.8057989076126,-70.91374596884083,-70.9786419535792,-71.0388751362645,-71.10270413485443,-71.1841246139171,-71.27029064089749,-71.3574786518895,-71.44396404887351,-71.52661410245031,-71.60489169034093,-71.68138370957485,-71.75233320756394,-71.82330738414419,-71.88947504216975,-71.9669189453125,-72.048828125,-72.13342146439987,-72.23553466796875,-72.3360595703125,-72.434814453125,-72.53011530095881,-72.625,-72.71931734952062,-72.808706110174,-72.8709716796875,-72.93223987926137,-72.99176025390625,-73.05708451704544,-73.1337890625,-73.223388671875,-73.28536293723369,-73.3602294921875,-73.43487548828125,-73.5063379461115,-73.57769775390625,-73.65278070623225,-73.720458984375,-73.77313232421875,-73.8319091796875,-73.8572998046875,-73.84129610928625,-73.80883650346237,-73.78280639648438,-73.77849925648081,-73.77849925648081,-73.77849925648081,-73.77849925648081,-73.77849925648081,null,null,5.7501983642578125,5.748373495565878,5.852298221072635,5.954367147909628,5.8985137939453125,5.761141390413852,5.6208038330078125,5.477204193940034,5.3292083740234375,5.1799774169921875,5.032183672930743,4.88616943359375,4.7409820556640625,4.595180202174831,4.449310302734375,4.303374419341217,4.154984757706925,4.008941650390625,3.875274658203125,3.74359130859375,3.613685401710304,3.4899139404296875,3.3758462441934123,3.2657623291015625,3.158721923828125,3.0544961465371623,2.9503487251900338,2.8462013038429053,2.7413177490234375,2.6335267762880066,2.6048732448268583,2.6748739706503377,2.7397918701171875,2.795203956397804,2.8266783018369934,2.8266783018369934,2.8266783018369934,2.8266783018369934,2.8266783018369934],\"mode\":\"lines\",\"name\":\"4cc3ef\",\"showlegend\":true,\"subplot\":\"mapbox\",\"type\":\"scattermapbox\"},{\"hovertemplate\":\"icao=ac6ffb<br>lat=%{lat}<br>lon=%{lon}<extra></extra>\",\"lat\":[42.24101257324219,42.24769592285156,42.24920654296875,42.17848205566406,42.108123779296875,42.030339645127114,41.95344543457031,41.871037887314614,41.77932997881356,41.6855272196107,41.587720967955505,41.488657805879235,41.39002990722656,41.296257406978285,41.19798563294491,41.09197998046875,40.9818901449947,40.867511296676376,40.755506612486755,40.64300537109375,40.52539890095339,40.40940856933594,40.29263771186441,40.17732781878972,40.06173861228813,39.94624251026218,39.8302001953125,39.71292269431938,39.59575071173199,39.47959899902344,39.36323547363281,39.22687077926377,39.13032143802966,39.01277160644531,38.89783956236759,38.780481370828916,38.66321628376589,38.54650982355667,38.429337840969275,38.31183999271716,38.19635009765625,38.07661153502384,37.95780944824219,37.83649509235964,37.717600676972985,37.59516829151218,37.47399281647245,37.354705810546875,37.23559880660752,37.138275146484375,36.9938530356197,36.86271538168697,36.739770921610166,36.61594196901483,36.49287414550781,36.37010192871094,36.25016784667969,36.13086765095339,36.0186767578125,35.91360835705773,35.81510382183527,35.71064060017214,35.60563659667969,35.50264520160222,35.39460754394531,35.28204345703125,35.166119074417374,35.048016047073624,34.9315423480535,34.82079457428495,34.711212158203125,34.602836996822035,34.50636291503906,34.42244707527807,34.33644104003906,34.234954833984375,34.134429931640625,34.045606710143005,33.956634521484375,33.91749495166843,33.913584563691735,33.90920865333686,33.90487929521981,33.90087890625,33.898040771484375,33.89626713122352,33.87839107190148,33.87839107190148,33.87839107190148,33.87839107190148,33.87839107190148,null,null,null,33.64521789550781,33.64646782309322,33.64646782309322,33.64646782309322,33.64646782309322,33.64646782309322,42.244171142578125,42.26953125,42.32720947265625,42.36858820511123,42.416862875728285,42.45094299316406,42.46723239704714,42.46723239704714,42.46723239704714,42.46723239704714,42.46723239704714,42.715301513671875,42.65800346762447,42.55210876464844,42.46402029263771,42.36822509765625,42.2706888489804,42.171951552568856,42.07795715332031,41.993408203125,41.91847229003906,41.87285342458951,41.834381103515625,41.79450988769531,41.747222900390625,41.710968017578125,41.61643981933594,41.50213623046875,41.387173927436436,41.26758122848252,41.14649885791843,41.02574235301907,40.90493929588188,40.785812119306144,40.67147982322563,40.55442810058594,40.43471514168432,40.313120696504235,40.19013977050781,40.06685935844809,39.94372868942002,39.82236700542902,39.700469970703125,39.5790384583554,39.45652770996094,39.33503723144531,39.20797057070975,39.082122802734375,38.95705400887182,38.83424920550847,38.711863372285485,38.58934020996094,38.4655089297537,38.34326275324417,38.21772766113281,38.0937893107786,37.97071838378906,37.84543312202066,37.72361755371094,37.59865970934852,37.46612548828125,37.34056091308594,37.21380615234375,37.08686440677966,36.96405029296875,36.83500671386719,36.71136474609375,36.58963995464777,36.4654541015625,36.34034729003906,36.21326511189089,36.08603784593485,35.96012878417969,35.83423679157839,35.70726013183594,35.5797357074285,35.45622253417969,35.33290100097656,35.2122802734375,35.09632873535156,34.98279636189089,34.87371826171875,34.767352605270126,34.666567010394594,null,null,null,null,null,null,33.80424499511719,33.80424499511719,33.729144597457626,33.676483154296875,33.629150390625,33.64933776855469,33.67896128509004,33.66201627052436,33.647561800681935,33.64541244506836,33.6463508605957,33.647561800681935,33.647561800681935,33.647561800681935,33.647561800681935,33.647561800681935],\"legendgroup\":\"ac6ffb\",\"line\":{\"color\":\"#00cc96\"},\"lon\":[-85.55172313343394,-85.5531588467685,-85.50827719948506,-85.49117348410869,-85.43493097478694,-85.37028467932413,-85.29704007235443,-85.22822890170784,-85.18894639126086,-85.1495361328125,-85.10840127634447,-85.06701092387351,-85.02587751908737,-84.98730052601206,-84.94672601873225,-84.90289306640625,-84.85746210271662,-84.81052051890981,-84.76457769220525,-84.71893310546875,-84.67113148082387,-84.6239013671875,-84.57699862393468,-84.53068126331675,-84.48430148038,-84.43767200816762,-84.39207657523775,-84.34539794921875,-84.299560546875,-84.25391155740488,-84.20817499575406,-84.15484619140625,-84.11724853515625,-84.071801227072,-84.02734375,-83.9820556640625,-83.93719482421875,-83.89251708984375,-83.84783935546875,-83.80317356275475,-83.75953187333778,-83.71432760487431,-83.66936216963097,-83.62380981445312,-83.57932712720788,-83.53406823199725,-83.48910787831181,-83.44478526013961,-83.40103812839675,-83.36525125706447,-83.31237129543138,-83.26460465140963,-83.22009147481714,-83.17509427983708,-83.1306266784668,-83.08645248413086,-83.04359436035156,-83.00089085355717,-82.96051025390625,-82.92316842586433,-82.8881641144448,-82.85175729305183,-82.81465530395508,-82.77835927111033,-82.74044036865234,-82.7010726928711,-82.66056060791016,-82.61947631835938,-82.57902145385742,-82.54068374633789,-82.5028400031888,-82.46561050415039,-82.43249387157204,-82.40386962890625,-82.37453538544324,-82.3399508729273,-82.30581478196746,-82.27569580078125,-82.24510971380738,-82.1612548828125,-82.06472396850586,-81.95634841918945,-81.85312271118164,-81.75823600924747,-81.69170146085776,-81.65124893188477,-81.5093994140625,-81.5093994140625,-81.5093994140625,-81.5093994140625,-81.5093994140625,null,null,null,-81.69493850396606,-81.69233322143555,-81.69233322143555,-81.69233322143555,-81.69233322143555,-81.69233322143555,-85.55222251198506,-85.54654208096593,-85.49448186700994,-85.41014205577761,-85.31100960664969,-85.24110967462713,-85.20810859147893,-85.20810859147893,-85.20810859147893,-85.20810859147893,-85.20810859147893,-84.71020785245031,-84.68830197356465,-84.64803522283381,-84.61465525072676,-84.57855918190694,-84.54177501589749,-84.50479196947674,-84.42687294699931,-84.31532426313919,-84.1740625554865,-84.0069580078125,-83.83467240767044,-83.65789240056819,-83.45277266068894,-83.30601778897375,-83.1899122758345,-83.15657875754619,-83.13309780386987,-83.1083887273615,-83.08304526589131,-83.05826360529119,-83.03335710005325,-83.00838817249644,-82.98516706986862,-82.9617919921875,-82.937538840554,-82.91288202459162,-82.88330078125,-82.84440474076706,-82.80589017001068,-82.769287109375,-82.73242452870244,-82.69561767578125,-82.65928185504413,-82.62524812117869,-82.60272216796875,-82.58058630901832,-82.55841064453125,-82.53680419921875,-82.51483154296875,-82.49383014181387,-82.47222900390625,-82.45101928710938,-82.42913428773272,-82.40785018257475,-82.38641617145942,-82.36503932787025,-82.3443408722573,-82.32294497282606,-82.30037523352581,-82.27935791015625,-82.2579696330618,-82.23648734714675,-82.21583589594411,-82.19461441040039,-82.17395782470703,-82.15389170545211,-82.13315963745117,-82.11227416992188,-82.09142157372008,-82.07079298952789,-82.05036163330078,-82.02982801072142,-82.00922012329102,-81.98857084233708,-81.9686508178711,-81.94890975952148,-81.92958909638071,-81.91097960180167,-81.89294815063477,-81.87415298150512,-81.85449600219727,-81.8382453918457,null,null,null,null,null,null,-81.70308015784438,-81.70308015784438,-81.6914176940918,-81.6832935566805,-81.66091918945312,-81.60386688855232,-81.62813186645508,-81.66240692138672,-81.6926622390747,-81.69526080695948,-81.69258429079639,-81.69003009796143,-81.69003009796143,-81.69003009796143,-81.69003009796143,-81.69003009796143],\"mode\":\"lines\",\"name\":\"ac6ffb\",\"showlegend\":true,\"subplot\":\"mapbox\",\"type\":\"scattermapbox\"},{\"hovertemplate\":\"icao=344547<br>lat=%{lat}<br>lon=%{lon}<extra></extra>\",\"lat\":[43.16523665088718,43.16523665088718,43.28394485732256,43.34031961731991,43.49156783798993,43.61572265625,43.71665954589844,43.849090576171875,43.87162030753443,43.87162030753443,43.87162030753443,43.87162030753443,43.87162030753443,46.44712286480402,46.471527099609375,46.50970458984375,46.74064636230469,46.87382067664195,46.99493408203125,47.13313293457031,47.26762390136719,47.40010070800781,47.53244173728813,47.66423112255031,47.79620671676377,47.927764892578125,48.060333251953125,48.191802978515625,48.32244873046875,48.45295715332031,48.58287048339844,48.71177673339844,48.8404541015625,48.9689506918697,49.09735107421875,49.22405695511123,49.34881695246292,49.478759765625,49.60159560381356,49.72007104905985,49.84043884277344,49.96093232752913,50.08108365333686,50.19671630859375,50.3272705078125,50.420914989406775,50.531011031845864,50.63310241699219,50.676393670550844,50.668121337890625,50.662009029065146,50.6629400738215,50.66477966308594,50.66657114837129,50.66717632746292,50.670760849774894,50.711540610103285,50.755997997219275,50.80357360839844,50.88999938964844,50.97916942531779,51.06752557269597,51.156998973781775,51.24046325683594,51.33077847755561,51.41555010262182,51.50642007084216,51.590972900390625,51.667630470405186,51.728055275092686,51.77632141113281,51.81028747558594,51.82411193847656,51.83675475039724,51.848346257613876,51.85863430217161,51.86846923828125,51.875667572021484,51.877569424903996,51.876502990722656,51.876502990722656,51.876502990722656,51.876502990722656,51.876502990722656],\"legendgroup\":\"344547\",\"line\":{\"color\":\"#ab63fa\"},\"lon\":[-8.141130719866055,-8.141130719866055,-8.058144705636153,-8.017926897321445,-7.90963309151789,-7.820285530977458,-7.7473414221474854,-7.651274925054452,-7.634844098772305,-7.634844098772305,-7.634844098772305,-7.634844098772305,-7.634844098772305,-5.885856628417969,-5.869579780392485,-5.844056664443542,-5.688841284775153,-5.598660982572115,-5.516166687011719,-5.421478271484375,-5.3290557861328125,-5.237251281738281,-5.145122821514462,-5.052865835336547,-4.960045447716368,-4.8668060302734375,-4.7724609375,-4.67827430138226,-4.584256685697142,-4.48967566856976,-4.395024226262024,-4.300584059495236,-4.205721341646665,-4.110549123663702,-4.014657827524047,-3.9198062294408373,-3.8256996556332297,-3.72711181640625,-3.6160608240076044,-3.4981062605574493,-3.3776453921669827,-3.2563328098606235,-3.1346666490709367,-3.016758968955628,-2.8829715126439623,-2.7864445866765095,-2.672201620565886,-2.557429263466304,-2.378692626953125,-2.1894595497533373,-2.0151746595228133,-1.845851588893595,-1.6775111148232327,-1.5115851324957816,-1.3461963550464588,-1.1859295819256772,-1.04888916015625,-0.91827392578125,-0.7894567541173956,-0.7785446579391646,-0.79803466796875,-0.8174896240234375,-0.8382415771484375,-0.8591605521536962,-0.8834075927734375,-0.9063720703125,-0.9253692626953125,-0.9238165778082816,-0.9221649169921875,-0.8763885498046875,-0.8070497255067721,-0.7383109427786962,-0.6598477750210918,-0.5870819091796875,-0.520172119140625,-0.4608154296875,-0.40374755859375,-0.3625117121516155,-0.359649658203125,-0.36898844950906096,-0.36898844950906096,-0.36898844950906096,-0.36898844950906096,-0.36898844950906096],\"mode\":\"lines\",\"name\":\"344547\",\"showlegend\":true,\"subplot\":\"mapbox\",\"type\":\"scattermapbox\"}],                        {\"template\":{\"data\":{\"histogram2dcontour\":[{\"type\":\"histogram2dcontour\",\"colorbar\":{\"outlinewidth\":0,\"ticks\":\"\"},\"colorscale\":[[0.0,\"#0d0887\"],[0.1111111111111111,\"#46039f\"],[0.2222222222222222,\"#7201a8\"],[0.3333333333333333,\"#9c179e\"],[0.4444444444444444,\"#bd3786\"],[0.5555555555555556,\"#d8576b\"],[0.6666666666666666,\"#ed7953\"],[0.7777777777777778,\"#fb9f3a\"],[0.8888888888888888,\"#fdca26\"],[1.0,\"#f0f921\"]]}],\"choropleth\":[{\"type\":\"choropleth\",\"colorbar\":{\"outlinewidth\":0,\"ticks\":\"\"}}],\"histogram2d\":[{\"type\":\"histogram2d\",\"colorbar\":{\"outlinewidth\":0,\"ticks\":\"\"},\"colorscale\":[[0.0,\"#0d0887\"],[0.1111111111111111,\"#46039f\"],[0.2222222222222222,\"#7201a8\"],[0.3333333333333333,\"#9c179e\"],[0.4444444444444444,\"#bd3786\"],[0.5555555555555556,\"#d8576b\"],[0.6666666666666666,\"#ed7953\"],[0.7777777777777778,\"#fb9f3a\"],[0.8888888888888888,\"#fdca26\"],[1.0,\"#f0f921\"]]}],\"heatmap\":[{\"type\":\"heatmap\",\"colorbar\":{\"outlinewidth\":0,\"ticks\":\"\"},\"colorscale\":[[0.0,\"#0d0887\"],[0.1111111111111111,\"#46039f\"],[0.2222222222222222,\"#7201a8\"],[0.3333333333333333,\"#9c179e\"],[0.4444444444444444,\"#bd3786\"],[0.5555555555555556,\"#d8576b\"],[0.6666666666666666,\"#ed7953\"],[0.7777777777777778,\"#fb9f3a\"],[0.8888888888888888,\"#fdca26\"],[1.0,\"#f0f921\"]]}],\"heatmapgl\":[{\"type\":\"heatmapgl\",\"colorbar\":{\"outlinewidth\":0,\"ticks\":\"\"},\"colorscale\":[[0.0,\"#0d0887\"],[0.1111111111111111,\"#46039f\"],[0.2222222222222222,\"#7201a8\"],[0.3333333333333333,\"#9c179e\"],[0.4444444444444444,\"#bd3786\"],[0.5555555555555556,\"#d8576b\"],[0.6666666666666666,\"#ed7953\"],[0.7777777777777778,\"#fb9f3a\"],[0.8888888888888888,\"#fdca26\"],[1.0,\"#f0f921\"]]}],\"contourcarpet\":[{\"type\":\"contourcarpet\",\"colorbar\":{\"outlinewidth\":0,\"ticks\":\"\"}}],\"contour\":[{\"type\":\"contour\",\"colorbar\":{\"outlinewidth\":0,\"ticks\":\"\"},\"colorscale\":[[0.0,\"#0d0887\"],[0.1111111111111111,\"#46039f\"],[0.2222222222222222,\"#7201a8\"],[0.3333333333333333,\"#9c179e\"],[0.4444444444444444,\"#bd3786\"],[0.5555555555555556,\"#d8576b\"],[0.6666666666666666,\"#ed7953\"],[0.7777777777777778,\"#fb9f3a\"],[0.8888888888888888,\"#fdca26\"],[1.0,\"#f0f921\"]]}],\"surface\":[{\"type\":\"surface\",\"colorbar\":{\"outlinewidth\":0,\"ticks\":\"\"},\"colorscale\":[[0.0,\"#0d0887\"],[0.1111111111111111,\"#46039f\"],[0.2222222222222222,\"#7201a8\"],[0.3333333333333333,\"#9c179e\"],[0.4444444444444444,\"#bd3786\"],[0.5555555555555556,\"#d8576b\"],[0.6666666666666666,\"#ed7953\"],[0.7777777777777778,\"#fb9f3a\"],[0.8888888888888888,\"#fdca26\"],[1.0,\"#f0f921\"]]}],\"mesh3d\":[{\"type\":\"mesh3d\",\"colorbar\":{\"outlinewidth\":0,\"ticks\":\"\"}}],\"scatter\":[{\"fillpattern\":{\"fillmode\":\"overlay\",\"size\":10,\"solidity\":0.2},\"type\":\"scatter\"}],\"parcoords\":[{\"type\":\"parcoords\",\"line\":{\"colorbar\":{\"outlinewidth\":0,\"ticks\":\"\"}}}],\"scatterpolargl\":[{\"type\":\"scatterpolargl\",\"marker\":{\"colorbar\":{\"outlinewidth\":0,\"ticks\":\"\"}}}],\"bar\":[{\"error_x\":{\"color\":\"#2a3f5f\"},\"error_y\":{\"color\":\"#2a3f5f\"},\"marker\":{\"line\":{\"color\":\"#E5ECF6\",\"width\":0.5},\"pattern\":{\"fillmode\":\"overlay\",\"size\":10,\"solidity\":0.2}},\"type\":\"bar\"}],\"scattergeo\":[{\"type\":\"scattergeo\",\"marker\":{\"colorbar\":{\"outlinewidth\":0,\"ticks\":\"\"}}}],\"scatterpolar\":[{\"type\":\"scatterpolar\",\"marker\":{\"colorbar\":{\"outlinewidth\":0,\"ticks\":\"\"}}}],\"histogram\":[{\"marker\":{\"pattern\":{\"fillmode\":\"overlay\",\"size\":10,\"solidity\":0.2}},\"type\":\"histogram\"}],\"scattergl\":[{\"type\":\"scattergl\",\"marker\":{\"colorbar\":{\"outlinewidth\":0,\"ticks\":\"\"}}}],\"scatter3d\":[{\"type\":\"scatter3d\",\"line\":{\"colorbar\":{\"outlinewidth\":0,\"ticks\":\"\"}},\"marker\":{\"colorbar\":{\"outlinewidth\":0,\"ticks\":\"\"}}}],\"scattermapbox\":[{\"type\":\"scattermapbox\",\"marker\":{\"colorbar\":{\"outlinewidth\":0,\"ticks\":\"\"}}}],\"scatterternary\":[{\"type\":\"scatterternary\",\"marker\":{\"colorbar\":{\"outlinewidth\":0,\"ticks\":\"\"}}}],\"scattercarpet\":[{\"type\":\"scattercarpet\",\"marker\":{\"colorbar\":{\"outlinewidth\":0,\"ticks\":\"\"}}}],\"carpet\":[{\"aaxis\":{\"endlinecolor\":\"#2a3f5f\",\"gridcolor\":\"white\",\"linecolor\":\"white\",\"minorgridcolor\":\"white\",\"startlinecolor\":\"#2a3f5f\"},\"baxis\":{\"endlinecolor\":\"#2a3f5f\",\"gridcolor\":\"white\",\"linecolor\":\"white\",\"minorgridcolor\":\"white\",\"startlinecolor\":\"#2a3f5f\"},\"type\":\"carpet\"}],\"table\":[{\"cells\":{\"fill\":{\"color\":\"#EBF0F8\"},\"line\":{\"color\":\"white\"}},\"header\":{\"fill\":{\"color\":\"#C8D4E3\"},\"line\":{\"color\":\"white\"}},\"type\":\"table\"}],\"barpolar\":[{\"marker\":{\"line\":{\"color\":\"#E5ECF6\",\"width\":0.5},\"pattern\":{\"fillmode\":\"overlay\",\"size\":10,\"solidity\":0.2}},\"type\":\"barpolar\"}],\"pie\":[{\"automargin\":true,\"type\":\"pie\"}]},\"layout\":{\"autotypenumbers\":\"strict\",\"colorway\":[\"#636efa\",\"#EF553B\",\"#00cc96\",\"#ab63fa\",\"#FFA15A\",\"#19d3f3\",\"#FF6692\",\"#B6E880\",\"#FF97FF\",\"#FECB52\"],\"font\":{\"color\":\"#2a3f5f\"},\"hovermode\":\"closest\",\"hoverlabel\":{\"align\":\"left\"},\"paper_bgcolor\":\"white\",\"plot_bgcolor\":\"#E5ECF6\",\"polar\":{\"bgcolor\":\"#E5ECF6\",\"angularaxis\":{\"gridcolor\":\"white\",\"linecolor\":\"white\",\"ticks\":\"\"},\"radialaxis\":{\"gridcolor\":\"white\",\"linecolor\":\"white\",\"ticks\":\"\"}},\"ternary\":{\"bgcolor\":\"#E5ECF6\",\"aaxis\":{\"gridcolor\":\"white\",\"linecolor\":\"white\",\"ticks\":\"\"},\"baxis\":{\"gridcolor\":\"white\",\"linecolor\":\"white\",\"ticks\":\"\"},\"caxis\":{\"gridcolor\":\"white\",\"linecolor\":\"white\",\"ticks\":\"\"}},\"coloraxis\":{\"colorbar\":{\"outlinewidth\":0,\"ticks\":\"\"}},\"colorscale\":{\"sequential\":[[0.0,\"#0d0887\"],[0.1111111111111111,\"#46039f\"],[0.2222222222222222,\"#7201a8\"],[0.3333333333333333,\"#9c179e\"],[0.4444444444444444,\"#bd3786\"],[0.5555555555555556,\"#d8576b\"],[0.6666666666666666,\"#ed7953\"],[0.7777777777777778,\"#fb9f3a\"],[0.8888888888888888,\"#fdca26\"],[1.0,\"#f0f921\"]],\"sequentialminus\":[[0.0,\"#0d0887\"],[0.1111111111111111,\"#46039f\"],[0.2222222222222222,\"#7201a8\"],[0.3333333333333333,\"#9c179e\"],[0.4444444444444444,\"#bd3786\"],[0.5555555555555556,\"#d8576b\"],[0.6666666666666666,\"#ed7953\"],[0.7777777777777778,\"#fb9f3a\"],[0.8888888888888888,\"#fdca26\"],[1.0,\"#f0f921\"]],\"diverging\":[[0,\"#8e0152\"],[0.1,\"#c51b7d\"],[0.2,\"#de77ae\"],[0.3,\"#f1b6da\"],[0.4,\"#fde0ef\"],[0.5,\"#f7f7f7\"],[0.6,\"#e6f5d0\"],[0.7,\"#b8e186\"],[0.8,\"#7fbc41\"],[0.9,\"#4d9221\"],[1,\"#276419\"]]},\"xaxis\":{\"gridcolor\":\"white\",\"linecolor\":\"white\",\"ticks\":\"\",\"title\":{\"standoff\":15},\"zerolinecolor\":\"white\",\"automargin\":true,\"zerolinewidth\":2},\"yaxis\":{\"gridcolor\":\"white\",\"linecolor\":\"white\",\"ticks\":\"\",\"title\":{\"standoff\":15},\"zerolinecolor\":\"white\",\"automargin\":true,\"zerolinewidth\":2},\"scene\":{\"xaxis\":{\"backgroundcolor\":\"#E5ECF6\",\"gridcolor\":\"white\",\"linecolor\":\"white\",\"showbackground\":true,\"ticks\":\"\",\"zerolinecolor\":\"white\",\"gridwidth\":2},\"yaxis\":{\"backgroundcolor\":\"#E5ECF6\",\"gridcolor\":\"white\",\"linecolor\":\"white\",\"showbackground\":true,\"ticks\":\"\",\"zerolinecolor\":\"white\",\"gridwidth\":2},\"zaxis\":{\"backgroundcolor\":\"#E5ECF6\",\"gridcolor\":\"white\",\"linecolor\":\"white\",\"showbackground\":true,\"ticks\":\"\",\"zerolinecolor\":\"white\",\"gridwidth\":2}},\"shapedefaults\":{\"line\":{\"color\":\"#2a3f5f\"}},\"annotationdefaults\":{\"arrowcolor\":\"#2a3f5f\",\"arrowhead\":0,\"arrowwidth\":1},\"geo\":{\"bgcolor\":\"white\",\"landcolor\":\"#E5ECF6\",\"subunitcolor\":\"white\",\"showland\":true,\"showlakes\":true,\"lakecolor\":\"white\"},\"title\":{\"x\":0.05},\"mapbox\":{\"style\":\"light\"}}},\"mapbox\":{\"domain\":{\"x\":[0.0,1.0],\"y\":[0.0,1.0]},\"center\":{\"lat\":40,\"lon\":0},\"zoom\":1,\"style\":\"open-street-map\"},\"legend\":{\"title\":{\"text\":\"icao\"},\"tracegroupgap\":0},\"margin\":{\"t\":0,\"r\":0,\"l\":0,\"b\":0},\"height\":600},                        {\"responsive\": true}                    ).then(function(){\n",
       "                            \n",
       "var gd = document.getElementById('1c75c3aa-28cd-4f8b-8241-05a65c89c520');\n",
       "var x = new MutationObserver(function (mutations, observer) {{\n",
       "        var display = window.getComputedStyle(gd).display;\n",
       "        if (!display || display === 'none') {{\n",
       "            console.log([gd, 'removed!']);\n",
       "            Plotly.purge(gd);\n",
       "            observer.disconnect();\n",
       "        }}\n",
       "}});\n",
       "\n",
       "// Listen for the removal of the full notebook cells\n",
       "var notebookContainer = gd.closest('#notebook-container');\n",
       "if (notebookContainer) {{\n",
       "    x.observe(notebookContainer, {childList: true});\n",
       "}}\n",
       "\n",
       "// Listen for the clearing of the current output cell\n",
       "var outputEl = gd.closest('.output');\n",
       "if (outputEl) {{\n",
       "    x.observe(outputEl, {childList: true});\n",
       "}}\n",
       "\n",
       "                        })                };                });            </script>        </div>"
      ]
     },
     "metadata": {},
     "output_type": "display_data"
    }
   ],
   "source": [
    "plot_map(fig_sample.toPandas(), color=\"icao\")"
   ]
  },
  {
   "cell_type": "code",
   "execution_count": 11,
   "id": "11ff81b6-3abf-41e2-ad85-6feb9f3c2091",
   "metadata": {},
   "outputs": [
    {
     "name": "stderr",
     "output_type": "stream",
     "text": [
      "                                                                                \r"
     ]
    },
    {
     "data": {
      "text/plain": [
       "2973"
      ]
     },
     "execution_count": 11,
     "metadata": {},
     "output_type": "execute_result"
    }
   ],
   "source": [
    "os_sample.where(\"icao24 = '06a30a'\").count()"
   ]
  },
  {
   "cell_type": "code",
   "execution_count": 58,
   "id": "74eb8c2a-1243-43aa-89bc-c87edc4dd9a5",
   "metadata": {},
   "outputs": [
    {
     "data": {
      "text/plain": [
       "DataFrame[time: int, icao24: string, callsign: string, lat: double, lon: double, baroaltitude: double, onground: boolean, lastposupdate: double, time_resampled: bigint]"
      ]
     },
     "execution_count": 58,
     "metadata": {},
     "output_type": "execute_result"
    }
   ],
   "source": [
    "ts_resampled.unpersist()\n",
    "resampled.unpersist()"
   ]
  },
  {
   "cell_type": "code",
   "execution_count": 63,
   "id": "f4cdc0ca-fa1c-485c-84b8-e6b2c594a82b",
   "metadata": {},
   "outputs": [
    {
     "name": "stdout",
     "output_type": "stream",
     "text": [
      "+------+--------------------+------+\n",
      "|  icao|               ownop|   reg|\n",
      "+------+--------------------+------+\n",
      "|4cc3ef|                null|TF-AAK|\n",
      "|e09491|                null|LV-IRQ|\n",
      "|e4835d|                null|PR-SMK|\n",
      "|342294|Isak Andic - Mang...|EC-JIL|\n",
      "|344547|Amancio Ortega - ...|EC-LZU|\n",
      "|ac6ffb|Jaime Gilinski - ...|N900JG|\n",
      "+------+--------------------+------+\n",
      "\n"
     ]
    }
   ],
   "source": [
    "aircrafts.where(\"ownop like '%mancio%' or reg in ('LV-IRQ', 'EC-JIL', 'N900JG', 'PR-SMK', 'TF-AAK')\").\\\n",
    "  select(\"icao\", \"ownop\", \"reg\").show()"
   ]
  },
  {
   "cell_type": "markdown",
   "id": "95ab71d5-1cc2-439a-88da-5efe2be3a89c",
   "metadata": {},
   "source": [
    "## Everything together"
   ]
  },
  {
   "cell_type": "code",
   "execution_count": 4,
   "id": "89d31dbd-198e-4202-b158-5bc341d91022",
   "metadata": {},
   "outputs": [],
   "source": [
    "os_hist = get_individually_owned(opensky, aircrafts)"
   ]
  },
  {
   "cell_type": "code",
   "execution_count": 87,
   "id": "ee10b75f-3f1d-43aa-b404-e0920b5fb2c8",
   "metadata": {},
   "outputs": [
    {
     "name": "stdout",
     "output_type": "stream",
     "text": [
      "+------+-----+\n",
      "|  icao|count|\n",
      "+------+-----+\n",
      "|7c304a|   45|\n",
      "|7c62f4|  106|\n",
      "|a02a3d|  128|\n",
      "|a02aeb|   86|\n",
      "|a08247|  280|\n",
      "|a08a47|  641|\n",
      "|a0d4b9|   20|\n",
      "|a0f47b|  919|\n",
      "|a0ff48|   44|\n",
      "|a129a5|   88|\n",
      "|a184be|   25|\n",
      "|a1a36b|  142|\n",
      "|a1b272|  141|\n",
      "|a1bfd1|  454|\n",
      "|a1c8e6|    9|\n",
      "|a1e4fa|   76|\n",
      "|a1f2cc|  243|\n",
      "|a255c1|   71|\n",
      "|a30e39|   36|\n",
      "|a33fa7|   71|\n",
      "+------+-----+\n",
      "only showing top 20 rows\n",
      "\n"
     ]
    }
   ],
   "source": [
    "resampled.groupBy(\"icao\").count().show()"
   ]
  },
  {
   "cell_type": "code",
   "execution_count": 89,
   "id": "e3ac6731-0f57-4250-93e3-ffb0bb9e3763",
   "metadata": {},
   "outputs": [],
   "source": [
    "ft = compute_flight_time(resampled, 60)"
   ]
  },
  {
   "cell_type": "code",
   "execution_count": 95,
   "id": "f07de290-5dbc-4be1-8a4d-dec790c99cf1",
   "metadata": {},
   "outputs": [
    {
     "name": "stderr",
     "output_type": "stream",
     "text": [
      "[Stage 4680:>                                                       (0 + 1) / 1]\r"
     ]
    },
    {
     "name": "stdout",
     "output_type": "stream",
     "text": [
      "+--------+------+-----+------------------+-----+------------+--------+\n",
      "|icaotype|  icao|air_s|             air_h|galph|fuel_used_kg|co2_tons|\n",
      "+--------+------+-----+------------------+-----+------------+--------+\n",
      "|    RV14|7c304a| 5100|1.4166666666666667| null|        null|    null|\n",
      "|    C310|7c62f4| 7200|               2.0| null|        null|    null|\n",
      "|    null|a02a3d|10080|               2.8| null|        null|    null|\n",
      "|    null|a02aeb| 7560|               2.1| null|        null|    null|\n",
      "|    null|a08247|19200| 5.333333333333333| null|        null|    null|\n",
      "|    null|a08a47|40860|             11.35| null|        null|    null|\n",
      "|    null|a0d4b9| 3600|               1.0| null|        null|    null|\n",
      "|    null|a0f47b|57540|15.983333333333333| null|        null|    null|\n",
      "|    null|a0ff48| 5040|               1.4| null|        null|    null|\n",
      "|    null|a129a5| 7680|2.1333333333333333| null|        null|    null|\n",
      "|    null|a184be| 3900|1.0833333333333333| null|        null|    null|\n",
      "|    null|a1a36b|10920| 3.033333333333333| null|        null|    null|\n",
      "|    null|a1b272|10800|               3.0| null|        null|    null|\n",
      "|    null|a1bfd1|28980|              8.05| null|        null|    null|\n",
      "|    null|a1c8e6| 2940|0.8166666666666667| null|        null|    null|\n",
      "|    null|a1e4fa| 6960|1.9333333333333333| null|        null|    null|\n",
      "|    null|a1f2cc|16980| 4.716666666666667| null|        null|    null|\n",
      "|    null|a255c1| 6660|              1.85| null|        null|    null|\n",
      "|    null|a30e39| 4560|1.2666666666666666| null|        null|    null|\n",
      "|    null|a33fa7| 6660|              1.85| null|        null|    null|\n",
      "+--------+------+-----+------------------+-----+------------+--------+\n",
      "only showing top 20 rows\n",
      "\n"
     ]
    },
    {
     "name": "stderr",
     "output_type": "stream",
     "text": [
      "                                                                                \r"
     ]
    }
   ],
   "source": [
    "co2 = compute_co2(ft, fuel_consumption, aircrafts)\n",
    "with_type = ft.join(aircrafts.select(\"icao\", \"icaotype\"), on=\"icao\", how=\"left\")\n",
    "with_type\\\n",
    "      .join(fuel_consumption.select([\"icaotype\", \"galph\"]) , on=\"icaotype\", how=\"left\")\\\n",
    "      .withColumn(\"fuel_used_kg\", col(\"air_s\")/3600 * col(\"galph\") * 3.04)\\\n",
    "      .withColumn(\"co2_tons\", col(\"fuel_used_kg\") * 3.15 / 907.185)\\\n",
    "      .show()"
   ]
  },
  {
   "cell_type": "code",
   "execution_count": 91,
   "id": "e5720611-cbf5-4c0b-953e-77490d2228f0",
   "metadata": {},
   "outputs": [
    {
     "name": "stderr",
     "output_type": "stream",
     "text": [
      "                                                                                \r"
     ]
    },
    {
     "data": {
      "text/plain": [
       "23"
      ]
     },
     "execution_count": 91,
     "metadata": {},
     "output_type": "execute_result"
    }
   ],
   "source": [
    "co2.count()"
   ]
  },
  {
   "cell_type": "code",
   "execution_count": null,
   "id": "4a6501e7-c37c-4b39-8c15-569269b5c57c",
   "metadata": {},
   "outputs": [],
   "source": []
  },
  {
   "cell_type": "code",
   "execution_count": 47,
   "id": "ae4d0302-5d64-4edb-ae79-43a177734a99",
   "metadata": {},
   "outputs": [
    {
     "name": "stdout",
     "output_type": "stream",
     "text": [
      "22/09/16 20:11:55 WARN CacheManager: Asked to cache already cached data.\n",
      "22/09/16 20:11:55 WARN CacheManager: Asked to cache already cached data.\n"
     ]
    }
   ],
   "source": [
    "resampled = resample(os_hist, \"time\", sampling_s=60)\n",
    "resampled.cache()\n",
    "\n",
    "attribution = tick_to_attribution(resampled, fuel_consumption, aircrafts, s_between_ticks = 60)\n",
    "attribution_compared =  get_per_capita_emissions(attribution, country_co2_emissions)\n",
    "attribution_compared.cache()\n",
    "#ac = get_individually_owned(attribution_compared, aircrafts)\n",
    "countries_info = aircrafts.select(\"icao\", \"model\", \"icaotype\", \"country\", \"wiki_page\", \"alpha-2\", \n",
    "                              \"region\", \"sub-region\", \"intermediate-region\")\n",
    "ac_with_countries = attribution_compared.join(countries_info, on=\"icao\").dropDuplicates()"
   ]
  },
  {
   "cell_type": "code",
   "execution_count": 6,
   "id": "641e9438-5ed8-44e5-b12f-5d81f8800688",
   "metadata": {},
   "outputs": [
    {
     "name": "stderr",
     "output_type": "stream",
     "text": [
      "                                                                                \r"
     ]
    },
    {
     "data": {
      "text/plain": [
       "18289922"
      ]
     },
     "execution_count": 6,
     "metadata": {},
     "output_type": "execute_result"
    }
   ],
   "source": [
    "os_hist.count()"
   ]
  },
  {
   "cell_type": "code",
   "execution_count": 81,
   "id": "d9e4c842-9cd9-4d50-8dba-4007d9808b0c",
   "metadata": {},
   "outputs": [
    {
     "name": "stderr",
     "output_type": "stream",
     "text": [
      "                                                                                \r"
     ]
    },
    {
     "data": {
      "text/plain": [
       "27"
      ]
     },
     "execution_count": 81,
     "metadata": {},
     "output_type": "execute_result"
    }
   ],
   "source": [
    "attribution.count()"
   ]
  },
  {
   "cell_type": "code",
   "execution_count": 76,
   "id": "9972cbbc-843a-4904-9d44-0f3ce8129f5c",
   "metadata": {},
   "outputs": [
    {
     "name": "stderr",
     "output_type": "stream",
     "text": [
      "                                                                                \r"
     ]
    },
    {
     "data": {
      "text/plain": [
       "134765"
      ]
     },
     "execution_count": 76,
     "metadata": {},
     "output_type": "execute_result"
    }
   ],
   "source": [
    "countries_info.dropDuplicates().count()"
   ]
  },
  {
   "cell_type": "code",
   "execution_count": 10,
   "id": "ddb8371a-3a81-4a46-8ca6-bf157d548399",
   "metadata": {},
   "outputs": [
    {
     "name": "stderr",
     "output_type": "stream",
     "text": [
      "                                                                                \r"
     ]
    },
    {
     "data": {
      "text/plain": [
       "1220"
      ]
     },
     "execution_count": 10,
     "metadata": {},
     "output_type": "execute_result"
    }
   ],
   "source": [
    "ac_with_countries.count()"
   ]
  },
  {
   "cell_type": "code",
   "execution_count": 9,
   "id": "3148642f-e257-415b-97ed-292b920880c4",
   "metadata": {},
   "outputs": [
    {
     "name": "stderr",
     "output_type": "stream",
     "text": [
      "[Stage 128:>                                                        (0 + 1) / 1]\r"
     ]
    },
    {
     "name": "stdout",
     "output_type": "stream",
     "text": [
      "+------+--------------------+------------------+------------------+----------------------------+------------------+------------------+-----------------------+----------------------+------------------+-----------------+------------------+--------------------+--------+---------+--------------------+-------+--------+--------------------+-------------------+\n",
      "|  icao|               ownop|             air_h|          co2_tons|times_European Union (28)_yr|   times_Africa_yr|times_Argentina_yr|times_United Kingdom_yr|times_United States_yr|times_Australia_yr|   times_China_yr|    times_India_yr|               model|icaotype|  country|           wiki_page|alpha-2|  region|          sub-region|intermediate-region|\n",
      "+------+--------------------+------------------+------------------+----------------------------+------------------+------------------+-----------------------+----------------------+------------------+-----------------+------------------+--------------------+--------+---------+--------------------+-------+--------+--------------------+-------------------+\n",
      "|0d0772|   Alberto Bailleres|              11.3|59.997714247920776|           9.379039275898197| 55.70818407420685|16.033595469781073|     10.980547995593113|    3.7564308945605296|3.6479427401909637|8.200890411142806| 31.21629253273714|                null|    GLF6|   Mexico|                null|     MX|Americas|Latin America and...|    Central America|\n",
      "|344547|      Amancio Ortega|               5.8|30.795286959109777|           4.814020159310579|28.593581206230063| 8.229633072984976|      5.636033484463722|    1.9280795741992098| 1.872395388770583|4.209306582710467|16.022521830962425|                null|    GLF6|    Spain|https://en.wikipe...|     ES|  Europe|     Southern Europe|               null|\n",
      "|7c0528|RITCHIE, James Mo...|              2.35|              null|                        null|              null|              null|                   null|                  null|              null|             null|              null|               172RG|    C72R|Australia|                null|     AU| Oceania|Australia and New...|               null|\n",
      "|7c0631|MCTAGGART, Peter ...| 8.483333333333333|              null|                        null|              null|              null|                   null|                  null|              null|             null|              null|          PA-28R-201|    P28R|Australia|                null|     AU| Oceania|Australia and New...|               null|\n",
      "|7c0859| NASH, Bruce Russell|1.4666666666666666|              null|                        null|              null|              null|                   null|                  null|              null|             null|              null|          VAN'S RV-4|     RV4|Australia|                null|     AU| Oceania|Australia and New...|               null|\n",
      "|7c0b1d|  WERNER, David Ross|               3.9|              null|                        null|              null|              null|                   null|                  null|              null|             null|              null|                 S35|    BE35|Australia|                null|     AU| Oceania|Australia and New...|               null|\n",
      "|7c0d4f|KASSULKE, Justin ...|              1.45|              null|                        null|              null|              null|                   null|                  null|              null|             null|              null|          PA-28R-200|    P28R|Australia|                null|     AU| Oceania|Australia and New...|               null|\n",
      "|7c0fca|  KEANE, Glenn Barry|0.9666666666666667|              null|                        null|              null|              null|                   null|                  null|              null|             null|              null|              180/A1|    C180|Australia|                null|     AU| Oceania|Australia and New...|               null|\n",
      "|7c11dd|DIXON, Andrew Darren|1.3666666666666667|              null|                        null|              null|              null|                   null|                  null|              null|             null|              null|         PA-28RT-201|    P28T|Australia|                null|     AU| Oceania|Australia and New...|               null|\n",
      "|7c14c0|MCBURNIE, Shane D...|1.9666666666666666|              null|                        null|              null|              null|                   null|                  null|              null|             null|              null|               AA-1A|     AA1|Australia|                null|     AU| Oceania|Australia and New...|               null|\n",
      "|7c1a77|FABIAN, Mark Anthony|0.7833333333333333|              null|                        null|              null|              null|                   null|                  null|              null|             null|              null|          PA-34-200T|    PA34|Australia|                null|     AU| Oceania|Australia and New...|               null|\n",
      "|7c1a99|   HILL, David Edgar|               4.6|              null|                        null|              null|              null|                   null|                  null|              null|             null|              null|              35-C33|    BE33|Australia|                null|     AU| Oceania|Australia and New...|               null|\n",
      "|7c1c76|O'MEARA, Trevor John|              1.65|              null|                        null|              null|              null|                   null|                  null|              null|             null|              null|                 E33|    BE33|Australia|                null|     AU| Oceania|Australia and New...|               null|\n",
      "|7c1ce0|COBDEN, Daryl Arthur|1.3666666666666667|              null|                        null|              null|              null|                   null|                  null|              null|             null|              null|          VAN'S RV-7|     RV7|Australia|                null|     AU| Oceania|Australia and New...|               null|\n",
      "|7c1ed8|BAADE, Bruce Geof...|1.7333333333333334|              null|                        null|              null|              null|                   null|                  null|              null|             null|              null|                 A36|    BE36|Australia|                null|     AU| Oceania|Australia and New...|               null|\n",
      "|7c1fef|SPRIGG, Douglas P...|1.7666666666666666|              null|                        null|              null|              null|                   null|                  null|              null|             null|              null|         VAN'S RV-6A|     RV6|Australia|                null|     AU| Oceania|Australia and New...|               null|\n",
      "|7c2968|MCLEOD, Roderick ...|3.4833333333333334|              null|                        null|              null|              null|                   null|                  null|              null|             null|              null|           PA-23-250|    PA27|Australia|                null|     AU| Oceania|Australia and New...|               null|\n",
      "|7c298e|MCCARTHY, Gregory...|2.7333333333333334|              null|                        null|              null|              null|                   null|                  null|              null|             null|              null|         JABIRU J400|    JAB4|Australia|                null|     AU| Oceania|Australia and New...|               null|\n",
      "|7c29c8|ROBINSON, Stephen...|              2.15|              null|                        null|              null|              null|                   null|                  null|              null|             null|              null|STEFFENS PITTS S1...|    PTSS|Australia|                null|     AU| Oceania|Australia and New...|               null|\n",
      "|7c2a83|WHITEHOUSE, Danie...| 7.316666666666666|              null|                        null|              null|              null|                   null|                  null|              null|             null|              null|                 A36|    BE36|Australia|                null|     AU| Oceania|Australia and New...|               null|\n",
      "+------+--------------------+------------------+------------------+----------------------------+------------------+------------------+-----------------------+----------------------+------------------+-----------------+------------------+--------------------+--------+---------+--------------------+-------+--------+--------------------+-------------------+\n",
      "only showing top 20 rows\n",
      "\n"
     ]
    },
    {
     "name": "stderr",
     "output_type": "stream",
     "text": [
      "                                                                                \r"
     ]
    }
   ],
   "source": [
    "ac_with_countries.show()"
   ]
  },
  {
   "cell_type": "code",
   "execution_count": 11,
   "id": "b59b2809-8d7f-4c8b-b7f4-f87d04939293",
   "metadata": {},
   "outputs": [
    {
     "name": "stderr",
     "output_type": "stream",
     "text": [
      "                                                                                \r"
     ]
    }
   ],
   "source": [
    "df = ac_with_countries.toPandas()\n",
    "df.to_csv(\"export/attribution_co2.csv\", index=False)"
   ]
  },
  {
   "cell_type": "code",
   "execution_count": 12,
   "id": "42575349-1bf5-476a-a45e-3a584a22dbf6",
   "metadata": {},
   "outputs": [
    {
     "name": "stderr",
     "output_type": "stream",
     "text": [
      "                                                                                \r"
     ]
    },
    {
     "data": {
      "text/plain": [
       "1220"
      ]
     },
     "execution_count": 12,
     "metadata": {},
     "output_type": "execute_result"
    }
   ],
   "source": [
    "ac_with_countries.count()"
   ]
  },
  {
   "cell_type": "code",
   "execution_count": 26,
   "id": "49ccfa95-03e8-4bcc-933c-0366915ca2b5",
   "metadata": {},
   "outputs": [
    {
     "name": "stderr",
     "output_type": "stream",
     "text": [
      "                                                                                \r"
     ]
    }
   ],
   "source": [
    "followed_planes = [r.asDict()[\"icao\"] for r in ac.select(\"icao\").collect()]\n",
    "for icao in followed_planes:\n",
    "    df = resampled.where(f\"icao = '{icao}'\").toPandas()\n",
    "    df.to_csv(f\"export/trips_history/{icao}.csv\", index=False)"
   ]
  },
  {
   "cell_type": "code",
   "execution_count": 15,
   "id": "1db6bf1e-e5bb-41d6-aa25-89fcd7f494b0",
   "metadata": {
    "tags": []
   },
   "outputs": [
    {
     "name": "stderr",
     "output_type": "stream",
     "text": [
      "[Stage 224:>                                                        (0 + 1) / 1]\r"
     ]
    },
    {
     "name": "stdout",
     "output_type": "stream",
     "text": [
      "+---+--------+-------+----+--------+------------+---+-----+----------+----+-------------+---------+----------+-------+---------+-----+--------+-------+-------+------+----------+-------------------+\n",
      "|reg|faa_ladd|faa_pia|icao|icaotype|manufacturer|mil|model|short_type|year|ownop_country|known_for|ownop_type|sources|wiki_page|ownop|reg_code|country|alpha-2|region|sub-region|intermediate-region|\n",
      "+---+--------+-------+----+--------+------------+---+-----+----------+----+-------------+---------+----------+-------+---------+-----+--------+-------+-------+------+----------+-------------------+\n",
      "+---+--------+-------+----+--------+------------+---+-----+----------+----+-------------+---------+----------+-------+---------+-----+--------+-------+-------+------+----------+-------------------+\n",
      "\n"
     ]
    },
    {
     "name": "stderr",
     "output_type": "stream",
     "text": [
      "                                                                                \r"
     ]
    }
   ],
   "source": [
    "aircrafts.where(\"ownop like 'Elo%'\").show()"
   ]
  },
  {
   "cell_type": "code",
   "execution_count": 57,
   "id": "6a7f0a23-b294-4228-a87c-91fd4f21f89c",
   "metadata": {},
   "outputs": [
    {
     "data": {
      "text/plain": [
       "array(['Guam', 'Mexico', 'Spain', 'Canada', 'United Arab Emirates',\n",
       "       'Liechtenstein', 'Switzerland', 'Italy', 'Argentina',\n",
       "       'Equatorial Guinea', 'Netherlands', 'Isle of Man'], dtype=object)"
      ]
     },
     "execution_count": 57,
     "metadata": {},
     "output_type": "execute_result"
    }
   ],
   "source": [
    "df.country.unique()"
   ]
  },
  {
   "cell_type": "code",
   "execution_count": 58,
   "id": "c042ef3f-b332-464b-97b6-abc6bdade7c5",
   "metadata": {},
   "outputs": [
    {
     "data": {
      "text/plain": [
       "190"
      ]
     },
     "execution_count": 58,
     "metadata": {},
     "output_type": "execute_result"
    }
   ],
   "source": [
    "len(df.index)"
   ]
  },
  {
   "cell_type": "code",
   "execution_count": 21,
   "id": "74a50f22",
   "metadata": {},
   "outputs": [
    {
     "name": "stdout",
     "output_type": "stream",
     "text": [
      "22/09/24 19:04:24 WARN BasicWriteTaskStatsTracker: Expected 1 files, but only saw 0. This could be due to the output format not writing empty files, or files being not immediately visible in the filesystem.\n",
      "22/09/24 19:04:24 ERROR Utils: Uncaught exception in thread Executor task launch worker for task 25.0 in stage 8.0 (TID 1959)\n",
      "java.lang.NullPointerException\n",
      "\tat org.apache.spark.scheduler.Task.$anonfun$run$3(Task.scala:157)\n",
      "\tat org.apache.spark.util.Utils$.tryLogNonFatalError(Utils.scala:1484)\n",
      "\tat org.apache.spark.scheduler.Task.run(Task.scala:155)\n",
      "\tat org.apache.spark.executor.Executor$TaskRunner.$anonfun$run$3(Executor.scala:548)\n",
      "\tat org.apache.spark.util.Utils$.tryWithSafeFinally(Utils.scala:1504)\n",
      "\tat org.apache.spark.executor.Executor$TaskRunner.run(Executor.scala:551)\n",
      "\tat java.base/java.util.concurrent.ThreadPoolExecutor.runWorker(ThreadPoolExecutor.java:1128)\n",
      "\tat java.base/java.util.concurrent.ThreadPoolExecutor$Worker.run(ThreadPoolExecutor.java:628)\n",
      "\tat java.base/java.lang.Thread.run(Thread.java:829)\n",
      "22/09/24 19:04:51 WARN BasicWriteTaskStatsTracker: Expected 1 files, but only saw 0. This could be due to the output format not writing empty files, or files being not immediately visible in the filesystem.\n",
      "22/09/24 19:04:51 ERROR Utils: Uncaught exception in thread Executor task launch worker for task 13.0 in stage 8.0 (TID 1947)\n",
      "java.lang.NullPointerException\n",
      "\tat org.apache.spark.scheduler.Task.$anonfun$run$3(Task.scala:157)\n",
      "\tat org.apache.spark.util.Utils$.tryLogNonFatalError(Utils.scala:1484)\n",
      "\tat org.apache.spark.scheduler.Task.run(Task.scala:155)\n",
      "\tat org.apache.spark.executor.Executor$TaskRunner.$anonfun$run$3(Executor.scala:548)\n",
      "\tat org.apache.spark.util.Utils$.tryWithSafeFinally(Utils.scala:1504)\n",
      "\tat org.apache.spark.executor.Executor$TaskRunner.run(Executor.scala:551)\n",
      "\tat java.base/java.util.concurrent.ThreadPoolExecutor.runWorker(ThreadPoolExecutor.java:1128)\n",
      "\tat java.base/java.util.concurrent.ThreadPoolExecutor$Worker.run(ThreadPoolExecutor.java:628)\n",
      "\tat java.base/java.lang.Thread.run(Thread.java:829)\n"
     ]
    }
   ],
   "source": [
    "spark.stop()"
   ]
  },
  {
   "cell_type": "code",
   "execution_count": 48,
   "id": "90b2325e-c64b-484a-a22d-fa4cfc3338c5",
   "metadata": {},
   "outputs": [
    {
     "data": {
      "text/plain": [
       "DataFrame[reg: string, faa_ladd: boolean, faa_pia: boolean, icao: string, icaotype: string, manufacturer: string, mil: boolean, model: string, short_type: string, year: string, country: string, known_for: array<string>, ownop_type: string, sources: array<string>, wiki_page: string, ownop: string, reg_code: string, country: string, alpha-2: string, region: string, sub-region: string, intermediate-region: string]"
      ]
     },
     "execution_count": 48,
     "metadata": {},
     "output_type": "execute_result"
    }
   ],
   "source": [
    "aircrafts"
   ]
  },
  {
   "cell_type": "code",
   "execution_count": null,
   "id": "4d44a04b-7131-4468-8f60-3ebc8ae353e8",
   "metadata": {},
   "outputs": [],
   "source": []
  }
 ],
 "metadata": {
  "kernelspec": {
   "display_name": "greenwashing",
   "language": "python",
   "name": "greenwashing"
  },
  "language_info": {
   "codemirror_mode": {
    "name": "ipython",
    "version": 3
   },
   "file_extension": ".py",
   "mimetype": "text/x-python",
   "name": "python",
   "nbconvert_exporter": "python",
   "pygments_lexer": "ipython3",
   "version": "3.9.7"
  }
 },
 "nbformat": 4,
 "nbformat_minor": 5
}
